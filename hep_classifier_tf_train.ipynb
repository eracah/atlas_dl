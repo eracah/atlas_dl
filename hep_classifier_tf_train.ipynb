{
 "cells": [
  {
   "cell_type": "code",
   "execution_count": 4,
   "metadata": {
    "collapsed": false
   },
   "outputs": [],
   "source": [
    "#os stuff\n",
    "import os\n",
    "import sys\n",
    "import h5py as h5\n",
    "\n",
    "#numpy\n",
    "import numpy as np\n",
    "\n",
    "#tensorflow\n",
    "import tensorflow as tf\n",
    "import tensorflow.contrib.keras as tfk\n",
    "\n",
    "from scripts.nbfinder import NotebookFinder\n",
    "sys.meta_path.append(NotebookFinder())\n",
    "import notebooks.networks.binary_classifier_tf as bc"
   ]
  },
  {
   "cell_type": "markdown",
   "metadata": {},
   "source": [
    "# Network Parameters"
   ]
  },
  {
   "cell_type": "code",
   "execution_count": 5,
   "metadata": {
    "collapsed": false
   },
   "outputs": [],
   "source": [
    "args={'input_shape': [None, 64, 64, 1], \n",
    "                      'save_interval': 5,\n",
    "                      'learning_rate': 1.e-6, \n",
    "                      'dropout_p': 0.5, \n",
    "                      'weight_decay': 0, #0.0001, \n",
    "                      'num_fc_units': 512,\n",
    "                      'num_layers': 3,\n",
    "                      'momentum': 0.9,\n",
    "                      'num_epochs': 200,\n",
    "                      'train_batch_size': 512, #480\n",
    "                      'validation_batch_size': 320, #480\n",
    "                      'batch_norm': True,\n",
    "                      'conv_params': dict(num_filters=128, \n",
    "                                       filter_size=3, padding='SAME', \n",
    "                                       activation=tf.nn.relu, \n",
    "                                       initializer=tfk.initializers.he_normal())\n",
    "                     }"
   ]
  },
  {
   "cell_type": "markdown",
   "metadata": {},
   "source": [
    "## Build Network and Functions"
   ]
  },
  {
   "cell_type": "code",
   "execution_count": 6,
   "metadata": {
    "collapsed": false
   },
   "outputs": [
    {
     "name": "stdout",
     "output_type": "stream",
     "text": [
      "Building model\n"
     ]
    }
   ],
   "source": [
    "print(\"Building model\")\n",
    "variables, network = bc.build_cnn_model(args)\n",
    "pred_fn, loss_fn, accuracy_fn, auc_fn = bc.build_functions(variables, network)"
   ]
  },
  {
   "cell_type": "markdown",
   "metadata": {},
   "source": [
    "## Setup Iterators"
   ]
  },
  {
   "cell_type": "code",
   "execution_count": 7,
   "metadata": {
    "collapsed": false
   },
   "outputs": [
    {
     "name": "stdout",
     "output_type": "stream",
     "text": [
      "Setting up iterators\n"
     ]
    }
   ],
   "source": [
    "#path\n",
    "print(\"Setting up iterators\")\n",
    "inputpath = '/global/cscratch1/sd/tkurth/atlas_dl/data_delphes_final_64x64'\n",
    "logpath = '/project/projectdirs/mpccc/tkurth/MANTISSA-HEP/atlas_dl/temp/tensorflow_logs'\n",
    "modelpath = '/project/projectdirs/mpccc/tkurth/MANTISSA-HEP/atlas_dl/temp/tensorflow_models'\n",
    "#training files\n",
    "trainfiles = [inputpath+'/'+x for x in os.listdir(inputpath) if x.startswith('hep_train') and x.endswith('.hdf5')]\n",
    "trainset=bc.DataSet(trainfiles[0:20])\n",
    "#validation files\n",
    "validationfiles = [inputpath+'/'+x for x in os.listdir(inputpath) if x.startswith('hep_valid') and x.endswith('.hdf5')]\n",
    "validationset=bc.DataSet(validationfiles[0:20])"
   ]
  },
  {
   "cell_type": "markdown",
   "metadata": {},
   "source": [
    "# Train Model"
   ]
  },
  {
   "cell_type": "code",
   "execution_count": null,
   "metadata": {
    "collapsed": false
   },
   "outputs": [
    {
     "name": "stdout",
     "output_type": "stream",
     "text": [
      "Start training\n"
     ]
    }
   ],
   "source": [
    "#initialize session\n",
    "print(\"Start training\")\n",
    "with tf.Session() as sess:\n",
    "\n",
    "    #train on training loss\n",
    "    train_step = tf.train.AdamOptimizer(args['learning_rate']).minimize(loss_fn)\n",
    "\n",
    "    #create summaries\n",
    "    var_summary = []\n",
    "    for item in variables:\n",
    "        var_summary.append(tf.summary.histogram(item,variables[item]))\n",
    "        #if item.startswith('conv'):\n",
    "        #    #add additional image feature maps\n",
    "        #    for i in range(variables_dict.shape[])\n",
    "        #    tf.summary.image()\n",
    "    summary_loss = tf.summary.scalar(\"loss\",loss_fn)\n",
    "    summary_accuracy = tf.summary.scalar(\"accuracy\",accuracy_fn)\n",
    "    train_summary = tf.summary.merge([summary_loss]+var_summary)\n",
    "    validation_summary = tf.summary.merge([summary_loss])\n",
    "    train_writer = tf.summary.FileWriter(logpath+'/hep_classifier_log', sess.graph)\n",
    "    \n",
    "    # Add an op to initialize the variables.\n",
    "    init_global_op = tf.global_variables_initializer()\n",
    "    init_local_op = tf.local_variables_initializer()\n",
    "    \n",
    "    #saver class:\n",
    "    model_saver = tf.train.Saver()\n",
    "    \n",
    "    #initialize variables\n",
    "    sess.run([init_global_op,init_local_op])\n",
    "    \n",
    "    #counter stuff\n",
    "    epochs_completed=0\n",
    "    trainset.reset()\n",
    "    validationset.reset()\n",
    "    train_loss=0.\n",
    "    train_batches=0\n",
    "    total_batches=0\n",
    "    \n",
    "    #do training\n",
    "    while epochs_completed < args['num_epochs']:\n",
    "        \n",
    "        #increment total batch counter\n",
    "        total_batches+=1\n",
    "        \n",
    "        #get next batch\n",
    "        images,labels,normweights,_ = trainset.next_batch(args['train_batch_size'])  \n",
    "    \n",
    "        #update weights\n",
    "        _, summary, tmp_loss = sess.run([train_step, train_summary, loss_fn],\n",
    "                                           feed_dict={variables['images_']: images, \n",
    "                                              variables['labels_']: labels, \n",
    "                                              variables['weights_']: normweights, \n",
    "                                              variables['keep_prob_']: args['dropout_p']})\n",
    "        \n",
    "        #add to summary\n",
    "        train_writer.add_summary(summary, total_batches)\n",
    "        \n",
    "        #increment train loss and batch number\n",
    "        train_loss += tmp_loss\n",
    "        train_batches += 1\n",
    "\n",
    "        #check if epoch is done\n",
    "        if trainset._epochs_completed>epochs_completed:\n",
    "            epochs_completed=trainset._epochs_completed\n",
    "            print(\"epoch %d, average training loss %g\"%(epochs_completed, train_loss/float(train_batches)))\n",
    "            train_loss=0.\n",
    "            train_batches=0\n",
    "            \n",
    "            #compute validation loss:\n",
    "            #reset variables\n",
    "            validation_loss=0.\n",
    "            validation_batches=0\n",
    "            sess.run(init_local_op)\n",
    "            \n",
    "            all_labels=[]\n",
    "            all_weights=[]\n",
    "            all_pred=[]\n",
    "            \n",
    "            #iterate over batches\n",
    "            while True:\n",
    "                #get next batch\n",
    "                images,labels,normweights,weights = validationset.next_batch(args['validation_batch_size'])\n",
    "                #compute loss\n",
    "                summary, tmp_loss=sess.run([validation_summary,loss_fn],\n",
    "                                            feed_dict={variables['images_']: images, \n",
    "                                                        variables['labels_']: labels, \n",
    "                                                        variables['weights_']: normweights, \n",
    "                                                        variables['keep_prob_']: 1.0})\n",
    "                \n",
    "                #add loss\n",
    "                validation_loss += tmp_loss\n",
    "                validation_batches += 1\n",
    "                \n",
    "                #update accuracy\n",
    "                sess.run(accuracy_fn[1],feed_dict={variables['images_']: images, \n",
    "                                                    variables['labels_']: labels, \n",
    "                                                    variables['weights_']: weights, \n",
    "                                                    variables['keep_prob_']: 1.0})\n",
    "                \n",
    "                #update auc\n",
    "                sess.run(auc_fn[1],feed_dict={variables['images_']: images, \n",
    "                                              variables['labels_']: labels, \n",
    "                                              variables['weights_']: weights, \n",
    "                                              variables['keep_prob_']: 1.0})\n",
    "                \n",
    "                #debugging\n",
    "                #pred = sess.run(pred_fn,\n",
    "                #                feed_dict={variables['images_']: images, \n",
    "                #                            variables['labels_']: labels, \n",
    "                #                            variables['weights_']: weights, \n",
    "                #                            variables['keep_prob_']: 1.0})\n",
    "                #all_labels.append(labels)\n",
    "                #all_weights.append(weights)\n",
    "                #all_pred.append(pred[:,1])\n",
    "                \n",
    "                #check if full pass done\n",
    "                if validationset._epochs_completed>0:\n",
    "                    validationset.reset()\n",
    "                    break\n",
    "                    \n",
    "            \n",
    "            #sklearn ROC\n",
    "            #all_labels = np.concatenate(all_labels,axis=0).flatten()\n",
    "            #all_pred = np.concatenate(all_pred,axis=0).flatten()\n",
    "            #all_weights = np.concatenate(all_weights,axis=0).flatten()\n",
    "            #fpr, tpr, thresholds = metrics.roc_curve(all_labels, all_pred, pos_label=1, sample_weight=all_weights)\n",
    "            #print(\"epoch %d, sklearn AUC %g\"%(epochs_completed,metrics.auc(fpr,tpr,reorder=True)))\n",
    "            \n",
    "            print(\"epoch %d, average validation loss %g\"%(epochs_completed, validation_loss/float(validation_batches)))\n",
    "            validation_accuracy = sess.run(accuracy_fn[0])\n",
    "            print(\"epoch %d, average validation accu %g\"%(epochs_completed, validation_accuracy))\n",
    "            validation_auc = sess.run(auc_fn[0])\n",
    "            print(\"epoch %d, average validation auc %g\"%(epochs_completed, validation_auc))\n",
    "            \n",
    "            # Save the variables to disk.\n",
    "            if epochs_completed%args['save_interval']==0:\n",
    "                model_save_path = model_saver.save(sess, modelpath+'/hep_classifier_tfmodel_epoch_'+str(epochs_completed)+'.ckpt')\n",
    "                print 'Model saved in file: %s'%model_save_path"
   ]
  },
  {
   "cell_type": "code",
   "execution_count": null,
   "metadata": {
    "collapsed": true
   },
   "outputs": [],
   "source": []
  }
 ],
 "metadata": {
  "anaconda-cloud": {},
  "kernelspec": {
   "display_name": "thorstendl",
   "language": "python",
   "name": "thorstendl"
  },
  "language_info": {
   "codemirror_mode": {
    "name": "ipython",
    "version": 2
   },
   "file_extension": ".py",
   "mimetype": "text/x-python",
   "name": "python",
   "nbconvert_exporter": "python",
   "pygments_lexer": "ipython2",
   "version": "2.7.12"
  }
 },
 "nbformat": 4,
 "nbformat_minor": 2
}
