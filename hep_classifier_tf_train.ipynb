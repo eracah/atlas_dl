{
 "cells": [
  {
   "cell_type": "code",
   "execution_count": 1,
   "metadata": {
    "collapsed": false
   },
   "outputs": [
    {
     "name": "stdout",
     "output_type": "stream",
     "text": [
      "importing Jupyter notebook from notebooks/networks/binary_classifier_tf.ipynb\n"
     ]
    }
   ],
   "source": [
    "#os stuff\n",
    "import os\n",
    "import sys\n",
    "import h5py as h5\n",
    "import re\n",
    "\n",
    "#timing\n",
    "import time\n",
    "\n",
    "#numpy\n",
    "import numpy as np\n",
    "\n",
    "#tensorflow\n",
    "import tensorflow as tf\n",
    "import tensorflow.contrib.keras as tfk\n",
    "\n",
    "#housekeeping\n",
    "from scripts.nbfinder import NotebookFinder\n",
    "sys.meta_path.append(NotebookFinder())\n",
    "import notebooks.networks.binary_classifier_tf as bc"
   ]
  },
  {
   "cell_type": "markdown",
   "metadata": {},
   "source": [
    "# Network Parameters"
   ]
  },
  {
   "cell_type": "code",
   "execution_count": 2,
   "metadata": {
    "collapsed": false
   },
   "outputs": [],
   "source": [
    "args={'input_shape': [None, 1, 64, 64], \n",
    "                      'arch' : 'hsw',\n",
    "                      'display_interval': 10,\n",
    "                      'save_interval': 1,\n",
    "                      'learning_rate': 1.e-5, \n",
    "                      'dropout_p': 0.5, \n",
    "                      'weight_decay': 0, #0.0001, \n",
    "                      'num_fc_units': 512,\n",
    "                      'num_layers': 3,\n",
    "                      'momentum': 0.9,\n",
    "                      'num_epochs': 200,\n",
    "                      'train_batch_size': 512, #480\n",
    "                      'validation_batch_size': 320, #480\n",
    "                      'batch_norm': True,\n",
    "                      'time': True,\n",
    "                      'conv_params': dict(num_filters=128, \n",
    "                                       filter_size=3, padding='SAME', \n",
    "                                       activation=tf.nn.relu, \n",
    "                                       initializer=tfk.initializers.he_normal())\n",
    "                     }"
   ]
  },
  {
   "cell_type": "markdown",
   "metadata": {},
   "source": [
    "## Build Network and Functions"
   ]
  },
  {
   "cell_type": "code",
   "execution_count": 3,
   "metadata": {
    "collapsed": false
   },
   "outputs": [
    {
     "name": "stdout",
     "output_type": "stream",
     "text": [
      "Building model\n"
     ]
    }
   ],
   "source": [
    "print(\"Building model\")\n",
    "variables, network = bc.build_cnn_model(args)\n",
    "pred_fn, loss_fn, accuracy_fn, auc_fn = bc.build_functions(variables, network)\n",
    "tf.add_to_collection('pred_fn', pred_fn)\n",
    "tf.add_to_collection('loss_fn', loss_fn)"
   ]
  },
  {
   "cell_type": "code",
   "execution_count": 4,
   "metadata": {
    "collapsed": false
   },
   "outputs": [
    {
     "name": "stdout",
     "output_type": "stream",
     "text": [
      "{'bn2_g': <tf.Variable 'bn2_g:0' shape=(128, 32, 32) dtype=float32_ref>, 'images_': <tf.Tensor 'Placeholder:0' shape=(?, 1, 64, 64) dtype=float32>, 'bn1_m': <tf.Variable 'bn1_m:0' shape=(128, 64, 64) dtype=float32_ref>, 'bn2_m': <tf.Variable 'bn2_m:0' shape=(128, 32, 32) dtype=float32_ref>, 'bn1_g': <tf.Variable 'bn1_g:0' shape=(128, 64, 64) dtype=float32_ref>, 'bn2_s': <tf.Variable 'bn2_s:0' shape=(128, 32, 32) dtype=float32_ref>, 'bn2_b': <tf.Variable 'bn2_b:0' shape=(128, 32, 32) dtype=float32_ref>, 'bn1_s': <tf.Variable 'bn1_s:0' shape=(128, 64, 64) dtype=float32_ref>, 'keep_prob_': <tf.Tensor 'Placeholder_1:0' shape=<unknown> dtype=float32>, 'fc2_w': <tf.Variable 'fc2_w:0' shape=(512, 2) dtype=float32_ref>, 'fc1_b': <tf.Variable 'fc1_b:0' shape=(512,) dtype=float32_ref>, 'fc2_b': <tf.Variable 'fc2_b:0' shape=(2,) dtype=float32_ref>, 'fc1_w': <tf.Variable 'fc1_w:0' shape=(8192, 512) dtype=float32_ref>, 'labels_': <tf.Tensor 'Placeholder_2:0' shape=(?, 1) dtype=int32>, 'bn1_b': <tf.Variable 'bn1_b:0' shape=(128, 64, 64) dtype=float32_ref>, 'weights_': <tf.Tensor 'Placeholder_3:0' shape=(?, 1) dtype=float32>, 'conv1_w': <tf.Variable 'conv1_w:0' shape=(3, 3, 1, 128) dtype=float32_ref>, 'bn3_s': <tf.Variable 'bn3_s:0' shape=(128, 16, 16) dtype=float32_ref>, 'conv3_w': <tf.Variable 'conv3_w:0' shape=(3, 3, 128, 128) dtype=float32_ref>, 'bn3_m': <tf.Variable 'bn3_m:0' shape=(128, 16, 16) dtype=float32_ref>, 'bn3_g': <tf.Variable 'bn3_g:0' shape=(128, 16, 16) dtype=float32_ref>, 'conv2_w': <tf.Variable 'conv2_w:0' shape=(3, 3, 128, 128) dtype=float32_ref>, 'bn3_b': <tf.Variable 'bn3_b:0' shape=(128, 16, 16) dtype=float32_ref>}\n",
      "[<tf.Tensor 'input:0' shape=(?, 1, 64, 64) dtype=float32>, <tf.Tensor 'conv1:0' shape=(?, 128, 64, 64) dtype=float32>, <tf.Tensor 'bn1/add_1:0' shape=(?, 128, 64, 64) dtype=float32>, <tf.Tensor 'Relu:0' shape=(?, 128, 64, 64) dtype=float32>, <tf.Tensor 'maxpool1:0' shape=(?, 128, 32, 32) dtype=float32>, <tf.Tensor 'drop1/mul:0' shape=(?, 128, 32, 32) dtype=float32>, <tf.Tensor 'conv2:0' shape=(?, 128, 32, 32) dtype=float32>, <tf.Tensor 'bn2/add_1:0' shape=(?, 128, 32, 32) dtype=float32>, <tf.Tensor 'Relu_1:0' shape=(?, 128, 32, 32) dtype=float32>, <tf.Tensor 'maxpool2:0' shape=(?, 128, 16, 16) dtype=float32>, <tf.Tensor 'drop2/mul:0' shape=(?, 128, 16, 16) dtype=float32>, <tf.Tensor 'conv3:0' shape=(?, 128, 16, 16) dtype=float32>, <tf.Tensor 'bn3/add_1:0' shape=(?, 128, 16, 16) dtype=float32>, <tf.Tensor 'Relu_2:0' shape=(?, 128, 16, 16) dtype=float32>, <tf.Tensor 'maxpool3:0' shape=(?, 128, 8, 8) dtype=float32>, <tf.Tensor 'drop3/mul:0' shape=(?, 128, 8, 8) dtype=float32>, <tf.Tensor 'flatten:0' shape=(?, 8192) dtype=float32>, <tf.Tensor 'add:0' shape=(?, 512) dtype=float32>, <tf.Tensor 'Relu_3:0' shape=(?, 512) dtype=float32>, <tf.Tensor 'drop3_1/mul:0' shape=(?, 512) dtype=float32>, <tf.Tensor 'add_1:0' shape=(?, 2) dtype=float32>, <tf.Tensor 'Softmax:0' shape=(?, 2) dtype=float32>]\n"
     ]
    }
   ],
   "source": [
    "print variables\n",
    "print network"
   ]
  },
  {
   "cell_type": "markdown",
   "metadata": {},
   "source": [
    "## Setup Iterators"
   ]
  },
  {
   "cell_type": "markdown",
   "metadata": {},
   "source": [
    "### My Files"
   ]
  },
  {
   "cell_type": "code",
   "execution_count": 5,
   "metadata": {
    "collapsed": false
   },
   "outputs": [],
   "source": [
    "if False:\n",
    "    print(\"Setting up iterators\")\n",
    "    #paths\n",
    "    inputpath = '/global/cscratch1/sd/tkurth/atlas_dl/data_delphes_final_64x64'\n",
    "    logpath = '/project/projectdirs/mpccc/tkurth/MANTISSA-HEP/atlas_dl/temp/tensorflow_logs/hep_classifier_log'\n",
    "    modelpath = '/project/projectdirs/mpccc/tkurth/MANTISSA-HEP/atlas_dl/temp/tensorflow_models/hep_classifier_models'\n",
    "    #training files\n",
    "    trainfiles = [inputpath+'/'+x for x in os.listdir(inputpath) if x.startswith('hep_train') and x.endswith('.hdf5')]\n",
    "    trainset=bc.DataSet(trainfiles[0:20])\n",
    "    #validation files\n",
    "    validationfiles = [inputpath+'/'+x for x in os.listdir(inputpath) if x.startswith('hep_valid') and x.endswith('.hdf5')]\n",
    "    validationset = bc.DataSet(validationfiles[0:20])"
   ]
  },
  {
   "cell_type": "markdown",
   "metadata": {},
   "source": [
    "### Evans Files"
   ]
  },
  {
   "cell_type": "code",
   "execution_count": 6,
   "metadata": {
    "collapsed": false
   },
   "outputs": [
    {
     "name": "stdout",
     "output_type": "stream",
     "text": [
      "Setting up iterators\n"
     ]
    }
   ],
   "source": [
    "if True:\n",
    "    print(\"Setting up iterators\")\n",
    "    #paths\n",
    "    inputpath = '/global/cscratch1/sd/wbhimji/delphes_combined_64imageNoPU'\n",
    "    logpath = '/project/projectdirs/mpccc/tkurth/MANTISSA-HEP/atlas_dl/temp/tensorflow_logs/hep_classifier_log'\n",
    "    modelpath = '/project/projectdirs/mpccc/tkurth/MANTISSA-HEP/atlas_dl/temp/tensorflow_models/hep_classifier_models'\n",
    "    #training files\n",
    "    trainfiles = [inputpath+'/'+x for x in os.listdir(inputpath) if x.startswith('train_') and x.endswith('.h5')]\n",
    "    trainset=bc.DataSetEvan(trainfiles)\n",
    "    #validation files\n",
    "    validationfiles = [inputpath+'/'+x for x in os.listdir(inputpath) if x.startswith('val_') and x.endswith('.h5')]\n",
    "    validationset = bc.DataSetEvan(validationfiles)"
   ]
  },
  {
   "cell_type": "markdown",
   "metadata": {},
   "source": [
    "# Train Model"
   ]
  },
  {
   "cell_type": "code",
   "execution_count": 7,
   "metadata": {
    "collapsed": false
   },
   "outputs": [
    {
     "name": "stdout",
     "output_type": "stream",
     "text": [
      "('Using ', 2, '-way task parallelism with ', 16, '-way data parallelism.')\n"
     ]
    }
   ],
   "source": [
    "arch=args['arch']\n",
    "\n",
    "#common stuff\n",
    "os.environ[\"KMP_BLOCKTIME\"] = \"1\"\n",
    "os.environ[\"KMP_SETTINGS\"] = \"1\"\n",
    "os.environ[\"KMP_AFFINITY\"]= \"granularity=fine,verbose,compact,1,0\"\n",
    "\n",
    "#arch-specific stuff\n",
    "if arch=='hsw':\n",
    "    num_inter_threads = 2\n",
    "    num_intra_threads = 16\n",
    "elif arch=='knl':\n",
    "    num_inter_threads = 2\n",
    "    num_intra_threads = 66\n",
    "elif arch=='k80':\n",
    "    num_inter_threads = -1\n",
    "    num_intra_threads = -1\n",
    "else:\n",
    "    raise ValueError('Please specify a valid architecture with arch (allowed values: hsw, knl.)')\n",
    "\n",
    "#set the rest\n",
    "os.environ['OMP_NUM_THREADS'] = str(num_intra_threads)\n",
    "sess_config=tf.ConfigProto(inter_op_parallelism_threads=num_inter_threads,\n",
    "                           intra_op_parallelism_threads=num_intra_threads,\n",
    "                           allow_soft_placement=True, \n",
    "                           log_device_placement=True)\n",
    "\n",
    "print(\"Using \",num_inter_threads,\"-way task parallelism with \",num_intra_threads,\"-way data parallelism.\")"
   ]
  },
  {
   "cell_type": "code",
   "execution_count": 8,
   "metadata": {
    "collapsed": false
   },
   "outputs": [
    {
     "name": "stdout",
     "output_type": "stream",
     "text": [
      "/project/projectdirs/mpccc/tkurth/MANTISSA-HEP/atlas_dl/temp/tensorflow_models/hep_classifier_models_debug/hep_classifier_tfmodel_epoch_8.ckpt.meta\n"
     ]
    }
   ],
   "source": [
    "restart=False\n",
    "#determining which model to load:\n",
    "metafilelist = [modelpath+'/'+x for x in os.listdir(modelpath) if x.endswith('.meta')]\n",
    "if not metafilelist:\n",
    "    restart=True\n",
    "#metafilelist.sort()\n",
    "#metafile = metafilelist[-1]\n",
    "#checkpoint = metafile.replace(\".meta\",\"\")\n",
    "#print metafile\n",
    "#restart from scratch or restore?"
   ]
  },
  {
   "cell_type": "code",
   "execution_count": 9,
   "metadata": {
    "collapsed": false
   },
   "outputs": [
    {
     "name": "stdout",
     "output_type": "stream",
     "text": [
      "Start training\n",
      "Restoring model.\n",
      "INFO:tensorflow:Restoring parameters from /project/projectdirs/mpccc/tkurth/MANTISSA-HEP/atlas_dl/temp/tensorflow_models/hep_classifier_models/hep_classifier_tfmodel_epoch_8.ckpt\n"
     ]
    },
    {
     "ename": "InvalidArgumentError",
     "evalue": "Default MaxPoolingOp only supports NHWC.\n\t [[Node: maxpool1 = MaxPool[T=DT_FLOAT, data_format=\"NCHW\", ksize=[1, 1, 2, 2], padding=\"SAME\", strides=[1, 1, 2, 2], _device=\"/job:localhost/replica:0/task:0/cpu:0\"](Relu)]]\n\nCaused by op u'maxpool1', defined at:\n  File \"/global/homes/t/tkurth/.conda/envs/thorstendl/lib/python2.7/runpy.py\", line 174, in _run_module_as_main\n    \"__main__\", fname, loader, pkg_name)\n  File \"/global/homes/t/tkurth/.conda/envs/thorstendl/lib/python2.7/runpy.py\", line 72, in _run_code\n    exec code in run_globals\n  File \"/global/u2/t/tkurth/.conda/envs/thorstendl/lib/python2.7/site-packages/IPython/kernel/__main__.py\", line 3, in <module>\n    app.launch_new_instance()\n  File \"/global/homes/t/tkurth/.conda/envs/thorstendl/lib/python2.7/site-packages/traitlets/config/application.py\", line 658, in launch_instance\n    app.start()\n  File \"/global/homes/t/tkurth/.conda/envs/thorstendl/lib/python2.7/site-packages/ipykernel/kernelapp.py\", line 474, in start\n    ioloop.IOLoop.instance().start()\n  File \"/global/homes/t/tkurth/.conda/envs/thorstendl/lib/python2.7/site-packages/zmq/eventloop/ioloop.py\", line 177, in start\n    super(ZMQIOLoop, self).start()\n  File \"/global/homes/t/tkurth/.conda/envs/thorstendl/lib/python2.7/site-packages/tornado/ioloop.py\", line 887, in start\n    handler_func(fd_obj, events)\n  File \"/global/homes/t/tkurth/.conda/envs/thorstendl/lib/python2.7/site-packages/tornado/stack_context.py\", line 275, in null_wrapper\n    return fn(*args, **kwargs)\n  File \"/global/homes/t/tkurth/.conda/envs/thorstendl/lib/python2.7/site-packages/zmq/eventloop/zmqstream.py\", line 440, in _handle_events\n    self._handle_recv()\n  File \"/global/homes/t/tkurth/.conda/envs/thorstendl/lib/python2.7/site-packages/zmq/eventloop/zmqstream.py\", line 472, in _handle_recv\n    self._run_callback(callback, msg)\n  File \"/global/homes/t/tkurth/.conda/envs/thorstendl/lib/python2.7/site-packages/zmq/eventloop/zmqstream.py\", line 414, in _run_callback\n    callback(*args, **kwargs)\n  File \"/global/homes/t/tkurth/.conda/envs/thorstendl/lib/python2.7/site-packages/tornado/stack_context.py\", line 275, in null_wrapper\n    return fn(*args, **kwargs)\n  File \"/global/homes/t/tkurth/.conda/envs/thorstendl/lib/python2.7/site-packages/ipykernel/kernelbase.py\", line 276, in dispatcher\n    return self.dispatch_shell(stream, msg)\n  File \"/global/homes/t/tkurth/.conda/envs/thorstendl/lib/python2.7/site-packages/ipykernel/kernelbase.py\", line 228, in dispatch_shell\n    handler(stream, idents, msg)\n  File \"/global/homes/t/tkurth/.conda/envs/thorstendl/lib/python2.7/site-packages/ipykernel/kernelbase.py\", line 390, in execute_request\n    user_expressions, allow_stdin)\n  File \"/global/homes/t/tkurth/.conda/envs/thorstendl/lib/python2.7/site-packages/ipykernel/ipkernel.py\", line 196, in do_execute\n    res = shell.run_cell(code, store_history=store_history, silent=silent)\n  File \"/global/homes/t/tkurth/.conda/envs/thorstendl/lib/python2.7/site-packages/ipykernel/zmqshell.py\", line 501, in run_cell\n    return super(ZMQInteractiveShell, self).run_cell(*args, **kwargs)\n  File \"/global/homes/t/tkurth/.conda/envs/thorstendl/lib/python2.7/site-packages/IPython/core/interactiveshell.py\", line 2717, in run_cell\n    interactivity=interactivity, compiler=compiler, result=result)\n  File \"/global/homes/t/tkurth/.conda/envs/thorstendl/lib/python2.7/site-packages/IPython/core/interactiveshell.py\", line 2821, in run_ast_nodes\n    if self.run_code(code, result):\n  File \"/global/homes/t/tkurth/.conda/envs/thorstendl/lib/python2.7/site-packages/IPython/core/interactiveshell.py\", line 2881, in run_code\n    exec(code_obj, self.user_global_ns, self.user_ns)\n  File \"<ipython-input-3-2be599c03cba>\", line 2, in <module>\n    variables, network = bc.build_cnn_model(args)\n  File \"<string>\", line 80, in build_cnn_model\n  File \"/global/homes/t/tkurth/.conda/envs/thorstendl/lib/python2.7/site-packages/tensorflow/python/ops/nn_ops.py\", line 1821, in max_pool\n    name=name)\n  File \"/global/homes/t/tkurth/.conda/envs/thorstendl/lib/python2.7/site-packages/tensorflow/python/ops/gen_nn_ops.py\", line 1638, in _max_pool\n    data_format=data_format, name=name)\n  File \"/global/homes/t/tkurth/.conda/envs/thorstendl/lib/python2.7/site-packages/tensorflow/python/framework/op_def_library.py\", line 768, in apply_op\n    op_def=op_def)\n  File \"/global/homes/t/tkurth/.conda/envs/thorstendl/lib/python2.7/site-packages/tensorflow/python/framework/ops.py\", line 2336, in create_op\n    original_op=self._default_original_op, op_def=op_def)\n  File \"/global/homes/t/tkurth/.conda/envs/thorstendl/lib/python2.7/site-packages/tensorflow/python/framework/ops.py\", line 1228, in __init__\n    self._traceback = _extract_stack()\n\nInvalidArgumentError (see above for traceback): Default MaxPoolingOp only supports NHWC.\n\t [[Node: maxpool1 = MaxPool[T=DT_FLOAT, data_format=\"NCHW\", ksize=[1, 1, 2, 2], padding=\"SAME\", strides=[1, 1, 2, 2], _device=\"/job:localhost/replica:0/task:0/cpu:0\"](Relu)]]\n",
     "output_type": "error",
     "traceback": [
      "\u001b[0;31m\u001b[0m",
      "\u001b[0;31mInvalidArgumentError\u001b[0mTraceback (most recent call last)",
      "\u001b[0;32m<ipython-input-9-f38b9a3fd037>\u001b[0m in \u001b[0;36m<module>\u001b[0;34m()\u001b[0m\n\u001b[1;32m     61\u001b[0m                                               \u001b[0mvariables\u001b[0m\u001b[0;34m[\u001b[0m\u001b[0;34m'labels_'\u001b[0m\u001b[0;34m]\u001b[0m\u001b[0;34m:\u001b[0m \u001b[0mlabels\u001b[0m\u001b[0;34m,\u001b[0m\u001b[0;34m\u001b[0m\u001b[0m\n\u001b[1;32m     62\u001b[0m                                               \u001b[0mvariables\u001b[0m\u001b[0;34m[\u001b[0m\u001b[0;34m'weights_'\u001b[0m\u001b[0;34m]\u001b[0m\u001b[0;34m:\u001b[0m \u001b[0mnormweights\u001b[0m\u001b[0;34m,\u001b[0m\u001b[0;34m\u001b[0m\u001b[0m\n\u001b[0;32m---> 63\u001b[0;31m                                               variables['keep_prob_']: args['dropout_p']})\n\u001b[0m\u001b[1;32m     64\u001b[0m         \u001b[0mend_time\u001b[0m \u001b[0;34m=\u001b[0m \u001b[0mtime\u001b[0m\u001b[0;34m.\u001b[0m\u001b[0mtime\u001b[0m\u001b[0;34m(\u001b[0m\u001b[0;34m)\u001b[0m\u001b[0;34m\u001b[0m\u001b[0m\n\u001b[1;32m     65\u001b[0m         \u001b[0mtrain_time\u001b[0m \u001b[0;34m+=\u001b[0m \u001b[0mend_time\u001b[0m\u001b[0;34m-\u001b[0m\u001b[0mstart_time\u001b[0m\u001b[0;34m\u001b[0m\u001b[0m\n",
      "\u001b[0;32m/global/homes/t/tkurth/.conda/envs/thorstendl/lib/python2.7/site-packages/tensorflow/python/client/session.pyc\u001b[0m in \u001b[0;36mrun\u001b[0;34m(self, fetches, feed_dict, options, run_metadata)\u001b[0m\n\u001b[1;32m    776\u001b[0m     \u001b[0;32mtry\u001b[0m\u001b[0;34m:\u001b[0m\u001b[0;34m\u001b[0m\u001b[0m\n\u001b[1;32m    777\u001b[0m       result = self._run(None, fetches, feed_dict, options_ptr,\n\u001b[0;32m--> 778\u001b[0;31m                          run_metadata_ptr)\n\u001b[0m\u001b[1;32m    779\u001b[0m       \u001b[0;32mif\u001b[0m \u001b[0mrun_metadata\u001b[0m\u001b[0;34m:\u001b[0m\u001b[0;34m\u001b[0m\u001b[0m\n\u001b[1;32m    780\u001b[0m         \u001b[0mproto_data\u001b[0m \u001b[0;34m=\u001b[0m \u001b[0mtf_session\u001b[0m\u001b[0;34m.\u001b[0m\u001b[0mTF_GetBuffer\u001b[0m\u001b[0;34m(\u001b[0m\u001b[0mrun_metadata_ptr\u001b[0m\u001b[0;34m)\u001b[0m\u001b[0;34m\u001b[0m\u001b[0m\n",
      "\u001b[0;32m/global/homes/t/tkurth/.conda/envs/thorstendl/lib/python2.7/site-packages/tensorflow/python/client/session.pyc\u001b[0m in \u001b[0;36m_run\u001b[0;34m(self, handle, fetches, feed_dict, options, run_metadata)\u001b[0m\n\u001b[1;32m    980\u001b[0m     \u001b[0;32mif\u001b[0m \u001b[0mfinal_fetches\u001b[0m \u001b[0;32mor\u001b[0m \u001b[0mfinal_targets\u001b[0m\u001b[0;34m:\u001b[0m\u001b[0;34m\u001b[0m\u001b[0m\n\u001b[1;32m    981\u001b[0m       results = self._do_run(handle, final_targets, final_fetches,\n\u001b[0;32m--> 982\u001b[0;31m                              feed_dict_string, options, run_metadata)\n\u001b[0m\u001b[1;32m    983\u001b[0m     \u001b[0;32melse\u001b[0m\u001b[0;34m:\u001b[0m\u001b[0;34m\u001b[0m\u001b[0m\n\u001b[1;32m    984\u001b[0m       \u001b[0mresults\u001b[0m \u001b[0;34m=\u001b[0m \u001b[0;34m[\u001b[0m\u001b[0;34m]\u001b[0m\u001b[0;34m\u001b[0m\u001b[0m\n",
      "\u001b[0;32m/global/homes/t/tkurth/.conda/envs/thorstendl/lib/python2.7/site-packages/tensorflow/python/client/session.pyc\u001b[0m in \u001b[0;36m_do_run\u001b[0;34m(self, handle, target_list, fetch_list, feed_dict, options, run_metadata)\u001b[0m\n\u001b[1;32m   1030\u001b[0m     \u001b[0;32mif\u001b[0m \u001b[0mhandle\u001b[0m \u001b[0;32mis\u001b[0m \u001b[0mNone\u001b[0m\u001b[0;34m:\u001b[0m\u001b[0;34m\u001b[0m\u001b[0m\n\u001b[1;32m   1031\u001b[0m       return self._do_call(_run_fn, self._session, feed_dict, fetch_list,\n\u001b[0;32m-> 1032\u001b[0;31m                            target_list, options, run_metadata)\n\u001b[0m\u001b[1;32m   1033\u001b[0m     \u001b[0;32melse\u001b[0m\u001b[0;34m:\u001b[0m\u001b[0;34m\u001b[0m\u001b[0m\n\u001b[1;32m   1034\u001b[0m       return self._do_call(_prun_fn, self._session, handle, feed_dict,\n",
      "\u001b[0;32m/global/homes/t/tkurth/.conda/envs/thorstendl/lib/python2.7/site-packages/tensorflow/python/client/session.pyc\u001b[0m in \u001b[0;36m_do_call\u001b[0;34m(self, fn, *args)\u001b[0m\n\u001b[1;32m   1050\u001b[0m         \u001b[0;32mexcept\u001b[0m \u001b[0mKeyError\u001b[0m\u001b[0;34m:\u001b[0m\u001b[0;34m\u001b[0m\u001b[0m\n\u001b[1;32m   1051\u001b[0m           \u001b[0;32mpass\u001b[0m\u001b[0;34m\u001b[0m\u001b[0m\n\u001b[0;32m-> 1052\u001b[0;31m       \u001b[0;32mraise\u001b[0m \u001b[0mtype\u001b[0m\u001b[0;34m(\u001b[0m\u001b[0me\u001b[0m\u001b[0;34m)\u001b[0m\u001b[0;34m(\u001b[0m\u001b[0mnode_def\u001b[0m\u001b[0;34m,\u001b[0m \u001b[0mop\u001b[0m\u001b[0;34m,\u001b[0m \u001b[0mmessage\u001b[0m\u001b[0;34m)\u001b[0m\u001b[0;34m\u001b[0m\u001b[0m\n\u001b[0m\u001b[1;32m   1053\u001b[0m \u001b[0;34m\u001b[0m\u001b[0m\n\u001b[1;32m   1054\u001b[0m   \u001b[0;32mdef\u001b[0m \u001b[0m_extend_graph\u001b[0m\u001b[0;34m(\u001b[0m\u001b[0mself\u001b[0m\u001b[0;34m)\u001b[0m\u001b[0;34m:\u001b[0m\u001b[0;34m\u001b[0m\u001b[0m\n",
      "\u001b[0;31mInvalidArgumentError\u001b[0m: Default MaxPoolingOp only supports NHWC.\n\t [[Node: maxpool1 = MaxPool[T=DT_FLOAT, data_format=\"NCHW\", ksize=[1, 1, 2, 2], padding=\"SAME\", strides=[1, 1, 2, 2], _device=\"/job:localhost/replica:0/task:0/cpu:0\"](Relu)]]\n\nCaused by op u'maxpool1', defined at:\n  File \"/global/homes/t/tkurth/.conda/envs/thorstendl/lib/python2.7/runpy.py\", line 174, in _run_module_as_main\n    \"__main__\", fname, loader, pkg_name)\n  File \"/global/homes/t/tkurth/.conda/envs/thorstendl/lib/python2.7/runpy.py\", line 72, in _run_code\n    exec code in run_globals\n  File \"/global/u2/t/tkurth/.conda/envs/thorstendl/lib/python2.7/site-packages/IPython/kernel/__main__.py\", line 3, in <module>\n    app.launch_new_instance()\n  File \"/global/homes/t/tkurth/.conda/envs/thorstendl/lib/python2.7/site-packages/traitlets/config/application.py\", line 658, in launch_instance\n    app.start()\n  File \"/global/homes/t/tkurth/.conda/envs/thorstendl/lib/python2.7/site-packages/ipykernel/kernelapp.py\", line 474, in start\n    ioloop.IOLoop.instance().start()\n  File \"/global/homes/t/tkurth/.conda/envs/thorstendl/lib/python2.7/site-packages/zmq/eventloop/ioloop.py\", line 177, in start\n    super(ZMQIOLoop, self).start()\n  File \"/global/homes/t/tkurth/.conda/envs/thorstendl/lib/python2.7/site-packages/tornado/ioloop.py\", line 887, in start\n    handler_func(fd_obj, events)\n  File \"/global/homes/t/tkurth/.conda/envs/thorstendl/lib/python2.7/site-packages/tornado/stack_context.py\", line 275, in null_wrapper\n    return fn(*args, **kwargs)\n  File \"/global/homes/t/tkurth/.conda/envs/thorstendl/lib/python2.7/site-packages/zmq/eventloop/zmqstream.py\", line 440, in _handle_events\n    self._handle_recv()\n  File \"/global/homes/t/tkurth/.conda/envs/thorstendl/lib/python2.7/site-packages/zmq/eventloop/zmqstream.py\", line 472, in _handle_recv\n    self._run_callback(callback, msg)\n  File \"/global/homes/t/tkurth/.conda/envs/thorstendl/lib/python2.7/site-packages/zmq/eventloop/zmqstream.py\", line 414, in _run_callback\n    callback(*args, **kwargs)\n  File \"/global/homes/t/tkurth/.conda/envs/thorstendl/lib/python2.7/site-packages/tornado/stack_context.py\", line 275, in null_wrapper\n    return fn(*args, **kwargs)\n  File \"/global/homes/t/tkurth/.conda/envs/thorstendl/lib/python2.7/site-packages/ipykernel/kernelbase.py\", line 276, in dispatcher\n    return self.dispatch_shell(stream, msg)\n  File \"/global/homes/t/tkurth/.conda/envs/thorstendl/lib/python2.7/site-packages/ipykernel/kernelbase.py\", line 228, in dispatch_shell\n    handler(stream, idents, msg)\n  File \"/global/homes/t/tkurth/.conda/envs/thorstendl/lib/python2.7/site-packages/ipykernel/kernelbase.py\", line 390, in execute_request\n    user_expressions, allow_stdin)\n  File \"/global/homes/t/tkurth/.conda/envs/thorstendl/lib/python2.7/site-packages/ipykernel/ipkernel.py\", line 196, in do_execute\n    res = shell.run_cell(code, store_history=store_history, silent=silent)\n  File \"/global/homes/t/tkurth/.conda/envs/thorstendl/lib/python2.7/site-packages/ipykernel/zmqshell.py\", line 501, in run_cell\n    return super(ZMQInteractiveShell, self).run_cell(*args, **kwargs)\n  File \"/global/homes/t/tkurth/.conda/envs/thorstendl/lib/python2.7/site-packages/IPython/core/interactiveshell.py\", line 2717, in run_cell\n    interactivity=interactivity, compiler=compiler, result=result)\n  File \"/global/homes/t/tkurth/.conda/envs/thorstendl/lib/python2.7/site-packages/IPython/core/interactiveshell.py\", line 2821, in run_ast_nodes\n    if self.run_code(code, result):\n  File \"/global/homes/t/tkurth/.conda/envs/thorstendl/lib/python2.7/site-packages/IPython/core/interactiveshell.py\", line 2881, in run_code\n    exec(code_obj, self.user_global_ns, self.user_ns)\n  File \"<ipython-input-3-2be599c03cba>\", line 2, in <module>\n    variables, network = bc.build_cnn_model(args)\n  File \"<string>\", line 80, in build_cnn_model\n  File \"/global/homes/t/tkurth/.conda/envs/thorstendl/lib/python2.7/site-packages/tensorflow/python/ops/nn_ops.py\", line 1821, in max_pool\n    name=name)\n  File \"/global/homes/t/tkurth/.conda/envs/thorstendl/lib/python2.7/site-packages/tensorflow/python/ops/gen_nn_ops.py\", line 1638, in _max_pool\n    data_format=data_format, name=name)\n  File \"/global/homes/t/tkurth/.conda/envs/thorstendl/lib/python2.7/site-packages/tensorflow/python/framework/op_def_library.py\", line 768, in apply_op\n    op_def=op_def)\n  File \"/global/homes/t/tkurth/.conda/envs/thorstendl/lib/python2.7/site-packages/tensorflow/python/framework/ops.py\", line 2336, in create_op\n    original_op=self._default_original_op, op_def=op_def)\n  File \"/global/homes/t/tkurth/.conda/envs/thorstendl/lib/python2.7/site-packages/tensorflow/python/framework/ops.py\", line 1228, in __init__\n    self._traceback = _extract_stack()\n\nInvalidArgumentError (see above for traceback): Default MaxPoolingOp only supports NHWC.\n\t [[Node: maxpool1 = MaxPool[T=DT_FLOAT, data_format=\"NCHW\", ksize=[1, 1, 2, 2], padding=\"SAME\", strides=[1, 1, 2, 2], _device=\"/job:localhost/replica:0/task:0/cpu:0\"](Relu)]]\n"
     ]
    }
   ],
   "source": [
    "#initialize session\n",
    "print(\"Start training\")\n",
    "with tf.Session(config=sess_config) as sess:\n",
    "\n",
    "    #train on training loss\n",
    "    train_step = tf.train.AdamOptimizer(args['learning_rate']).minimize(loss_fn)\n",
    "\n",
    "    #create summaries\n",
    "    var_summary = []\n",
    "    for item in variables:\n",
    "        var_summary.append(tf.summary.histogram(item,variables[item]))\n",
    "        #if item.startswith('conv'):\n",
    "        #    #add additional image feature maps\n",
    "        #    for i in range(variables_dict.shape[])\n",
    "        #    tf.summary.image()\n",
    "    summary_loss = tf.summary.scalar(\"loss\",loss_fn)\n",
    "    summary_accuracy = tf.summary.scalar(\"accuracy\",accuracy_fn)\n",
    "    train_summary = tf.summary.merge([summary_loss]+var_summary)\n",
    "    validation_summary = tf.summary.merge([summary_loss])\n",
    "    train_writer = tf.summary.FileWriter(logpath, sess.graph)\n",
    "    \n",
    "    # Add an op to initialize the variables.\n",
    "    init_global_op = tf.global_variables_initializer()\n",
    "    init_local_op = tf.local_variables_initializer()\n",
    "    \n",
    "    #saver class:\n",
    "    model_saver = tf.train.Saver()        \n",
    "    \n",
    "    #initialize variables\n",
    "    sess.run([init_global_op, init_local_op])\n",
    "    \n",
    "    #counter stuff\n",
    "    trainset.reset()\n",
    "    validationset.reset()\n",
    "    \n",
    "    #restore weights belonging to graph\n",
    "    epochs_completed = 0\n",
    "    if not restart:\n",
    "        last_model = tf.train.latest_checkpoint(modelpath)\n",
    "        print(\"Restoring model %s.\",last_model)\n",
    "        model_saver.restore(sess,last_model)\n",
    "        epochs_completed = int(re.match(r'^.*?\\_epoch\\_(.*?)\\.ckpt.*?$',last_model).groups()[0])\n",
    "        trainset._epochs_completed = epochs_completed\n",
    "    \n",
    "    #losses\n",
    "    train_loss=0.\n",
    "    train_batches=0\n",
    "    total_batches=0\n",
    "    train_time=0\n",
    "    \n",
    "    #do training\n",
    "    while epochs_completed < args['num_epochs']:\n",
    "        \n",
    "        #increment total batch counter\n",
    "        total_batches+=1\n",
    "        \n",
    "        #get next batch\n",
    "        images,labels,normweights,_ = trainset.next_batch(args['train_batch_size'])  \n",
    "        #set weights to zero\n",
    "        normweights[:] = 1.\n",
    "        \n",
    "        #update weights\n",
    "        start_time = time.time()\n",
    "        _, summary, tmp_loss, pred = sess.run([train_step, train_summary, loss_fn, pred_fn],\n",
    "                                           feed_dict={variables['images_']: images, \n",
    "                                              variables['labels_']: labels, \n",
    "                                              variables['weights_']: normweights, \n",
    "                                              variables['keep_prob_']: args['dropout_p']})\n",
    "        end_time = time.time()\n",
    "        train_time += end_time-start_time\n",
    "        \n",
    "        #add to summary\n",
    "        train_writer.add_summary(summary, total_batches)\n",
    "        \n",
    "        #increment train loss and batch number\n",
    "        train_loss += tmp_loss\n",
    "        train_batches += 1\n",
    "        \n",
    "        #determine if we give a short update:\n",
    "        if train_batches%args['display_interval']==0:\n",
    "            print(\"REPORT epoch %d.%d, average training loss %g (%.3f sec/batch)\"%(epochs_completed, train_batches,\n",
    "                                                                                train_loss/float(train_batches),\n",
    "                                                                                train_time/float(train_batches)))\n",
    "        \n",
    "        #check if epoch is done\n",
    "        if trainset._epochs_completed>epochs_completed:\n",
    "            epochs_completed=trainset._epochs_completed\n",
    "            print(\"COMPLETED epoch %d, average training loss %g (%.3f sec/batch)\"%(epochs_completed, \n",
    "                                                                                 train_loss/float(train_batches),\n",
    "                                                                                 train_time/float(train_batches)))\n",
    "            train_loss=0.\n",
    "            train_batches=0\n",
    "            train_time=0\n",
    "            \n",
    "            #compute validation loss:\n",
    "            #reset variables\n",
    "            validation_loss=0.\n",
    "            validation_batches=0\n",
    "            sess.run(init_local_op)\n",
    "            \n",
    "            #all_labels=[]\n",
    "            #all_weights=[]\n",
    "            #all_pred=[]\n",
    "            \n",
    "            #iterate over batches\n",
    "            while True:\n",
    "                #get next batch\n",
    "                images,labels,normweights,weights = validationset.next_batch(args['validation_batch_size'])\n",
    "                #set weights to 1:\n",
    "                normweights[:] = 1.\n",
    "                weights[:] = 1.\n",
    "                \n",
    "                #compute loss\n",
    "                summary, tmp_loss=sess.run([validation_summary,loss_fn],\n",
    "                                            feed_dict={variables['images_']: images, \n",
    "                                                        variables['labels_']: labels, \n",
    "                                                        variables['weights_']: normweights, \n",
    "                                                        variables['keep_prob_']: 1.0})\n",
    "                \n",
    "                #add loss\n",
    "                validation_loss += tmp_loss\n",
    "                validation_batches += 1\n",
    "                \n",
    "                #update accuracy\n",
    "                sess.run(accuracy_fn[1],feed_dict={variables['images_']: images, \n",
    "                                                    variables['labels_']: labels, \n",
    "                                                    variables['weights_']: weights, \n",
    "                                                    variables['keep_prob_']: 1.0})\n",
    "                \n",
    "                #update auc\n",
    "                sess.run(auc_fn[1],feed_dict={variables['images_']: images, \n",
    "                                              variables['labels_']: labels, \n",
    "                                              variables['weights_']: weights, \n",
    "                                              variables['keep_prob_']: 1.0})\n",
    "                \n",
    "                #debugging\n",
    "                #pred = sess.run(pred_fn,\n",
    "                #                feed_dict={variables['images_']: images, \n",
    "                #                            variables['labels_']: labels, \n",
    "                #                            variables['weights_']: weights, \n",
    "                #                            variables['keep_prob_']: 1.0})\n",
    "                #all_labels.append(labels)\n",
    "                #all_weights.append(weights)\n",
    "                #all_pred.append(pred[:,1])\n",
    "                \n",
    "                #check if full pass done\n",
    "                if validationset._epochs_completed>0:\n",
    "                    validationset.reset()\n",
    "                    break\n",
    "                    \n",
    "            \n",
    "            #sklearn ROC\n",
    "            #all_labels = np.concatenate(all_labels,axis=0).flatten()\n",
    "            #all_pred = np.concatenate(all_pred,axis=0).flatten()\n",
    "            #all_weights = np.concatenate(all_weights,axis=0).flatten()\n",
    "            #fpr, tpr, thresholds = metrics.roc_curve(all_labels, all_pred, pos_label=1, sample_weight=all_weights)\n",
    "            #print(\"epoch %d, sklearn AUC %g\"%(epochs_completed,metrics.auc(fpr,tpr,reorder=True)))\n",
    "            \n",
    "            print(\"COMPLETED epoch %d, average validation loss %g\"%(epochs_completed, validation_loss/float(validation_batches)))\n",
    "            validation_accuracy = sess.run(accuracy_fn[0])\n",
    "            print(\"COMPLETED epoch %d, average validation accu %g\"%(epochs_completed, validation_accuracy))\n",
    "            validation_auc = sess.run(auc_fn[0])\n",
    "            print(\"COMPLETED epoch %d, average validation auc %g\"%(epochs_completed, validation_auc))\n",
    "            \n",
    "            # Save the variables to disk.\n",
    "            if epochs_completed%args['save_interval']==0:\n",
    "                model_save_path = model_saver.save(sess, modelpath+'/hep_classifier_tfmodel_epoch_'+str(epochs_completed)+'.ckpt')\n",
    "                print 'Model saved in file: %s'%model_save_path"
   ]
  },
  {
   "cell_type": "code",
   "execution_count": null,
   "metadata": {
    "collapsed": true
   },
   "outputs": [],
   "source": []
  }
 ],
 "metadata": {
  "anaconda-cloud": {},
  "kernelspec": {
   "display_name": "thorstendl",
   "language": "python",
   "name": "thorstendl"
  },
  "language_info": {
   "codemirror_mode": {
    "name": "ipython",
    "version": 2
   },
   "file_extension": ".py",
   "mimetype": "text/x-python",
   "name": "python",
   "nbconvert_exporter": "python",
   "pygments_lexer": "ipython2",
   "version": "2.7.12"
  }
 },
 "nbformat": 4,
 "nbformat_minor": 2
}
