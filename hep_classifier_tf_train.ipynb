{
 "cells": [
  {
   "cell_type": "code",
   "execution_count": 2,
   "metadata": {
    "collapsed": false
   },
   "outputs": [],
   "source": [
    "#os stuff\n",
    "import os\n",
    "import sys\n",
    "import h5py as h5\n",
    "import re\n",
    "\n",
    "#timing\n",
    "import time\n",
    "\n",
    "#numpy\n",
    "import numpy as np\n",
    "\n",
    "#tensorflow\n",
    "import tensorflow as tf\n",
    "import tensorflow.contrib.keras as tfk\n",
    "\n",
    "#slurm helpers\n",
    "sys.path.append(\"/global/homes/t/tkurth/python_custom_modules\")\n",
    "import slurm_tf_helper.setup_clusters as sc\n",
    "\n",
    "#housekeeping\n",
    "from scripts.nbfinder import NotebookFinder\n",
    "sys.meta_path.append(NotebookFinder())\n",
    "import notebooks.networks.binary_classifier_tf as bc"
   ]
  },
  {
   "cell_type": "markdown",
   "metadata": {},
   "source": [
    "# Useful Functions"
   ]
  },
  {
   "cell_type": "code",
   "execution_count": 3,
   "metadata": {
    "collapsed": true
   },
   "outputs": [],
   "source": [
    "def train_loop(sess,train_step,args,trainset,validationset):\n",
    "    \n",
    "    #counter stuff\n",
    "    trainset.reset()\n",
    "    validationset.reset()\n",
    "    \n",
    "    #restore weights belonging to graph\n",
    "    epochs_completed = 0\n",
    "    if not args['restart']:\n",
    "        last_model = tf.train.latest_checkpoint(modelpath)\n",
    "        print(\"Restoring model %s.\",last_model)\n",
    "        model_saver.restore(sess,last_model)\n",
    "        epochs_completed = int(re.match(r'^.*?\\_epoch\\_(.*?)\\.ckpt.*?$',last_model).groups()[0])\n",
    "        trainset._epochs_completed = epochs_completed\n",
    "    \n",
    "    #losses\n",
    "    train_loss=0.\n",
    "    train_batches=0\n",
    "    total_batches=0\n",
    "    train_time=0\n",
    "    \n",
    "    #do training\n",
    "    while (epochs_completed < args['num_epochs']) and not sess.should_stop():\n",
    "        \n",
    "        #increment total batch counter\n",
    "        total_batches+=1\n",
    "        \n",
    "        #get next batch\n",
    "        images,labels,normweights,_ = trainset.next_batch(args['train_batch_size_per_node'])\n",
    "        #set weights to zero\n",
    "        normweights[:] = 1.\n",
    "        \n",
    "        #update weights\n",
    "        start_time = time.time()\n",
    "        if args['create_summary']:\n",
    "            _, summary, tmp_loss, pred = sess.run([train_step, train_summary, loss_fn, pred_fn],\n",
    "                                                  feed_dict={variables['images_']: images, \n",
    "                                                  variables['labels_']: labels, \n",
    "                                                  variables['weights_']: normweights, \n",
    "                                                  variables['keep_prob_']: args['dropout_p']})\n",
    "        else:\n",
    "            _, tmp_loss, pred = sess.run([train_step, loss_fn, pred_fn],\n",
    "                                        feed_dict={variables['images_']: images, \n",
    "                                        variables['labels_']: labels, \n",
    "                                        variables['weights_']: normweights, \n",
    "                                        variables['keep_prob_']: args['dropout_p']})\n",
    "        end_time = time.time()\n",
    "        train_time += end_time-start_time\n",
    "        \n",
    "        #add to summary\n",
    "        if args['create_summary']:\n",
    "            with tf.device(args['device']):\n",
    "                train_writer.add_summary(summary, total_batches)\n",
    "        \n",
    "        #increment train loss and batch number\n",
    "        train_loss += tmp_loss\n",
    "        train_batches += 1\n",
    "        \n",
    "        #determine if we give a short update:\n",
    "        if train_batches%args['display_interval']==0:\n",
    "            print(\"REPORT epoch %d.%d, average training loss %g (%.3f sec/batch)\"%(epochs_completed, train_batches,\n",
    "                                                                                train_loss/float(train_batches),\n",
    "                                                                                train_time/float(train_batches)))\n",
    "        \n",
    "        #check if epoch is done\n",
    "        if trainset._epochs_completed>epochs_completed:\n",
    "            epochs_completed=trainset._epochs_completed\n",
    "            print(\"COMPLETED epoch %d, average training loss %g (%.3f sec/batch)\"%(epochs_completed, \n",
    "                                                                                 train_loss/float(train_batches),\n",
    "                                                                                 train_time/float(train_batches)))\n",
    "            train_loss=0.\n",
    "            train_batches=0\n",
    "            train_time=0\n",
    "            \n",
    "            #compute validation loss:\n",
    "            #reset variables\n",
    "            validation_loss=0.\n",
    "            validation_batches=0\n",
    "            sess.run(init_local_op)\n",
    "            \n",
    "            #all_labels=[]\n",
    "            #all_weights=[]\n",
    "            #all_pred=[]\n",
    "            \n",
    "            #iterate over batches\n",
    "            while True:\n",
    "                #get next batch\n",
    "                images,labels,normweights,weights = validationset.next_batch(args['validation_batch_size_per_node'])\n",
    "                #set weights to 1:\n",
    "                normweights[:] = 1.\n",
    "                weights[:] = 1.\n",
    "                \n",
    "                #compute loss\n",
    "                if args['create_summary']:\n",
    "                    summary, tmp_loss=sess.run([validation_summary,loss_fn],\n",
    "                                                feed_dict={variables['images_']: images, \n",
    "                                                            variables['labels_']: labels, \n",
    "                                                            variables['weights_']: normweights, \n",
    "                                                            variables['keep_prob_']: 1.0})\n",
    "                else:\n",
    "                    tmp_loss=sess.run([loss_fn],\n",
    "                                    feed_dict={variables['images_']: images, \n",
    "                                                variables['labels_']: labels, \n",
    "                                                variables['weights_']: normweights, \n",
    "                                                variables['keep_prob_']: 1.0})\n",
    "                \n",
    "                #add loss\n",
    "                validation_loss += tmp_loss[0]\n",
    "                validation_batches += 1\n",
    "                \n",
    "                #update accuracy\n",
    "                sess.run(accuracy_fn[1],feed_dict={variables['images_']: images, \n",
    "                                                    variables['labels_']: labels, \n",
    "                                                    variables['weights_']: weights, \n",
    "                                                    variables['keep_prob_']: 1.0})\n",
    "                \n",
    "                #update auc\n",
    "                sess.run(auc_fn[1],feed_dict={variables['images_']: images, \n",
    "                                              variables['labels_']: labels, \n",
    "                                              variables['weights_']: weights, \n",
    "                                              variables['keep_prob_']: 1.0})\n",
    "                \n",
    "                #debugging\n",
    "                #pred = sess.run(pred_fn,\n",
    "                #                feed_dict={variables['images_']: images, \n",
    "                #                            variables['labels_']: labels, \n",
    "                #                            variables['weights_']: weights, \n",
    "                #                            variables['keep_prob_']: 1.0})\n",
    "                #all_labels.append(labels)\n",
    "                #all_weights.append(weights)\n",
    "                #all_pred.append(pred[:,1])\n",
    "                \n",
    "                #check if full pass done\n",
    "                if validationset._epochs_completed>0:\n",
    "                    validationset.reset()\n",
    "                    break\n",
    "                    \n",
    "            \n",
    "            #sklearn ROC\n",
    "            #all_labels = np.concatenate(all_labels,axis=0).flatten()\n",
    "            #all_pred = np.concatenate(all_pred,axis=0).flatten()\n",
    "            #all_weights = np.concatenate(all_weights,axis=0).flatten()\n",
    "            #fpr, tpr, thresholds = metrics.roc_curve(all_labels, all_pred, pos_label=1, sample_weight=all_weights)\n",
    "            #print(\"epoch %d, sklearn AUC %g\"%(epochs_completed,metrics.auc(fpr,tpr,reorder=True)))\n",
    "            \n",
    "            print(\"COMPLETED epoch %d, average validation loss %g\"%(epochs_completed, validation_loss/float(validation_batches)))\n",
    "            validation_accuracy = sess.run(accuracy_fn[0])\n",
    "            print(\"COMPLETED epoch %d, average validation accu %g\"%(epochs_completed, validation_accuracy))\n",
    "            validation_auc = sess.run(auc_fn[0])\n",
    "            print(\"COMPLETED epoch %d, average validation auc %g\"%(epochs_completed, validation_auc))\n",
    "            \n",
    "            # Save the variables to disk.\n",
    "            if epochs_completed%args['save_interval']==0:\n",
    "                model_save_path = model_saver.save(sess, args['modelpath']+'/hep_classifier_tfmodel_epoch_'+str(epochs_completed)+'.ckpt')\n",
    "                print 'Model saved in file: %s'%model_save_path"
   ]
  },
  {
   "cell_type": "markdown",
   "metadata": {},
   "source": [
    "# Global Parameters"
   ]
  },
  {
   "cell_type": "code",
   "execution_count": 4,
   "metadata": {
    "collapsed": false
   },
   "outputs": [],
   "source": [
    "args={'input_shape': [1, 64, 64], \n",
    "                      'arch' : 'hsw',\n",
    "                      'mode': \"sync\",\n",
    "                      'num_tasks': 9,\n",
    "                      'num_ps': 1,\n",
    "                      'display_interval': 10,\n",
    "                      'save_interval': 1,\n",
    "                      'learning_rate': 1.e-5, \n",
    "                      'dropout_p': 0.5, \n",
    "                      'weight_decay': 0, #0.0001, \n",
    "                      'num_fc_units': 512,\n",
    "                      'num_layers': 3,\n",
    "                      'momentum': 0.9,\n",
    "                      'num_epochs': 200,\n",
    "                      'train_batch_size': 512, #480\n",
    "                      'validation_batch_size': 512, #480\n",
    "                      'batch_norm': False,\n",
    "                      'time': True,\n",
    "                      'create_summary': False,\n",
    "                      'restart': False,\n",
    "                      'conv_params': dict(num_filters=128, \n",
    "                                       filter_size=3, padding='SAME', \n",
    "                                       activation=tf.nn.relu, \n",
    "                                       initializer=tfk.initializers.he_normal())\n",
    "                     }"
   ]
  },
  {
   "cell_type": "markdown",
   "metadata": {},
   "source": [
    "# Multi-Node Stuff"
   ]
  },
  {
   "cell_type": "code",
   "execution_count": 6,
   "metadata": {
    "collapsed": false
   },
   "outputs": [],
   "source": [
    "#decide who will be worker and who will be parameters server\n",
    "if args['num_tasks'] > 1:\n",
    "    args['cluster'], args['server'], args['task_index'], args['num_tasks'], args['node_type'] = sc.setup_slurm_cluster(num_ps=args['num_ps'])\n",
    "    if args['node_type'] == \"ps\":\n",
    "        args['server'].join()\n",
    "    elif args['node_type'] == \"worker\":\n",
    "        args['is_chief']=(args['task_index'] == 0)\n",
    "    args['target']=args['server'].target\n",
    "else:\n",
    "    args['cluster']=None\n",
    "    args['server']=None\n",
    "    args['task_index']=0\n",
    "    args['node_type']='worker'\n",
    "    args['is_chief']=True\n",
    "    args['target']=''\n",
    "    \n",
    "#general stuff\n",
    "args[\"train_batch_size_per_node\"]=args[\"train_batch_size\"]/(args[\"num_tasks\"]-args[\"num_ps\"])\n",
    "args[\"validation_batch_size_per_node\"]=args[\"validation_batch_size\"]/(args[\"num_tasks\"]-args[\"num_ps\"])"
   ]
  },
  {
   "cell_type": "markdown",
   "metadata": {},
   "source": [
    "# On-Node Stuff"
   ]
  },
  {
   "cell_type": "code",
   "execution_count": null,
   "metadata": {
    "collapsed": true
   },
   "outputs": [],
   "source": [
    "if (args['node_type'] == 'worker'):\n",
    "    #common stuff\n",
    "    os.environ[\"KMP_BLOCKTIME\"] = \"1\"\n",
    "    os.environ[\"KMP_SETTINGS\"] = \"1\"\n",
    "    os.environ[\"KMP_AFFINITY\"]= \"granularity=fine,compact,1,0\"\n",
    "\n",
    "    #arch-specific stuff\n",
    "    if args['arch']=='hsw':\n",
    "        num_inter_threads = 2\n",
    "        num_intra_threads = 16\n",
    "    elif args['arch']=='knl':\n",
    "        num_inter_threads = 2\n",
    "        num_intra_threads = 66\n",
    "    elif args['arch']=='k80':\n",
    "        #use default settings\n",
    "        p = tf.ConfigProto()\n",
    "        num_inter_threads = int(getattr(p,'INTER_OP_PARALLELISM_THREADS_FIELD_NUMBER'))\n",
    "        num_intra_threads = int(getattr(p,'INTRA_OP_PARALLELISM_THREADS_FIELD_NUMBER'))\n",
    "    else:\n",
    "        raise ValueError('Please specify a valid architecture with arch (allowed values: hsw, knl.)')\n",
    "\n",
    "    #set the rest\n",
    "    os.environ['OMP_NUM_THREADS'] = str(num_intra_threads)\n",
    "    sess_config=tf.ConfigProto(inter_op_parallelism_threads=num_inter_threads,\n",
    "                               intra_op_parallelism_threads=num_intra_threads,\n",
    "                               allow_soft_placement=True)\n",
    "                               #log_device_placement=True)\n",
    "\n",
    "    print(\"Rank\",args['task_index'],\": using \",num_inter_threads,\"-way task parallelism with \",num_intra_threads,\"-way data parallelism.\")"
   ]
  },
  {
   "cell_type": "markdown",
   "metadata": {},
   "source": [
    "## Build Network and Functions"
   ]
  },
  {
   "cell_type": "code",
   "execution_count": null,
   "metadata": {
    "collapsed": false
   },
   "outputs": [],
   "source": [
    "if args['node_type'] == 'worker':\n",
    "    print(\"Rank\",args[\"task_index\"],\":\",\"Building model\")\n",
    "    args['device'] = tf.train.replica_device_setter(worker_device=\"/job:worker/task:%d\" % args['task_index'],cluster=args['cluster'])\n",
    "    with tf.device(args['device']):\n",
    "        variables, network = bc.build_cnn_model(args)\n",
    "        variables, pred_fn, loss_fn, accuracy_fn, auc_fn = bc.build_functions(args,variables,network)\n",
    "        tf.add_to_collection('pred_fn', pred_fn)\n",
    "        tf.add_to_collection('loss_fn', loss_fn)\n",
    "        print \"Rank\",args[\"task_index\"],\":\",variables\n",
    "        print \"Rank\",args[\"task_index\"],\":\",network"
   ]
  },
  {
   "cell_type": "markdown",
   "metadata": {},
   "source": [
    "## Setup Iterators"
   ]
  },
  {
   "cell_type": "markdown",
   "metadata": {},
   "source": [
    "### My Files"
   ]
  },
  {
   "cell_type": "code",
   "execution_count": null,
   "metadata": {
    "collapsed": false
   },
   "outputs": [],
   "source": [
    "if False and (args['node_type'] == 'worker'):\n",
    "    print(\"Rank\",args[\"task_index\"],\":\",\"Setting up iterators\")\n",
    "    #paths\n",
    "    args['inputpath'] = '/global/cscratch1/sd/tkurth/atlas_dl/data_delphes_final_64x64'\n",
    "    args['logpath'] = '/project/projectdirs/mpccc/tkurth/MANTISSA-HEP/atlas_dl/temp/tensorflow_logs/hep_classifier_log'\n",
    "    args['modelpath'] = '/project/projectdirs/mpccc/tkurth/MANTISSA-HEP/atlas_dl/temp/tensorflow_models/hep_classifier_models'\n",
    "    #training files\n",
    "    trainfiles = [args['inputpath']+'/'+x for x in os.listdir(args['inputpath']) if x.startswith('hep_train') and x.endswith('.hdf5')]\n",
    "    trainset=bc.DataSet(trainfiles,args['num_tasks'],args['task_index'])\n",
    "    #validation files\n",
    "    validationfiles = [args['inputpath']+'/'+x for x in os.listdir(args['inputpath']) if x.startswith('hep_valid') and x.endswith('.hdf5')]\n",
    "    validationset = bc.DataSet(validationfiles,args['num_tasks'],args['task_index'])"
   ]
  },
  {
   "cell_type": "markdown",
   "metadata": {},
   "source": [
    "### Evans Files"
   ]
  },
  {
   "cell_type": "code",
   "execution_count": null,
   "metadata": {
    "collapsed": false
   },
   "outputs": [],
   "source": [
    "if True and (args['node_type'] == 'worker'):\n",
    "    print(\"Rank\",args[\"task_index\"],\":\",\"Setting up iterators\")\n",
    "    #paths\n",
    "    args['inputpath'] = '/global/cscratch1/sd/wbhimji/delphes_combined_64imageNoPU'\n",
    "    args['logpath'] = '/project/projectdirs/mpccc/tkurth/MANTISSA-HEP/atlas_dl/temp/tensorflow_logs/hep_classifier_log'\n",
    "    args['modelpath'] = '/project/projectdirs/mpccc/tkurth/MANTISSA-HEP/atlas_dl/temp/tensorflow_models/hep_classifier_models_distributed'\n",
    "    #training files\n",
    "    trainfiles = [args['inputpath']+'/'+x for x in os.listdir(args['inputpath']) if x.startswith('train_') and x.endswith('.h5')]\n",
    "    trainset = bc.DataSetEvan(trainfiles,args['num_tasks'],args['task_index'],split_filelist=False,split_file=True)\n",
    "    #validation files\n",
    "    validationfiles = [args['inputpath']+'/'+x for x in os.listdir(args['inputpath']) if x.startswith('val_') and x.endswith('.h5')]\n",
    "    validationset = bc.DataSetEvan(validationfiles,args['num_tasks'],args['task_index'],split_filelist=False,split_file=True)"
   ]
  },
  {
   "cell_type": "markdown",
   "metadata": {},
   "source": [
    "# Train Model"
   ]
  },
  {
   "cell_type": "code",
   "execution_count": null,
   "metadata": {
    "collapsed": false
   },
   "outputs": [],
   "source": [
    "#determining which model to load:\n",
    "metafilelist = [args['modelpath']+'/'+x for x in os.listdir(args['modelpath']) if x.endswith('.meta')]\n",
    "if not metafilelist:\n",
    "    #no model found, restart from scratch\n",
    "    args['restart']=True"
   ]
  },
  {
   "cell_type": "code",
   "execution_count": null,
   "metadata": {
    "collapsed": false
   },
   "outputs": [],
   "source": [
    "#initialize session\n",
    "if (args['node_type'] == 'worker'):\n",
    "    \n",
    "    with tf.device(args['device']):\n",
    "        \n",
    "        #a hook that will stop training at\n",
    "        hooks=[tf.train.StopAtStepHook(last_step=1000000)]\n",
    "        \n",
    "        #global step that either gets updated after any node processes a batch (async) or when all nodes process a batch for a given iteration (sync)\n",
    "        global_step = tf.contrib.framework.get_or_create_global_step()     \n",
    "        opt = tf.train.AdamOptimizer(args['learning_rate'])\n",
    "        if args['mode'] == \"sync\":\n",
    "            #if syncm we make a data structure that will aggregate the gradients form all tasks (one task per node in thsi case)\n",
    "            opt = tf.train.SyncReplicasOptimizer(opt, replicas_to_aggregate=args['num_tasks'], total_num_replicas=args['num_tasks'])\n",
    "        train_step = opt.minimize(loss_fn, global_step=global_step)\n",
    "        \n",
    "        if args[\"mode\"] == \"sync\":\n",
    "            hooks.append(opt.make_session_run_hook(is_chief=args['is_chief']))\n",
    "            \n",
    "        #creating summary\n",
    "        if args['create_summary']:\n",
    "            var_summary = []\n",
    "            for item in variables:\n",
    "                var_summary.append(tf.summary.histogram(item,variables[item]))\n",
    "            summary_loss = tf.summary.scalar(\"loss\",loss_fn)\n",
    "            summary_accuracy = tf.summary.scalar(\"accuracy\",accuracy_fn)\n",
    "            train_summary = tf.summary.merge([summary_loss]+var_summary)\n",
    "            validation_summary = tf.summary.merge([summary_loss])\n",
    "            \n",
    "        # Add an op to initialize the variables.\n",
    "        init_global_op = tf.global_variables_initializer()\n",
    "        init_local_op = tf.local_variables_initializer()\n",
    "        \n",
    "        #saver class:\n",
    "        model_saver = tf.train.Saver()\n",
    "        \n",
    "    \n",
    "    print(\"Rank\",args[\"task_index\"],\": starting training\")\n",
    "    with tf.train.MonitoredTrainingSession(config=sess_config, \n",
    "                                           is_chief=args[\"is_chief\"],\n",
    "                                           master=args['target'],\n",
    "                                           #checkpoint_dir=args['modelpath'],\n",
    "                                           hooks=hooks) as sess:\n",
    "    \n",
    "        #create summaries\n",
    "        if args['create_summary']:\n",
    "            with tf.device(args['device']):\n",
    "                train_writer = tf.summary.FileWriter(args['logpath'], sess.graph)\n",
    "        #        var_summary = []\n",
    "        #        for item in variables:\n",
    "        #            var_summary.append(tf.summary.histogram(item,variables[item]))\n",
    "        #        summary_loss = tf.summary.scalar(\"loss\",loss_fn)\n",
    "        #        summary_accuracy = tf.summary.scalar(\"accuracy\",accuracy_fn)\n",
    "        #        train_summary = tf.summary.merge([summary_loss]+var_summary)\n",
    "        #        validation_summary = tf.summary.merge([summary_loss])\n",
    "        #        train_writer = tf.summary.FileWriter(args['logpath'], sess.graph)\n",
    "    \n",
    "        #initialize variables\n",
    "        sess.run([init_global_op, init_local_op])\n",
    "    \n",
    "        #do the training loop\n",
    "        train_loop(sess,train_step,args,trainset,validationset)"
   ]
  },
  {
   "cell_type": "code",
   "execution_count": null,
   "metadata": {
    "collapsed": true
   },
   "outputs": [],
   "source": []
  }
 ],
 "metadata": {
  "anaconda-cloud": {},
  "kernelspec": {
   "display_name": "thorstendl",
   "language": "python",
   "name": "thorstendl"
  },
  "language_info": {
   "codemirror_mode": {
    "name": "ipython",
    "version": 2
   },
   "file_extension": ".py",
   "mimetype": "text/x-python",
   "name": "python",
   "nbconvert_exporter": "python",
   "pygments_lexer": "ipython2",
   "version": "2.7.12"
  }
 },
 "nbformat": 4,
 "nbformat_minor": 2
}
