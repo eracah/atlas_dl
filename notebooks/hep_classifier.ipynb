{
 "cells": [
  {
   "cell_type": "markdown",
   "metadata": {},
   "source": [
    "## General modules"
   ]
  },
  {
   "cell_type": "code",
   "execution_count": null,
   "metadata": {
    "collapsed": false
   },
   "outputs": [],
   "source": [
    "__author__ = 'tkurth'\n",
    "import sys\n",
    "import os\n",
    "import numpy as np\n",
    "import pandas as pd\n",
    "from matplotlib import pyplot as plt\n",
    "import matplotlib.mlab as mlab\n",
    "from sklearn import preprocessing\n",
    "from sklearn.cross_validation import train_test_split\n",
    "from nbfinder import NotebookFinder\n",
    "sys.meta_path.append(NotebookFinder())\n",
    "%matplotlib inline\n",
    "import time\n",
    "import re\n",
    "import pickle"
   ]
  },
  {
   "cell_type": "markdown",
   "metadata": {},
   "source": [
    "## Theano modules"
   ]
  },
  {
   "cell_type": "code",
   "execution_count": null,
   "metadata": {
    "collapsed": true
   },
   "outputs": [],
   "source": [
    "import theano\n",
    "import theano.tensor as T\n",
    "import theano.sandbox.rng_mrg\n",
    "Trng = theano.sandbox.rng_mrg.MRG_RandomStreams(9)\n",
    "import lasagne as ls"
   ]
  },
  {
   "cell_type": "markdown",
   "metadata": {},
   "source": [
    "## ROOT stuff"
   ]
  },
  {
   "cell_type": "code",
   "execution_count": null,
   "metadata": {
    "collapsed": false
   },
   "outputs": [],
   "source": [
    "sys.path.append('/global/homes/w/wbhimji/cori-envs/nersc-rootpy/lib/python2.7/site-packages/')\n",
    "sys.path.append('/global/common/cori/software/root/6.06.06/lib/root')\n",
    "import ROOT\n",
    "import rootpy\n",
    "import root_numpy as rnp"
   ]
  },
  {
   "cell_type": "markdown",
   "metadata": {},
   "source": [
    "## Useful functions"
   ]
  },
  {
   "cell_type": "code",
   "execution_count": null,
   "metadata": {
    "collapsed": true
   },
   "outputs": [],
   "source": [
    "# Define a context manager to suppress stdout and stderr.\n",
    "class suppress_stdout_stderr(object):\n",
    "    '''\n",
    "    A context manager for doing a \"deep suppression\" of stdout and stderr in \n",
    "    Python, i.e. will suppress all print, even if the print originates in a \n",
    "    compiled C/Fortran sub-function.\n",
    "       This will not suppress raised exceptions, since exceptions are printed\n",
    "    to stderr just before a script exits, and after the context manager has\n",
    "    exited (at least, I think that is why it lets exceptions through).      \n",
    "\n",
    "    '''\n",
    "    def __init__(self):\n",
    "        # Open a pair of null files\n",
    "        self.null_fds =  [os.open(os.devnull,os.O_RDWR) for x in range(2)]\n",
    "        # Save the actual stdout (1) and stderr (2) file descriptors.\n",
    "        self.save_fds = (os.dup(1), os.dup(2))\n",
    "\n",
    "    def __enter__(self):\n",
    "        # Assign the null pointers to stdout and stderr.\n",
    "        os.dup2(self.null_fds[0],1)\n",
    "        os.dup2(self.null_fds[1],2)\n",
    "\n",
    "    def __exit__(self, *_):\n",
    "        # Re-assign the real stdout/stderr back to (1) and (2)\n",
    "        os.dup2(self.save_fds[0],1)\n",
    "        os.dup2(self.save_fds[1],2)\n",
    "        # Close the null files\n",
    "        os.close(self.null_fds[0])\n",
    "        os.close(self.null_fds[1])"
   ]
  },
  {
   "cell_type": "markdown",
   "metadata": {},
   "source": [
    "## Data loader and preprocessor"
   ]
  },
  {
   "cell_type": "code",
   "execution_count": null,
   "metadata": {
    "collapsed": true
   },
   "outputs": [],
   "source": [
    "def merge_dicts(dict1,dict2):\n",
    "    tmp = dict1.copy()\n",
    "    tmp.update(dict2)\n",
    "    return tmp"
   ]
  },
  {
   "cell_type": "code",
   "execution_count": null,
   "metadata": {
    "collapsed": false
   },
   "outputs": [],
   "source": [
    "#file string parser\n",
    "def parse_filename(fname,directory='.'):\n",
    "    directory=re.sub(r'^(.*?)(/+)$',r'\\1',directory)\n",
    "    \n",
    "    #signal file?\n",
    "    smatch=re.compile(r'GG_RPV(.*?)_(.*?)_(.*?)\\.merge')\n",
    "    tmpres=smatch.findall(fname)\n",
    "    if tmpres:\n",
    "        tmpres=tmpres[0]\n",
    "        return {'rpv':int(tmpres[0]), 'mass1':int(tmpres[1]), 'mass2':int(tmpres[2]), 'name':directory+'/'+fname}\n",
    "\n",
    "    #background file?\n",
    "    smatch=re.compile(r'JZ(.*?)\\.merge')\n",
    "    tmpres=smatch.findall(fname)\n",
    "    if tmpres:\n",
    "        return {'jz':int(tmpres[0]), 'name':directory+'/'+fname}\n",
    "\n",
    "    #nothing at all\n",
    "    return {}"
   ]
  },
  {
   "cell_type": "code",
   "execution_count": null,
   "metadata": {
    "collapsed": false
   },
   "outputs": [],
   "source": [
    "def load_data(filelists,\n",
    "                group_name='CollectionTree',\n",
    "                branches=['CaloCalTopoClustersAuxDyn.calPhi', \\\n",
    "                          'CaloCalTopoClustersAuxDyn.calEta', \\\n",
    "                          'CaloCalTopoClustersAuxDyn.calE'],\n",
    "                dataset_name='histo',\n",
    "                type_='root'):\n",
    "    \n",
    "    #iterate over elements in the filelists\n",
    "    records=[]\n",
    "    for fname in filelists:\n",
    "        #read specifics of that list\n",
    "        masterrec=parse_filename(fname.split('/')[-1])\n",
    "        #determine if it is label or background\n",
    "        if 'jz' in masterrec.keys():\n",
    "            masterrec['label']=0\n",
    "        else:\n",
    "            masterrec['label']=1\n",
    "        \n",
    "        #read the files in the filelist\n",
    "        files = [line.rstrip() for line in open(fname)]\n",
    "        \n",
    "        #we don't want annoying stderr messages\n",
    "        with suppress_stdout_stderr():\n",
    "            \n",
    "            #bgarray has n_events groups of 3 parallel numpy arrays \n",
    "            #(each numpy within a group is of equal length and each array corresponds to phi, eta and the corresponding energy)\n",
    "            try:\n",
    "                datarec = rnp.root2array(files, \\\n",
    "                                        treename=group_name, \\\n",
    "                                        branches=branches, \\\n",
    "                                        start=0, \\\n",
    "                                        warn_missing_tree=True)\n",
    "                tmpdf=pd.DataFrame.from_records(datarec)\n",
    "                reclist=tmpdf[['CaloCalTopoClustersAuxDyn.calPhi', \\\n",
    "                                'CaloCalTopoClustersAuxDyn.calEta', \\\n",
    "                                'CaloCalTopoClustersAuxDyn.calE']].to_dict('records')\n",
    "                reclist=[merge_dicts(masterrec,rec) for rec in reclist]\n",
    "                    \n",
    "            except:\n",
    "                continue\n",
    "            \n",
    "        #append to records\n",
    "        records+=reclist\n",
    "            \n",
    "    #return dataframe\n",
    "    return pd.DataFrame(records)\n",
    "\n",
    "\n",
    "#preprocessor\n",
    "def preprocess_data(df,eta_range,phi_range,eta_bins,phi_bins):\n",
    "    #empty array\n",
    "    xvals = np.zeros((df.shape[0], 1, phi_bins, eta_bins ),dtype='float32')\n",
    "    yvals = np.zeros((df.shape[0],),dtype='int32')\n",
    "    \n",
    "    for i in range(df.shape[0]):        \n",
    "        phi, eta, E =  df.iloc[i]['CaloCalTopoClustersAuxDyn.calPhi'],\\\n",
    "                       df.iloc[i]['CaloCalTopoClustersAuxDyn.calEta'],\\\n",
    "                       df.iloc[i]['CaloCalTopoClustersAuxDyn.calE']\n",
    "        \n",
    "        xvals[i]=np.histogram2d(phi,eta,\n",
    "                                bins=(phi_bins, eta_bins), \\\n",
    "                                weights=E,\n",
    "                                range=[phi_range,eta_range])[0]\n",
    "        yvals[i]=df.iloc[i]['label']\n",
    "        \n",
    "    return xvals, yvals"
   ]
  },
  {
   "cell_type": "markdown",
   "metadata": {},
   "source": [
    "## Data iterator"
   ]
  },
  {
   "cell_type": "code",
   "execution_count": null,
   "metadata": {
    "collapsed": false
   },
   "outputs": [],
   "source": [
    "class hep_data_iterator:\n",
    "    \n",
    "    #class constructor\n",
    "    def __init__(self,\n",
    "                 datadf,\n",
    "                 max_frequency=None,\n",
    "                 even_frequencies=True,\n",
    "                 shuffle=True,\n",
    "                 nbins=(100,100),\n",
    "                 eta_range = [-5,5],\n",
    "                 phi_range = [-3.1416, 3.1416]\n",
    "                ):\n",
    "\n",
    "        #set parameters\n",
    "        self.shuffle = shuffle\n",
    "        self.nbins = nbins\n",
    "        self.eta_range = eta_range\n",
    "        self.phi_range = phi_range\n",
    "        self.even_frequencies = even_frequencies\n",
    "        \n",
    "        #compute bins\n",
    "        self.eta_bins = self.nbins[0]\n",
    "        self.phi_bins = self.nbins[1]\n",
    "        \n",
    "        #dataframe\n",
    "        self.df = datadf\n",
    "        self.df.sort_values(by='label',inplace=True)\n",
    "        \n",
    "        #make class frequencies even:\n",
    "        tmpdf=self.df.groupby('label').count().reset_index()\n",
    "        self.num_classes=tmpdf.shape[0]\n",
    "        \n",
    "        #determine minimum frequency\n",
    "        min_frequency=tmpdf['CaloCalTopoClustersAuxDyn.calE'].min()\n",
    "        if max_frequency:\n",
    "            min_frequency=np.min([min_frequency,max_frequency])\n",
    "        elif not even_frequencies:\n",
    "            min_frequency=-1\n",
    "        tmpdf=self.df.groupby(['label']).apply(lambda x: x[['CaloCalTopoClustersAuxDyn.calPhi', \\\n",
    "                                                            'CaloCalTopoClustersAuxDyn.calEta', \\\n",
    "                                                            'CaloCalTopoClustersAuxDyn.calE']].iloc[:min_frequency,:]).copy()\n",
    "        tmpdf.reset_index(inplace=True)\n",
    "        del tmpdf['level_1']\n",
    "        \n",
    "        #copy tmpdf into self.df\n",
    "        self.df=tmpdf.copy()\n",
    "        \n",
    "        #compute max:\n",
    "        self.compute_data_max()\n",
    "        \n",
    "        #shuffle if wanted (highly recommended)\n",
    "        if self.shuffle:\n",
    "            self.df=self.df.reindex(np.random.permutation(self.df.index))\n",
    "        \n",
    "        #number of examples\n",
    "        self.num_examples=self.df.shape[0]\n",
    "        \n",
    "        #shapes:\n",
    "        self.xshape=(1, self.phi_bins, self.eta_bins)\n",
    "        \n",
    "    \n",
    "    #compute max over all data\n",
    "    def compute_data_max(self):\n",
    "        '''compute the maximum over all event entries for rescaling data between -1 and 1'''\n",
    "        self.max_abs=(self.df['CaloCalTopoClustersAuxDyn.calE'].abs()).apply(lambda x: np.max(x)).max()\n",
    "    \n",
    "    \n",
    "    #this is the batch iterator:\n",
    "    def next_batch(self,batchsize):\n",
    "        '''batch iterator'''\n",
    "        \n",
    "        #shuffle:\n",
    "        if self.shuffle:\n",
    "            self.df=self.df.reindex(np.random.permutation(self.df.index))\n",
    "        \n",
    "        #iterate\n",
    "        for idx in range(0,self.num_examples-batchsize,batchsize):\n",
    "            #yield next batch\n",
    "            x,y=preprocess_data(self.df.iloc[idx:idx+batchsize,:],\\\n",
    "                             self.eta_range,\n",
    "                             self.phi_range,\n",
    "                             self.eta_bins,self.phi_bins)\n",
    "            #rescale x:\n",
    "            x/=self.max_abs\n",
    "        \n",
    "            #return result\n",
    "            yield x,y"
   ]
  },
  {
   "cell_type": "markdown",
   "metadata": {},
   "source": [
    "## Curate File list"
   ]
  },
  {
   "cell_type": "code",
   "execution_count": null,
   "metadata": {
    "collapsed": false
   },
   "outputs": [],
   "source": [
    "directory='/project/projectdirs/das/wbhimji/RPVSusyJetLearn/atlas_dl/config/'\n",
    "filelists=[parse_filename(x,directory) for x in os.listdir(directory) if x.startswith('mc')]\n",
    "filenamedf=pd.DataFrame(filelists)"
   ]
  },
  {
   "cell_type": "code",
   "execution_count": null,
   "metadata": {
    "collapsed": false
   },
   "outputs": [],
   "source": [
    "#select signal configuration\n",
    "mass1=1400\n",
    "mass2=850\n",
    "sig_cfg_files=list(filenamedf[ (filenamedf['mass1']==1400) & (filenamedf['mass2']==850) ]['name'])\n",
    "\n",
    "#select background configuration\n",
    "jzmin=4\n",
    "jzmax=5\n",
    "bg_cfg_files=list(filenamedf[ (filenamedf['jz']>=jzmin) & (filenamedf['jz']<=jzmax) ]['name'])"
   ]
  },
  {
   "cell_type": "markdown",
   "metadata": {},
   "source": [
    "## Construct data iterator"
   ]
  },
  {
   "cell_type": "code",
   "execution_count": null,
   "metadata": {
    "collapsed": false
   },
   "outputs": [],
   "source": [
    "#load background files\n",
    "bgdf=load_data(bg_cfg_files)\n",
    "bgdf=bgdf.reindex(np.random.permutation(bgdf.index))"
   ]
  },
  {
   "cell_type": "code",
   "execution_count": null,
   "metadata": {
    "collapsed": false
   },
   "outputs": [],
   "source": [
    "#load signal data\n",
    "sigdf=load_data(sig_cfg_files)\n",
    "sigdf=sigdf.reindex(np.random.permutation(sigdf.index))"
   ]
  },
  {
   "cell_type": "code",
   "execution_count": null,
   "metadata": {
    "collapsed": false,
    "scrolled": true
   },
   "outputs": [],
   "source": [
    "#parameters\n",
    "train_fraction=0.8\n",
    "validation_fraction=0.1\n",
    "nbins=(100,100)\n",
    "\n",
    "#create sizes:\n",
    "num_sig_train=int(np.floor(sigdf.shape[0]*train_fraction))\n",
    "#num_bg_train=int(np.floor(bgdf.shape[0]*train_fraction))\n",
    "num_bg_train=num_sig_train\n",
    "num_sig_validation=int(np.floor(sigdf.shape[0]*validation_fraction))\n",
    "#num_bg_validation=int(np.floor(bgdf.shape[0]*validation_fraction))\n",
    "num_bg_validation=num_sig_validation\n",
    "\n",
    "#split the sets\n",
    "traindf=pd.concat([bgdf.iloc[:num_bg_train],sigdf.iloc[:num_sig_train]])\n",
    "validdf=pd.concat([bgdf.iloc[num_bg_train:num_bg_train+num_bg_validation], \\\n",
    "                   sigdf.iloc[num_sig_train:num_sig_train+num_sig_validation]])\n",
    "testdf=pd.concat([bgdf.iloc[num_bg_train+num_bg_validation:], \\\n",
    "                   sigdf.iloc[num_sig_train+num_sig_validation:]])\n",
    "\n",
    "#create iterators\n",
    "hditer_train=hep_data_iterator(traindf,nbins=nbins)\n",
    "hditer_validation=hep_data_iterator(validdf,nbins=nbins)\n",
    "hditer_test=hep_data_iterator(testdf,nbins=nbins,even_frequencies=False)\n",
    "\n",
    "#the preprocessing for the validation iterator has to be taken from the training iterator\n",
    "hditer_validation.max_abs=hditer_train.max_abs\n",
    "hditer_test.max_abs=hditer_train.max_abs"
   ]
  },
  {
   "cell_type": "code",
   "execution_count": null,
   "metadata": {
    "collapsed": false
   },
   "outputs": [],
   "source": [
    "print hditer_train.num_examples\n",
    "print hditer_validation.num_examples\n",
    "print hditer_test.num_examples"
   ]
  },
  {
   "cell_type": "markdown",
   "metadata": {},
   "source": [
    "# Classifier"
   ]
  },
  {
   "cell_type": "code",
   "execution_count": null,
   "metadata": {
    "collapsed": true
   },
   "outputs": [],
   "source": [
    "#Matthews correlation coefficient objective, only for binary classifications\n",
    "def matthews_correlation_coefficient(predictions, targets):\n",
    "    #preprocess\n",
    "    if targets.ndim == predictions.ndim:\n",
    "        targets = T.argmax(targets, axis=-1)\n",
    "    #make predictions flat as well:\n",
    "    predictions = T.argmax(predictions, axis=-1)\n",
    "    \n",
    "    #true predictions\n",
    "    true_pred=T.eq(predictions, targets)\n",
    "    #false predictions\n",
    "    false_pred=T.neq(predictions, targets)\n",
    "    \n",
    "    #true positives:\n",
    "    tp=(true_pred*predictions).sum()\n",
    "    #false positives:\n",
    "    fp=(false_pred*predictions).sum()\n",
    "    #true negatives\n",
    "    tn=(true_pred*(1-predictions)).sum()\n",
    "    #false negatives\n",
    "    fn=(false_pred*(1-predictions)).sum()\n",
    "    \n",
    "    #now, assemble ratio\n",
    "    mcc=(tp*tn-fp*fn)/T.sqrt((tp+fp)*(tp+fn)*(tn+fp)*(tn+fn))\n",
    "    \n",
    "    return mcc"
   ]
  },
  {
   "cell_type": "code",
   "execution_count": null,
   "metadata": {
    "collapsed": false,
    "scrolled": true
   },
   "outputs": [],
   "source": [
    "#debug\n",
    "ypred=T.matrix('ypred')\n",
    "ytrue=T.imatrix('ytrue')\n",
    "mccdummy=matthews_correlation_coefficient(ypred,ytrue)\n",
    "mcc=theano.function([ypred,ytrue],mccdummy)"
   ]
  },
  {
   "cell_type": "code",
   "execution_count": null,
   "metadata": {
    "collapsed": false
   },
   "outputs": [],
   "source": [
    "mcc(np.asarray([[0.3,0.7],[0.8,0.2],[0.56,0.44],[0.1,0.9]],dtype=np.float32),np.asarray([[0,1],[1,0],[1,0],[0,1]],dtype=np.int32))"
   ]
  },
  {
   "cell_type": "markdown",
   "metadata": {},
   "source": [
    "## Construct classification network"
   ]
  },
  {
   "cell_type": "code",
   "execution_count": null,
   "metadata": {
    "collapsed": false
   },
   "outputs": [],
   "source": [
    "#some parameters\n",
    "keep_prob=0.5\n",
    "num_filters=128\n",
    "num_units_dense=1024\n",
    "initial_learning_rate=0.001\n",
    "\n",
    "#input layer\n",
    "l_inp_data = ls.layers.InputLayer((None,hditer_train.xshape[0],hditer_train.xshape[1],hditer_train.xshape[2]))\n",
    "l_inp_label = ls.layers.InputLayer((None,1))\n",
    "\n",
    "#conv layers\n",
    "#first layer\n",
    "l_conv1 = ls.layers.Conv2DLayer(incoming=l_inp_data,\n",
    "                                num_filters=num_filters,\n",
    "                                filter_size=3,\n",
    "                                stride=(1,1),\n",
    "                                pad=0,\n",
    "                                W=ls.init.HeUniform(),\n",
    "                                b=ls.init.Constant(0.),\n",
    "                                nonlinearity=ls.nonlinearities.LeakyRectify()\n",
    "                               )\n",
    "l_drop1 = ls.layers.DropoutLayer(incoming=l_conv1,\n",
    "                       p=keep_prob,\n",
    "                       rescale=True\n",
    "                      )\n",
    "l_pool1 = ls.layers.MaxPool2DLayer(incoming=l_drop1,\n",
    "                                   pool_size=(2,2),\n",
    "                                   stride=2,\n",
    "                                   pad=0                                   \n",
    "                                  )\n",
    "\n",
    "#second layer:\n",
    "l_conv2 = ls.layers.Conv2DLayer(incoming=l_pool1,\n",
    "                                num_filters=num_filters,\n",
    "                                filter_size=3,\n",
    "                                stride=(1,1),\n",
    "                                pad=0,\n",
    "                                W=ls.init.HeUniform(),\n",
    "                                b=ls.init.Constant(0.),\n",
    "                                nonlinearity=ls.nonlinearities.LeakyRectify()\n",
    "                               )\n",
    "l_drop2 = ls.layers.DropoutLayer(incoming=l_conv2,\n",
    "                       p=keep_prob,\n",
    "                       rescale=True\n",
    "                      )\n",
    "l_pool2 = ls.layers.MaxPool2DLayer(incoming=l_drop2,\n",
    "                                   pool_size=(2,2),\n",
    "                                   stride=2,\n",
    "                                   pad=0                                   \n",
    "                                  )\n",
    "\n",
    "#third layer:\n",
    "l_conv3 = ls.layers.Conv2DLayer(incoming=l_pool2,\n",
    "                                num_filters=num_filters,\n",
    "                                filter_size=3,\n",
    "                                stride=(1,1),\n",
    "                                pad=0,\n",
    "                                W=ls.init.HeUniform(),\n",
    "                                b=ls.init.Constant(0.),\n",
    "                                nonlinearity=ls.nonlinearities.LeakyRectify()\n",
    "                               )\n",
    "l_drop3 = ls.layers.DropoutLayer(incoming=l_conv3,\n",
    "                       p=keep_prob,\n",
    "                       rescale=True\n",
    "                      )\n",
    "l_pool3 = ls.layers.MaxPool2DLayer(incoming=l_drop3,\n",
    "                                   pool_size=(2,2),\n",
    "                                   stride=2,\n",
    "                                   pad=0                                   \n",
    "                                  )\n",
    "\n",
    "#fourth layer:\n",
    "l_conv4 = ls.layers.Conv2DLayer(incoming=l_pool3,\n",
    "                                num_filters=num_filters,\n",
    "                                filter_size=3,\n",
    "                                stride=(1,1),\n",
    "                                pad=0,\n",
    "                                W=ls.init.HeUniform(),\n",
    "                                b=ls.init.Constant(0.),\n",
    "                                nonlinearity=ls.nonlinearities.LeakyRectify()\n",
    "                               )\n",
    "l_drop4 = ls.layers.DropoutLayer(incoming=l_conv4,\n",
    "                       p=keep_prob,\n",
    "                       rescale=True\n",
    "                      )\n",
    "l_pool4 = ls.layers.MaxPool2DLayer(incoming=l_drop4,\n",
    "                                   pool_size=(2,2),\n",
    "                                   stride=2,\n",
    "                                   pad=0                                   \n",
    "                                  )\n",
    "\n",
    "#flatten\n",
    "l_flat = ls.layers.FlattenLayer(incoming=l_pool4, \n",
    "                                outdim=2)\n",
    "\n",
    "#crossfire\n",
    "l_fc1 = ls.layers.DenseLayer(incoming=l_flat, \n",
    "                             num_units=num_units_dense, \n",
    "                             W=ls.init.GlorotUniform(np.sqrt(2./(1+0.01**2))), \n",
    "                             b=ls.init.Constant(0.0),\n",
    "                             nonlinearity=ls.nonlinearities.LeakyRectify()\n",
    "                            )\n",
    "\n",
    "l_drop5 = ls.layers.DropoutLayer(incoming=l_fc1,\n",
    "                       p=keep_prob,\n",
    "                       rescale=True\n",
    "                      )\n",
    "\n",
    "l_fc2 = ls.layers.DenseLayer(incoming=l_drop5, \n",
    "                             num_units=num_units_dense, \n",
    "                             W=ls.init.GlorotUniform(np.sqrt(2./(1+0.01**2))), \n",
    "                             b=ls.init.Constant(0.0),\n",
    "                             nonlinearity=ls.nonlinearities.LeakyRectify()\n",
    "                            )\n",
    "\n",
    "l_drop6 = ls.layers.DropoutLayer(incoming=l_fc2,\n",
    "                       p=keep_prob,\n",
    "                       rescale=True\n",
    "                      )\n",
    "\n",
    "#output layer\n",
    "l_out = ls.layers.DenseLayer(incoming=l_drop6, \n",
    "                             num_units=hditer_train.num_classes, \n",
    "                             W=ls.init.GlorotUniform(np.sqrt(2./(1+0.01**2))), \n",
    "                             b=ls.init.Constant(0.0),\n",
    "                             nonlinearity=ls.nonlinearities.softmax\n",
    "                            )\n",
    "\n",
    "#network\n",
    "network = [l_inp_data, l_inp_label,\n",
    "           l_conv1, l_pool1, l_drop1,\n",
    "           l_conv2, l_pool2, l_drop2,\n",
    "           l_conv3, l_pool3, l_drop3,\n",
    "           l_conv4, l_pool4, l_drop4,\n",
    "           l_flat, \n",
    "           l_fc1, l_drop5,\n",
    "           l_fc2, l_drop6,\n",
    "           l_out\n",
    "          ]\n",
    "\n",
    "#variables\n",
    "inp = l_inp_data.input_var\n",
    "lab = T.ivector('lab')\n",
    "\n",
    "#output\n",
    "lab_pred = ls.layers.get_output(l_out, {l_inp_data: inp})\n",
    "lab_pred_det = ls.layers.get_output(l_out, {l_inp_data: inp}, deterministic=True)\n",
    "\n",
    "#loss functions:\n",
    "loss = ls.objectives.categorical_crossentropy(lab_pred,lab).mean()\n",
    "loss_det = ls.objectives.categorical_crossentropy(lab_pred_det,lab).mean()\n",
    "\n",
    "#accuracy\n",
    "acc_det = ls.objectives.categorical_accuracy(lab_pred_det, lab, top_k=1).mean()\n",
    "\n",
    "#MCC\n",
    "mcc_det = matthews_correlation_coefficient(lab_pred_det,lab)\n",
    "\n",
    "#parameters\n",
    "params = ls.layers.get_all_params(network, trainable=True)\n",
    "\n",
    "#updates\n",
    "updates = ls.updates.adam(loss, params, learning_rate=initial_learning_rate)\n",
    "\n",
    "#compile network function\n",
    "fnn = theano.function([inp], lab_pred)\n",
    "fnn_det = theano.function([inp], lab_pred_det)\n",
    "#training function to minimize\n",
    "fnn_train = theano.function([inp,lab], loss, updates=updates)\n",
    "#validation function with accuracy\n",
    "fnn_validate = theano.function([inp,lab], [loss_det,acc_det,mcc_det])"
   ]
  },
  {
   "cell_type": "markdown",
   "metadata": {},
   "source": [
    "## Load Network"
   ]
  },
  {
   "cell_type": "code",
   "execution_count": null,
   "metadata": {
    "collapsed": true
   },
   "outputs": [],
   "source": [
    "#load from which files\n",
    "load_model=False\n",
    "paramsfile_load=\"model_parameters.pick\"\n",
    "updatesfile_load=\"model_updates.pick\""
   ]
  },
  {
   "cell_type": "code",
   "execution_count": null,
   "metadata": {
    "collapsed": false
   },
   "outputs": [],
   "source": [
    "if load_model:\n",
    "    #load updates\n",
    "    with open(updatesfile_load,'rb') as f:\n",
    "        values1=pickle.load(f)\n",
    "        f.close()\n",
    "        for p, value in zip(updates.keys(), values1):\n",
    "            p.set_value(value)\n",
    "    \n",
    "    #load parameters\n",
    "    with open(paramsfile_load,'rb') as f:\n",
    "        values2=pickle.load(f)\n",
    "        f.close()\n",
    "        ls.layers.set_all_param_values(network, values2, trainable=True)"
   ]
  },
  {
   "cell_type": "markdown",
   "metadata": {},
   "source": [
    "## Train classifier"
   ]
  },
  {
   "cell_type": "code",
   "execution_count": null,
   "metadata": {
    "collapsed": true
   },
   "outputs": [],
   "source": [
    "train_model=True\n",
    "num_epochs=10\n",
    "batchsize=128\n",
    "paramsfile_savebest=\"model_parameters_best.pick\"\n",
    "updatesfile_savebest=\"model_updates_best.pick\""
   ]
  },
  {
   "cell_type": "code",
   "execution_count": null,
   "metadata": {
    "collapsed": false,
    "scrolled": false
   },
   "outputs": [],
   "source": [
    "if train_model:\n",
    "    \n",
    "    #validation error\n",
    "    best_val_err=1.e6\n",
    "    \n",
    "    for epoch in range(num_epochs):\n",
    "        # In each epoch, we do a full pass over the training data:\n",
    "        train_err = 0.\n",
    "        train_acc = 0.\n",
    "        train_mcc = 0.\n",
    "        train_batches = 0.\n",
    "        start_time = time.time()\n",
    "        for batch in hditer_train.next_batch(batchsize):\n",
    "            inputs, targets = batch\n",
    "            train_err += fnn_train(inputs, targets)\n",
    "            train_batches += 1.\n",
    "        \n",
    "            #print accurarcy on training sample:\n",
    "            _, acc, mcc = fnn_validate(inputs, targets)\n",
    "            train_acc += acc\n",
    "            train_mcc += mcc\n",
    "        \n",
    "            #debugging output\n",
    "            print 'train (',int(train_batches),'):    loss = ', train_err/train_batches,'\\n',\\\n",
    "                                                '\\t\\tacc = ', train_acc/train_batches*100.,'\\n', \\\n",
    "                                                '\\t\\tmcc = ',train_mcc/train_batches\n",
    "        \n",
    "        # And a full pass over the validation data:\n",
    "        val_err = 0.\n",
    "        val_acc = 0.\n",
    "        val_mcc = 0.\n",
    "        val_batches = 0.\n",
    "        for batch in hditer_validation.next_batch(batchsize):\n",
    "            inputs, targets = batch            \n",
    "            err, acc, mcc = fnn_validate(inputs, targets)\n",
    "            val_err += err\n",
    "            val_acc += acc\n",
    "            val_mcc += mcc\n",
    "            val_batches += 1.\n",
    "        \n",
    "        #save model if the validation error decreased\n",
    "        if best_val_err>val_err:\n",
    "            #write updates\n",
    "            values1 = [p.get_value() for p in updates.keys()]\n",
    "            with open(updatesfile_savebest,'wb+') as f:\n",
    "                pickle.dump(values1,f)\n",
    "                f.close()\n",
    "        \n",
    "            #write parameters\n",
    "            values2 = ls.layers.get_all_param_values(network,trainable=True)\n",
    "            with open(paramsfile_savebest,'wb+') as f:\n",
    "                pickle.dump(values2,f)\n",
    "                f.close()\n",
    "            #update last error:\n",
    "            best_val_err=val_err\n",
    "        \n",
    "        # Then we print the results for this epoch:\n",
    "        print(\"Epoch {} of {} took {:.3f}s\".format(epoch + 1, num_epochs, time.time() - start_time))\n",
    "        print(\"  training loss:\\t\\t{:.6f}\".format(train_err / train_batches))\n",
    "        print(\"  training accuracy:\\t\\t{:.2f} %\".format(train_acc / train_batches * 100.))\n",
    "        print(\"  training mcc:\\t\\t{:.2f}\".format(train_mcc / train_batches ))\n",
    "        print(\"  validation loss:\\t\\t{:.6f}\".format(val_err / val_batches))\n",
    "        print(\"  validation accuracy:\\t\\t{:.2f} %\".format(val_acc / val_batches * 100.))\n",
    "        print(\"  validation mcc:\\t\\t{:.2f}\".format(val_mcc / val_batches ))"
   ]
  },
  {
   "cell_type": "markdown",
   "metadata": {},
   "source": [
    "## Store network"
   ]
  },
  {
   "cell_type": "code",
   "execution_count": null,
   "metadata": {
    "collapsed": true
   },
   "outputs": [],
   "source": [
    "save_model=True\n",
    "paramsfile_save=\"model_parameters.pick\"\n",
    "updatesfile_save=\"model_updates.pick\""
   ]
  },
  {
   "cell_type": "code",
   "execution_count": null,
   "metadata": {
    "collapsed": false
   },
   "outputs": [],
   "source": [
    "if save_model:\n",
    "    #write updates\n",
    "    values1 = [p.get_value() for p in updates.keys()]\n",
    "    with open(updatesfile_save,'wb+') as f:\n",
    "        pickle.dump(values1,f)\n",
    "        f.close()\n",
    "        \n",
    "    #write parameters\n",
    "    values2 = ls.layers.get_all_param_values(network,trainable=True)\n",
    "    with open(paramsfile_save,'wb+') as f:\n",
    "        pickle.dump(values2,f)\n",
    "        f.close()"
   ]
  },
  {
   "cell_type": "markdown",
   "metadata": {},
   "source": [
    "## Compute performance metrics"
   ]
  },
  {
   "cell_type": "code",
   "execution_count": null,
   "metadata": {
    "collapsed": false
   },
   "outputs": [],
   "source": [
    "from sklearn import metrics\n",
    "\n",
    "#run on test data and compute ROC:\n",
    "test_err = 0.\n",
    "test_acc = 0.\n",
    "test_batches = 0\n",
    "batchsize_test=100\n",
    "\n",
    "targets_pred = np.zeros((hditer_test.num_examples,))\n",
    "targets_gt = np.zeros((hditer_test.num_examples,))\n",
    "\n",
    "for batch in hditer_test.next_batch(batchsize_test):\n",
    "    inputs, targets = batch\n",
    "    err, acc, _ = fnn_validate(inputs,targets)\n",
    "    test_err+=err\n",
    "    test_acc+=acc\n",
    "    test_batches+=1\n",
    "    \n",
    "    targets_pred[(test_batches-1)*batchsize_test:test_batches*batchsize_test] = fnn_det(inputs)[:,1]\n",
    "    targets_gt[(test_batches-1)*batchsize_test:test_batches*batchsize_test] = targets[:]\n",
    "\n",
    "#accuracies\n",
    "print(\"  test loss:\\t\\t{:.6f}\".format(test_err / test_batches))\n",
    "print(\"  test accuracy:\\t\\t{:.2f} %\".format(test_acc / test_batches * 100.))"
   ]
  },
  {
   "cell_type": "code",
   "execution_count": null,
   "metadata": {
    "collapsed": false
   },
   "outputs": [],
   "source": [
    "#ROC curve\n",
    "#ROC\n",
    "fpr, tpr, thresholds = metrics.roc_curve(targets_gt, targets_pred, pos_label=1)\n",
    "plt.figure()\n",
    "lw = 2\n",
    "#full curve\n",
    "plt.plot(fpr, tpr, color='darkorange',\n",
    "         lw=lw, label='ROC curve (area = %0.2f)' % metrics.auc(fpr,tpr))\n",
    "plt.plot([0, 1], [0, 1], color='navy', lw=lw, linestyle='--')\n",
    "plt.xlim([0.0, 1.0])\n",
    "plt.ylim([0.0, 1.05])\n",
    "plt.xlabel('False Positive Rate')\n",
    "plt.ylabel('True Positive Rate')\n",
    "plt.title('Receiver operating characteristic example')\n",
    "plt.legend(loc=\"lower right\")\n",
    "plt.savefig('ROC_1400_850.png',dpi=300)\n",
    "\n",
    "#zoomed-in\n",
    "#plt.plot(fpr, tpr, color='darkorange',\n",
    "#         lw=lw, label='ROC curve (area = %0.2f)' % metrics.auc(fpr,tpr))\n",
    "plt.plot([0, 1], [0, 1], color='navy', lw=lw, linestyle='--')\n",
    "plt.xlim([0.0, 0.01])\n",
    "plt.ylim([0.0, 1.05])\n",
    "plt.xlabel('False Positive Rate')\n",
    "plt.ylabel('True Positive Rate')\n",
    "plt.title('Receiver operating characteristic example')\n",
    "plt.legend(loc=\"center right\")\n",
    "plt.savefig('ROC_1400_850_zoom.png',dpi=300)\n",
    "plt.show()"
   ]
  },
  {
   "cell_type": "code",
   "execution_count": null,
   "metadata": {
    "collapsed": false
   },
   "outputs": [],
   "source": [
    "def plot_example(x):\n",
    "    plt.imshow(np.log10(x).T,extent=[-3.15, 3.15, -5, 5], interpolation='none',aspect='auto', origin='low')\n",
    "    plt.colorbar()\n",
    "\n",
    "#for batch in hditer_validation:\n",
    "#    inputs,targets=batch\n",
    "#    plot_example(inputs[0,0,:,:])\n",
    "#    break\n",
    "\n",
    "for batch in hditer_train:\n",
    "    inputs,targets=batch\n",
    "    plot_example(inputs[0,0,:,:])\n",
    "    break;"
   ]
  }
 ],
 "metadata": {
  "kernelspec": {
   "display_name": "deeplearning_plus_root_cori",
   "language": "python",
   "name": "deeplearning_plus_root_cori"
  },
  "language_info": {
   "codemirror_mode": {
    "name": "ipython",
    "version": 2
   },
   "file_extension": ".py",
   "mimetype": "text/x-python",
   "name": "python",
   "nbconvert_exporter": "python",
   "pygments_lexer": "ipython2",
   "version": "2.7.12"
  }
 },
 "nbformat": 4,
 "nbformat_minor": 0
}
