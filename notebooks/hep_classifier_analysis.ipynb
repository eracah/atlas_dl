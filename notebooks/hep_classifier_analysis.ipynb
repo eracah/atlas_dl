{
 "cells": [
  {
   "cell_type": "code",
   "execution_count": 1,
   "metadata": {
    "collapsed": false
   },
   "outputs": [
    {
     "name": "stderr",
     "output_type": "stream",
     "text": [
      "/global/common/cori/software/python/3.5-anaconda/envs/deeplearning/lib/python3.5/site-packages/sklearn/cross_validation.py:44: DeprecationWarning: This module was deprecated in version 0.18 in favor of the model_selection module into which all the refactored classes and functions are moved. Also note that the interface of the new CV iterators are different from that of this module. This module will be removed in 0.20.\n",
      "  \"This module will be removed in 0.20.\", DeprecationWarning)\n"
     ]
    }
   ],
   "source": [
    "__author__ = 'tkurth'\n",
    "import sys\n",
    "import os\n",
    "import numpy as np\n",
    "import scipy as sp\n",
    "import pandas as pd\n",
    "import h5py\n",
    "from matplotlib import pyplot as plt\n",
    "import matplotlib.mlab as mlab\n",
    "from sklearn import preprocessing\n",
    "from sklearn.cross_validation import train_test_split\n",
    "from sklearn import metrics\n",
    "from nbfinder import NotebookFinder\n",
    "sys.meta_path.append(NotebookFinder())\n",
    "%matplotlib inline\n",
    "import time\n",
    "from tqdm import tqdm\n",
    "import re\n",
    "import pickle"
   ]
  },
  {
   "cell_type": "markdown",
   "metadata": {},
   "source": [
    "## Load Data"
   ]
  },
  {
   "cell_type": "code",
   "execution_count": 2,
   "metadata": {
    "collapsed": false
   },
   "outputs": [],
   "source": [
    "prefix='output'\n",
    "\n",
    "#retrieve files\n",
    "directory=\"/global/cscratch1/sd/tkurth/atlas_dl/atlas_caffe/hero_eval\"\n",
    "filelist=[x for x in os.listdir(directory) if x.startswith(prefix+'_chunk')]"
   ]
  },
  {
   "cell_type": "code",
   "execution_count": 3,
   "metadata": {
    "collapsed": false
   },
   "outputs": [
    {
     "data": {
      "text/plain": [
       "['output_chunk24.h5',\n",
       " 'output_chunk107.h5',\n",
       " 'output_chunk50.h5',\n",
       " 'output_chunk55.h5',\n",
       " 'output_chunk25.h5',\n",
       " 'output_chunk74.h5',\n",
       " 'output_chunk115.h5',\n",
       " 'output_chunk106.h5',\n",
       " 'output_chunk18.h5',\n",
       " 'output_chunk40.h5',\n",
       " 'output_chunk47.h5',\n",
       " 'output_chunk92.h5',\n",
       " 'output_chunk19.h5',\n",
       " 'output_chunk122.h5',\n",
       " 'output_chunk5.h5',\n",
       " 'output_chunk1.h5',\n",
       " 'output_chunk14.h5',\n",
       " 'output_chunk44.h5',\n",
       " 'output_chunk127.h5',\n",
       " 'output_chunk41.h5',\n",
       " 'output_chunk88.h5',\n",
       " 'output_chunk49.h5',\n",
       " 'output_chunk99.h5',\n",
       " 'output_chunk10.h5',\n",
       " 'output_chunk34.h5',\n",
       " 'output_chunk64.h5',\n",
       " 'output_chunk59.h5',\n",
       " 'output_chunk35.h5',\n",
       " 'output_chunk121.h5',\n",
       " 'output_chunk11.h5',\n",
       " 'output_chunk31.h5',\n",
       " 'output_chunk81.h5',\n",
       " 'output_chunk109.h5',\n",
       " 'output_chunk57.h5',\n",
       " 'output_chunk21.h5',\n",
       " 'output_chunk98.h5',\n",
       " 'output_chunk48.h5',\n",
       " 'output_chunk45.h5',\n",
       " 'output_chunk86.h5',\n",
       " 'output_chunk69.h5',\n",
       " 'output_chunk97.h5',\n",
       " 'output_chunk39.h5',\n",
       " 'output_chunk82.h5',\n",
       " 'output_chunk42.h5',\n",
       " 'output_chunk62.h5',\n",
       " 'output_chunk119.h5',\n",
       " 'output_chunk8.h5',\n",
       " 'output_chunk125.h5',\n",
       " 'output_chunk93.h5',\n",
       " 'output_chunk72.h5',\n",
       " 'output_chunk36.h5',\n",
       " 'output_chunk77.h5',\n",
       " 'output_chunk43.h5',\n",
       " 'output_chunk113.h5',\n",
       " 'output_chunk114.h5',\n",
       " 'output_chunk101.h5',\n",
       " 'output_chunk15.h5',\n",
       " 'output_chunk60.h5',\n",
       " 'output_chunk2.h5',\n",
       " 'output_chunk22.h5',\n",
       " 'output_chunk67.h5',\n",
       " 'output_chunk56.h5',\n",
       " 'output_chunk6.h5',\n",
       " 'output_chunk70.h5',\n",
       " 'output_chunk3.h5',\n",
       " 'output_chunk53.h5',\n",
       " 'output_chunk52.h5',\n",
       " 'output_chunk12.h5',\n",
       " 'output_chunk33.h5',\n",
       " 'output_chunk105.h5',\n",
       " 'output_chunk28.h5',\n",
       " 'output_chunk126.h5',\n",
       " 'output_chunk104.h5',\n",
       " 'output_chunk54.h5',\n",
       " 'output_chunk110.h5',\n",
       " 'output_chunk58.h5',\n",
       " 'output_chunk66.h5',\n",
       " 'output_chunk87.h5',\n",
       " 'output_chunk79.h5',\n",
       " 'output_chunk46.h5',\n",
       " 'output_chunk78.h5',\n",
       " 'output_chunk30.h5',\n",
       " 'output_chunk76.h5',\n",
       " 'output_chunk91.h5',\n",
       " 'output_chunk100.h5',\n",
       " 'output_chunk61.h5',\n",
       " 'output_chunk89.h5',\n",
       " 'output_chunk13.h5',\n",
       " 'output_chunk103.h5',\n",
       " 'output_chunk51.h5',\n",
       " 'output_chunk95.h5',\n",
       " 'output_chunk16.h5',\n",
       " 'output_chunk17.h5',\n",
       " 'output_chunk68.h5',\n",
       " 'output_chunk124.h5',\n",
       " 'output_chunk96.h5',\n",
       " 'output_chunk123.h5',\n",
       " 'output_chunk27.h5',\n",
       " 'output_chunk112.h5',\n",
       " 'output_chunk37.h5',\n",
       " 'output_chunk117.h5',\n",
       " 'output_chunk38.h5',\n",
       " 'output_chunk111.h5',\n",
       " 'output_chunk63.h5',\n",
       " 'output_chunk116.h5',\n",
       " 'output_chunk71.h5',\n",
       " 'output_chunk80.h5',\n",
       " 'output_chunk84.h5',\n",
       " 'output_chunk108.h5',\n",
       " 'output_chunk75.h5',\n",
       " 'output_chunk4.h5',\n",
       " 'output_chunk29.h5',\n",
       " 'output_chunk7.h5',\n",
       " 'output_chunk20.h5',\n",
       " 'output_chunk90.h5',\n",
       " 'output_chunk9.h5',\n",
       " 'output_chunk26.h5',\n",
       " 'output_chunk0.h5',\n",
       " 'output_chunk83.h5',\n",
       " 'output_chunk32.h5',\n",
       " 'output_chunk118.h5',\n",
       " 'output_chunk65.h5',\n",
       " 'output_chunk120.h5',\n",
       " 'output_chunk102.h5',\n",
       " 'output_chunk94.h5',\n",
       " 'output_chunk73.h5',\n",
       " 'output_chunk85.h5',\n",
       " 'output_chunk23.h5']"
      ]
     },
     "execution_count": 3,
     "metadata": {},
     "output_type": "execute_result"
    }
   ],
   "source": [
    "filelist"
   ]
  },
  {
   "cell_type": "markdown",
   "metadata": {},
   "source": [
    "## Populate Arrays"
   ]
  },
  {
   "cell_type": "code",
   "execution_count": 4,
   "metadata": {
    "collapsed": false
   },
   "outputs": [
    {
     "name": "stderr",
     "output_type": "stream",
     "text": [
      "100%|██████████| 128/128 [03:55<00:00,  1.85s/it]\n"
     ]
    }
   ],
   "source": [
    "datalist=[]\n",
    "\n",
    "for fname in tqdm(filelist):\n",
    "    \n",
    "    #determine chunkid:\n",
    "    chunkid=int(re.match(prefix+r'_chunk(.*?).h5',fname).groups()[0])\n",
    "    \n",
    "    #print \"Open file \"+fname\n",
    "    f = h5py.File(directory+'/'+fname,'r')\n",
    "    \n",
    "    tmpdata={}\n",
    "    for item in f.items():\n",
    "        \n",
    "        #determine name and ID of item\n",
    "        itemname=item[0].split('_')[0]\n",
    "        itemid=int(item[0].split('_')[1])\n",
    "        \n",
    "        #read data\n",
    "        data=list(f[item[0]].value)\n",
    "        \n",
    "        #add to dictionary\n",
    "        if (chunkid,itemid) not in tmpdata.keys():\n",
    "            tmpdata[(chunkid,itemid)]={itemname: data}\n",
    "        else:\n",
    "            tmpdata[(chunkid,itemid)][itemname]=data\n",
    "    \n",
    "    #close the file\n",
    "    f.close()\n",
    "    \n",
    "    #put in list:\n",
    "    for item in tmpdata:\n",
    "        dct=tmpdata[item].copy()\n",
    "        dct['chunk_id']=item[0]\n",
    "        dct['item_id']=item[1]\n",
    "        datalist.append(dct)"
   ]
  },
  {
   "cell_type": "code",
   "execution_count": 5,
   "metadata": {
    "collapsed": false
   },
   "outputs": [
    {
     "name": "stderr",
     "output_type": "stream",
     "text": [
      "100%|██████████| 62720/62720 [00:41<00:00, 1505.88it/s]\n"
     ]
    }
   ],
   "source": [
    "#Convert to dataframe:\n",
    "dflist=[]\n",
    "for item in tqdm(datalist):\n",
    "    datareclist=[]\n",
    "    for idx in range(len(item['softmax'])):\n",
    "        tmpdict={'signal_prob': item['softmax'][idx][1],\n",
    "                 'label': item['label'][idx],\n",
    "                 'weight': item['weight'][idx],\n",
    "                 'psr': item['psr'][idx],\n",
    "                 'jz': item['jz'][idx],\n",
    "                 'mg': item['mg'][idx],\n",
    "                 'mn': item['mn'][idx]\n",
    "                }\n",
    "        datareclist.append(tmpdict)\n",
    "    dflist.append(pd.DataFrame(datareclist))\n",
    "\n",
    "#convert to dataframe\n",
    "datadf=pd.concat(dflist)"
   ]
  },
  {
   "cell_type": "markdown",
   "metadata": {},
   "source": [
    "## ROC"
   ]
  },
  {
   "cell_type": "code",
   "execution_count": 6,
   "metadata": {
    "collapsed": true
   },
   "outputs": [],
   "source": [
    "#seldf=datadf.ix[ ((datadf.mg==1400) & (datadf.mg==850)) | (datadf.jz!=0) ]\n",
    "seldf=datadf"
   ]
  },
  {
   "cell_type": "code",
   "execution_count": 7,
   "metadata": {
    "collapsed": false
   },
   "outputs": [],
   "source": [
    "#compute ROC from data\n",
    "fpr, tpr, thresholds = metrics.roc_curve(datadf.label, datadf.signal_prob, pos_label=1, sample_weight=datadf.weight)\n",
    "fpr_cut, tpr_cut, thresholds = metrics.roc_curve(datadf.label, datadf.psr, pos_label=1, sample_weight=datadf.weight)\n",
    "fpr_cut=fpr_cut[1]\n",
    "tpr_cut=tpr_cut[1]"
   ]
  },
  {
   "cell_type": "code",
   "execution_count": 8,
   "metadata": {
    "collapsed": false
   },
   "outputs": [
    {
     "data": {
      "image/png": "[encoded data removed]",
      "text/plain": [
       "<matplotlib.figure.Figure at 0x7fd271a264e0>"
      ]
     },
     "metadata": {},
     "output_type": "display_data"
    }
   ],
   "source": [
    "#plot the data\n",
    "plt.figure()\n",
    "lw = 2\n",
    "#full curve\n",
    "plt.plot(fpr, tpr, color='darkorange',\n",
    "         lw=lw, label='ROC curve (area = %0.2f)' % metrics.auc(fpr,tpr,reorder=True))\n",
    "plt.plot([0, 1], [0, 1], color='navy', lw=lw, linestyle='--')\n",
    "plt.scatter([fpr_cut],[tpr_cut], color='dodgerblue', label='standard cuts')\n",
    "plt.xlim([0.0, 1.0])\n",
    "plt.ylim([0.0, 1.05])\n",
    "plt.xlabel('False Positive Rate')\n",
    "plt.ylabel('True Positive Rate')\n",
    "plt.title('Receiver operating characteristic example')\n",
    "plt.legend(loc=\"lower right\")\n",
    "plt.savefig('plots/ROC_1400_850.png',dpi=300)\n",
    "#plt.show()\n",
    "\n",
    "#zoomed-in\n",
    "#plt.plot(fpr, tpr, color='darkorange',\n",
    "#         lw=lw, label='ROC curve (area = %0.2f)' % metrics.auc(fpr,tpr))\n",
    "#plt.plot([0, 1], [0, 1], color='navy', lw=lw, linestyle='--')\n",
    "plt.xlim([0.0, 0.0004])\n",
    "plt.ylim([0.0, 1.05])\n",
    "plt.xlabel('False Positive Rate')\n",
    "plt.ylabel('True Positive Rate')\n",
    "plt.title('Receiver operating characteristic example')\n",
    "plt.legend(loc=\"upper right\")\n",
    "plt.savefig('plots/ROC_1400_850_zoom.png',dpi=300)\n",
    "plt.show()"
   ]
  },
  {
   "cell_type": "code",
   "execution_count": 11,
   "metadata": {
    "collapsed": false
   },
   "outputs": [
    {
     "name": "stdout",
     "output_type": "stream",
     "text": [
      "Efficiency:  54.5482308151 %\n",
      "Improvement in efficiency:  1.30650526653\n",
      "Benchmark false positive rate: 0.000235635916156\n",
      "Benchmark true positive rate: 0.417512521476\n"
     ]
    }
   ],
   "source": [
    "#directly compare at the PSR FPR:\n",
    "eff=np.interp([fpr_cut],fpr,tpr,0.1)[0]\n",
    "eff_ratio=eff/tpr_cut\n",
    "print(\"Efficiency: \",eff*100,\"%\")\n",
    "print(\"Improvement in efficiency: \",eff_ratio)\n",
    "print(\"Benchmark false positive rate:\",fpr_cut)\n",
    "print(\"Benchmark true positive rate:\",tpr_cut)"
   ]
  },
  {
   "cell_type": "markdown",
   "metadata": {},
   "source": [
    "# CNN results"
   ]
  },
  {
   "cell_type": "code",
   "execution_count": null,
   "metadata": {
    "collapsed": true
   },
   "outputs": [],
   "source": [
    "#threshold\n",
    "threshold=0.999"
   ]
  },
  {
   "cell_type": "code",
   "execution_count": null,
   "metadata": {
    "collapsed": false
   },
   "outputs": [],
   "source": [
    "#compute signal efficiency:\n",
    "total_signal=np.sum(l_data)\n",
    "found_signal=np.sum([1. if x[0]*x[1]>threshold else 0. for x in zip(l_data,p_data)])\n",
    "print 'sig-efficiency(CNN): ',found_signal/total_signal\n",
    "print 'sig-survivors(CNN): ',found_signal\n",
    "\n",
    "#compute bg rejection:\n",
    "total_background=np.sum([1.-x for x in l_data])\n",
    "false_positive_bg=np.sum([1. if (1.-x[0])*x[1]>threshold else 0. for x in zip(l_data,p_data)])\n",
    "print 'bg-rejection(CNN): ',1.-false_positive_bg/total_background\n",
    "print 'bg-survivors(CNN): ',(1.-(1.-false_positive_bg/total_background))*total_background"
   ]
  },
  {
   "cell_type": "code",
   "execution_count": null,
   "metadata": {
    "collapsed": false
   },
   "outputs": [],
   "source": [
    "#AMS\n",
    "#compute s:\n",
    "sval=np.sum([x[2] if x[0]*x[1]>threshold else 0. for x in zip(l_data,p_data,w_data)])\n",
    "bval=np.sum([x[2] if (1.-x[0])*x[1]>threshold else 0. for x in zip(l_data,p_data,w_data)])\n",
    "brval=10.\n",
    "\n",
    "#print AMS results\n",
    "print \"AMS(CNN) = \",np.sqrt(2.*((sval+bval+brval)*np.log(1.+sval/(bval+brval))-sval))"
   ]
  },
  {
   "cell_type": "markdown",
   "metadata": {},
   "source": [
    "# Cut-based results"
   ]
  },
  {
   "cell_type": "code",
   "execution_count": null,
   "metadata": {
    "collapsed": false
   },
   "outputs": [],
   "source": [
    "#compute signal efficiency:\n",
    "total_signal=np.sum(l_data)\n",
    "found_signal=np.sum([1. if x[0]*x[1]>0. else 0. for x in zip(l_data,c_data)])\n",
    "print 'sig-efficiency(CUT): ',found_signal/total_signal\n",
    "print 'sig-survivors(CUT): ',found_signal\n",
    "\n",
    "#compute bg rejection:\n",
    "total_background=np.sum([1.-x for x in l_data])\n",
    "false_positive_bg=np.sum([1. if (1.-x[0])*x[1]>0. else 0. for x in zip(l_data,c_data)])\n",
    "print 'bg-rejection(CUT): ',1.-false_positive_bg/total_background\n",
    "print 'bg-survivors(CUT): ',(1.-(1.-false_positive_bg/total_background))*total_background"
   ]
  },
  {
   "cell_type": "code",
   "execution_count": null,
   "metadata": {
    "collapsed": false
   },
   "outputs": [],
   "source": [
    "#AMS\n",
    "#compute s:\n",
    "sval=np.sum([x[2] if x[0]*x[1]>threshold else 0. for x in zip(l_data,c_data,w_data)])\n",
    "bval=np.sum([x[2] if (1.-x[0])*x[1]>threshold else 0. for x in zip(l_data,c_data,w_data)])\n",
    "brval=10.\n",
    "\n",
    "#print AMS results\n",
    "print \"AMS(CUT) = \",np.sqrt(2.*((sval+bval+brval)*np.log(1.+sval/(bval+brval))-sval))"
   ]
  },
  {
   "cell_type": "code",
   "execution_count": null,
   "metadata": {
    "collapsed": true
   },
   "outputs": [],
   "source": []
  }
 ],
 "metadata": {
  "anaconda-cloud": {},
  "kernelspec": {
   "display_name": "thorstendl",
   "language": "python",
   "name": "thorstendl"
  },
  "language_info": {
   "codemirror_mode": {
    "name": "ipython",
    "version": 2
   },
   "file_extension": ".py",
   "mimetype": "text/x-python",
   "name": "python",
   "nbconvert_exporter": "python",
   "pygments_lexer": "ipython2",
   "version": "2.7.12"
  }
 },
 "nbformat": 4,
 "nbformat_minor": 0
}
