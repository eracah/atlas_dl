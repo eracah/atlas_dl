{
 "cells": [
  {
   "cell_type": "code",
   "execution_count": 1,
   "metadata": {
    "collapsed": false
   },
   "outputs": [
    {
     "data": {
      "application/javascript": [
       "require(['codemirror/mode/clike/clike'], function(Clike) { console.log('ROOTaaS - C++ CodeMirror module loaded'); });"
      ]
     },
     "metadata": {},
     "output_type": "display_data"
    },
    {
     "data": {
      "application/javascript": [
       "IPython.CodeCell.config_defaults.highlight_modes['magic_text/x-c++src'] = {'reg':[/^%%cpp/]};"
      ]
     },
     "metadata": {},
     "output_type": "display_data"
    },
    {
     "name": "stdout",
     "output_type": "stream",
     "text": [
      "Welcome to ROOTaaS 6.06/06\n"
     ]
    }
   ],
   "source": [
    "from __future__ import print_function\n",
    "import functools\n",
    "import numpy as np\n",
    "import matplotlib.pyplot as plt\n",
    "import pandas as pd\n",
    "import ROOT;\n",
    "import sys\n",
    "sys.path.append('/global/homes/w/wbhimji/cori-envs/nersc-rootpy/lib/python2.7/site-packages/')\n",
    "import root_numpy as rnp\n",
    "%matplotlib notebook"
   ]
  },
  {
   "cell_type": "markdown",
   "metadata": {},
   "source": [
    "# Loading the input into numpy\n",
    "\n",
    "Using root_numpy to make structured arrays."
   ]
  },
  {
   "cell_type": "code",
   "execution_count": 2,
   "metadata": {
    "collapsed": false
   },
   "outputs": [],
   "source": [
    "#filename = '/Users/sfarrell/Atlas/xaod/mc15_13TeV.361023.Pythia8EvtGen_A14NNPDF23LO_jetjet_JZ3W.merge.DAOD_EXOT3.e3668_s2576_s2132_r7728_r7676_p2613/DAOD_EXOT3.08204445._000002.pool.root.1'\n",
    "#signal\n",
    "#filename = '/global/projecta/projectdirs/atlas/atlaslocalgroupdisk/rucio/mc15_13TeV/76/71/DAOD_EXOT3.08629754._000001.pool.root.1'\n",
    "#bg\n",
    "#filename = '/global/projecta/projectdirs/atlas/atlaslocalgroupdisk/rucio/mc15_13TeV/ca/31/DAOD_EXOT3.08910637._000016.pool.root.1'\n",
    "#Delphes\n",
    "#filename = '/global/project/projectdirs/mpccc/wbhimji/Delphes-3.4.0/RPVSusy_1400_850_100_XXXX-10k-9-1-28.root'\n",
    "filename = '/global/project/projectdirs/mpccc/wbhimji/Delphes-3.4.0/RPV10_1400_850-10k-1-1-1.root'\n",
    "#Delphes Bg\n",
    "#filename = '/global/project/projectdirs/mpccc/wbhimji/Delphes-3.3.2/Data/QCDBkg_200_2500-30k-2-22.root'\n",
    "#bg_files = filename"
   ]
  },
  {
   "cell_type": "code",
   "execution_count": 3,
   "metadata": {
    "collapsed": false
   },
   "outputs": [],
   "source": [
    "#bg_files = [line.rstrip() for line in open('/global/project/projectdirs/das/wbhimji/RPVSusyJetLearn/atlas_dl/config/mc15_13TeV.361004.Pythia8EvtGen_A14NNPDF23LO_jetjet_JZ4.merge.DAOD_EXOT3.e3569_s2576_s2132_r7772_r7676_p2688-FileList.txt')]\n",
    "#bg_files = [line.rstrip() for line in open('/project/projectdirs/das/wbhimji/RPVSusyJetLearn//atlas_dl/config/Delphes_QCDBkg_200_2500.txt')]\n",
    "bg_files = [line.rstrip() for line in open('/project/projectdirs/dasrepo/atlas_rpv_susy/DelphesData/Delphes_QCDBkg_800_2500.txt')]\n",
    "#sig_files = [line.rstrip() for line in open('/global/project/projectdirs/das/wbhimji/RPVSusyJetLearn/atlas_dl/config/mc15_13TeV.403568.MadGraphPythia8EvtGen_A14NNPDF23LO_GG_RPV10_1400_850.merge.DAOD_EXOT3.e5079_a766_a821_r7676_p2669-FileList.txt')]"
   ]
  },
  {
   "cell_type": "code",
   "execution_count": 3,
   "metadata": {
    "collapsed": true
   },
   "outputs": [],
   "source": [
    "# Branch names to read in and rename for convenience\n",
    "#branchMap = {\n",
    "#    'CaloCalTopoClustersAuxDyn.calEta' : 'ClusEta',\n",
    "#    'CaloCalTopoClustersAuxDyn.calPhi' : 'ClusPhi',\n",
    "#    'CaloCalTopoClustersAuxDyn.calE' : 'ClusE',\n",
    "#    'AntiKt10LCTopoTrimmedPtFrac5SmallR20JetsAux.pt' : 'FatJetPt',\n",
    "#    'AntiKt10LCTopoTrimmedPtFrac5SmallR20JetsAux.eta' : 'FatJetEta',\n",
    "#    'AntiKt10LCTopoTrimmedPtFrac5SmallR20JetsAux.phi' : 'FatJetPhi',\n",
    "#    'AntiKt10LCTopoTrimmedPtFrac5SmallR20JetsAux.m' : 'FatJetM',\n",
    "#}\n",
    "\n",
    "branchMap = {\n",
    "    'Tower.Eta' : 'ClusEta',\n",
    "    'Tower.Phi' : 'ClusPhi',\n",
    "    'Tower.E' : 'ClusE',\n",
    "    'FatJet.PT' : 'FatJetPt',\n",
    "    'FatJet.Eta' : 'FatJetEta',\n",
    "    'FatJet.Phi' : 'FatJetPhi',\n",
    "    'FatJet.Mass' : 'FatJetM',\n",
    "}\n",
    "\n",
    "treename = 'Delphes'"
   ]
  },
  {
   "cell_type": "code",
   "execution_count": 4,
   "metadata": {
    "collapsed": false
   },
   "outputs": [
    {
     "name": "stderr",
     "output_type": "stream",
     "text": [
      "TClass::Init:0: RuntimeWarning: no dictionary for class HepMCEvent is available\n",
      "TClass::Init:0: RuntimeWarning: no dictionary for class Event is available\n",
      "TClass::Init:0: RuntimeWarning: no dictionary for class GenParticle is available\n",
      "TClass::Init:0: RuntimeWarning: no dictionary for class SortableObject is available\n",
      "TClass::Init:0: RuntimeWarning: no dictionary for class Tower is available\n",
      "TClass::Init:0: RuntimeWarning: no dictionary for class Jet is available\n",
      "TClass::Init:0: RuntimeWarning: no dictionary for class MissingET is available\n",
      "TClass::Init:0: RuntimeWarning: no dictionary for class Electron is available\n",
      "TClass::Init:0: RuntimeWarning: no dictionary for class Photon is available\n",
      "TClass::Init:0: RuntimeWarning: no dictionary for class Muon is available\n",
      "TClass::Init:0: RuntimeWarning: no dictionary for class ScalarHT is available\n",
      "TClass::Init:0: RuntimeWarning: no dictionary for class Rho is available\n",
      "TClass::Init:0: RuntimeWarning: no dictionary for class Vertex is available\n",
      "TClass::Init:0: RuntimeWarning: no dictionary for class Track is available\n"
     ]
    },
    {
     "name": "stdout",
     "output_type": "stream",
     "text": [
      "Entries: 10000\n"
     ]
    },
    {
     "data": {
      "text/plain": [
       "dtype([('FatJetPhi', 'O'), ('ClusEta', 'O'), ('FatJetEta', 'O'), ('FatJetM', 'O'), ('FatJetPt', 'O'), ('ClusPhi', 'O'), ('ClusE', 'O')])"
      ]
     },
     "execution_count": 4,
     "metadata": {},
     "output_type": "execute_result"
    }
   ],
   "source": [
    "entries = rnp.root2array(filename, treename=treename,\n",
    "                         branches=branchMap.keys(),warn_missing_tree=True,\n",
    "                          start=0, stop=1000000)\n",
    "entries.dtype.names = branchMap.values()\n",
    "print('Entries:', entries.size)\n",
    "entries.dtype"
   ]
  },
  {
   "cell_type": "markdown",
   "metadata": {},
   "source": [
    "# Indexing and selection with numpy\n",
    "Since the data is structured, we can index by key name and do some fancy stuff."
   ]
  },
  {
   "cell_type": "code",
   "execution_count": 5,
   "metadata": {
    "collapsed": false
   },
   "outputs": [
    {
     "name": "stdout",
     "output_type": "stream",
     "text": [
      "[ 550.12115479  459.74655151  351.13119507  298.21060181  166.30787659\n",
      "  161.58760071  102.10914612  100.22109985   78.06517792   59.38471985\n",
      "   50.05165863   35.4783287    25.56940269   20.10978889]\n",
      "[ 550121.15478516  459746.55151367  351131.19506836  298210.60180664\n",
      "  166307.87658691  161587.60070801  102109.14611816  100221.09985352\n",
      "   78065.17791748   59384.71984863   50051.65863037   35478.32870483\n",
      "   25569.4026947    20109.78889465]\n",
      "[ 138.5450592   246.06826782  121.46086121   68.67362976   63.20275879\n",
      "   55.82482529   32.745121     52.35852432   29.9309082    16.74505234\n",
      "   20.99988365   23.5653038    14.96719837   13.23032665]\n"
     ]
    }
   ],
   "source": [
    "# Multiple ways to dump variables for a specific event.\n",
    "# I'm actually surprised these both work.\n",
    "print(entries[0]['FatJetPt'])\n",
    "print(entries['FatJetPt'][0]*1000)\n",
    "print(entries['FatJetM'][0])\n"
   ]
  },
  {
   "cell_type": "code",
   "execution_count": 6,
   "metadata": {
    "collapsed": true
   },
   "outputs": [],
   "source": [
    "entries['FatJetPt']=entries['FatJetPt']*1000\n",
    "entries['FatJetM']=entries['FatJetM']*1000"
   ]
  },
  {
   "cell_type": "code",
   "execution_count": 7,
   "metadata": {
    "collapsed": false
   },
   "outputs": [],
   "source": [
    "bgdf = pd.DataFrame.from_records(entries)"
   ]
  },
  {
   "cell_type": "code",
   "execution_count": 8,
   "metadata": {
    "collapsed": false
   },
   "outputs": [
    {
     "data": {
      "text/plain": [
       "array([ True,  True,  True, False, False, False, False, False, False,\n",
       "       False, False, False, False, False, False, False, False, False, False], dtype=bool)"
      ]
     },
     "execution_count": 8,
     "metadata": {},
     "output_type": "execute_result"
    }
   ],
   "source": [
    "# Perform object selections on one event\n",
    "event = entries[3]\n",
    "event['FatJetPt'] > 300000"
   ]
  },
  {
   "cell_type": "code",
   "execution_count": 9,
   "metadata": {
    "collapsed": false
   },
   "outputs": [
    {
     "name": "stdout",
     "output_type": "stream",
     "text": [
      "[ array([ True,  True,  True,  True, False, False, False, False, False,\n",
      "       False, False, False, False, False], dtype=bool)\n",
      " array([ True,  True,  True,  True, False, False, False, False, False,\n",
      "       False, False, False, False, False, False, False, False, False,\n",
      "       False, False, False, False], dtype=bool)\n",
      " array([ True,  True,  True,  True,  True, False, False, False, False,\n",
      "       False, False, False, False, False, False, False, False, False], dtype=bool)\n",
      " ...,\n",
      " array([ True,  True,  True, False, False, False, False, False, False,\n",
      "       False, False, False, False, False, False, False, False, False,\n",
      "       False, False], dtype=bool)\n",
      " array([ True,  True,  True,  True, False, False, False, False, False,\n",
      "       False, False, False, False, False, False, False], dtype=bool)\n",
      " array([ True,  True,  True,  True, False, False, False, False, False,\n",
      "       False, False, False, False, False, False], dtype=bool)]\n"
     ]
    }
   ],
   "source": [
    "# Select fatjets with pt > 200 GeV for all events in one go\n",
    "f = np.vectorize(lambda jetPts: jetPts > 200000, otypes=[np.ndarray])\n",
    "selectedJets = f(entries['FatJetPt'])\n",
    "print(selectedJets)"
   ]
  },
  {
   "cell_type": "code",
   "execution_count": 10,
   "metadata": {
    "collapsed": false
   },
   "outputs": [
    {
     "name": "stdout",
     "output_type": "stream",
     "text": [
      "[4 4 5 ..., 3 4 4]\n",
      "[ True  True  True ...,  True  True  True]\n"
     ]
    }
   ],
   "source": [
    "# Select events with at least 2 selected jets\n",
    "countSelected = np.vectorize(sum)\n",
    "numJets = countSelected(selectedJets)\n",
    "selectedEvents = numJets >= 2\n",
    "print(numJets)\n",
    "print(selectedEvents)"
   ]
  },
  {
   "cell_type": "markdown",
   "metadata": {},
   "source": [
    "## Physics selections and variables\n",
    "Enough playing around. Let's test out the actual physics selections. The code has been put into the physics_selections module in the containing directory of this notebook."
   ]
  },
  {
   "cell_type": "code",
   "execution_count": 11,
   "metadata": {
    "collapsed": false
   },
   "outputs": [],
   "source": [
    "sys.path.append('/project/projectdirs/das/wbhimji/RPVSusyJetLearn/atlas_dl_submitter/atlas_dl/scripts/')\n",
    "from physics_selections import (select_fatjets, is_baseline_event,\n",
    "                                sum_fatjet_mass, is_signal_region_event)"
   ]
  },
  {
   "cell_type": "code",
   "execution_count": 12,
   "metadata": {
    "collapsed": false
   },
   "outputs": [
    {
     "name": "stdout",
     "output_type": "stream",
     "text": [
      "Baseline selected events: 9636 / 10000\n"
     ]
    }
   ],
   "source": [
    "vec_select_fatjets = np.vectorize(select_fatjets, otypes=[np.ndarray])\n",
    "vec_select_baseline_events = np.vectorize(is_baseline_event)\n",
    "selectedFatJets = vec_select_fatjets(entries['FatJetPt'], entries['FatJetEta'])\n",
    "baselineEvents = vec_select_baseline_events(entries['FatJetPt'], selectedFatJets)\n",
    "print('Baseline selected events: %d / %d' % (np.sum(baselineEvents), entries.size))"
   ]
  },
  {
   "cell_type": "code",
   "execution_count": 13,
   "metadata": {
    "collapsed": false
   },
   "outputs": [
    {
     "name": "stdout",
     "output_type": "stream",
     "text": [
      "[ 574747.81799316  798706.8862915   664115.17333984 ...,  935794.41070557\n",
      "  706439.91851807  671791.95404053]\n"
     ]
    }
   ],
   "source": [
    "# Calculate the summed jet mass for all events\n",
    "summedMasses = np.vectorize(sum_fatjet_mass)(entries['FatJetM'], selectedFatJets)\n",
    "print(summedMasses[baselineEvents])"
   ]
  },
  {
   "cell_type": "code",
   "execution_count": 14,
   "metadata": {
    "collapsed": false
   },
   "outputs": [
    {
     "name": "stdout",
     "output_type": "stream",
     "text": [
      "Signal events: 5658 / 10000\n"
     ]
    }
   ],
   "source": [
    "vec_select_sr_events = np.vectorize(is_signal_region_event)\n",
    "signalEvents = vec_select_sr_events(summedMasses, entries['FatJetPt'], entries['FatJetEta'],\n",
    "                                    selectedFatJets, baselineEvents)\n",
    "signalEntries = entries[signalEvents]\n",
    "numSignalEvents = np.sum(signalEvents)\n",
    "print('Signal events: %d / %d' % (numSignalEvents, entries.size))"
   ]
  },
  {
   "cell_type": "markdown",
   "metadata": {},
   "source": [
    "# Drawing signal region events"
   ]
  },
  {
   "cell_type": "code",
   "execution_count": 15,
   "metadata": {
    "collapsed": false
   },
   "outputs": [],
   "source": [
    "def get_hist2d(event):\n",
    "    \"\"\"Convert event into the calo-cluster image\"\"\"\n",
    "    return np.histogram2d(event['ClusEta'], event['ClusPhi'],\n",
    "                          bins=(50, 50), weights=event['ClusE'],\n",
    "                          range=[[-2.5, 2.5], [-3.15, 3.15]])[0]\n",
    "\n",
    "def plot_calo_image(h2d):\n",
    "    \"\"\"Plot a calo-image on the current axes\"\"\"\n",
    "    plt.imshow(np.log10(h2d).T, #extent=[-2.,2.,-3.14, 3.14],\n",
    "               extent=[-2.5, 2.5, -3.15, 3.15],\n",
    "               interpolation='none', aspect='auto', origin='low')\n",
    "    plt.colorbar(label='Cluster energy [Log(MeV)]')\n",
    "    plt.xlabel('eta')\n",
    "    plt.ylabel('phi')\n",
    "\n",
    "def plot_jets(jetEtas, jetPhis, jetRadius=1):\n",
    "    \"\"\"Plot jet circles on the current axes\"\"\"\n",
    "    for eta, phi in zip(jetEtas, jetPhis):\n",
    "        circle = plt.Circle((eta, phi), radius=jetRadius, facecolor='none')\n",
    "        plt.gcf().gca().add_artist(circle)"
   ]
  },
  {
   "cell_type": "code",
   "execution_count": 16,
   "metadata": {
    "collapsed": false
   },
   "outputs": [],
   "source": [
    "# Pick out a sample of signal region events.\n",
    "# The indexing is now starting to get very confusing.\n",
    "numSample = 4\n",
    "sampleIdxs = np.random.choice(np.arange(numSignalEvents), numSample, replace=False)\n",
    "sampleEntries = signalEntries[sampleIdxs]\n",
    "sampleFatJets = selectedFatJets[signalEvents][sampleIdxs] # are we lost yet?\n",
    "assert(sampleEntries.size == sampleFatJets.size)"
   ]
  },
  {
   "cell_type": "code",
   "execution_count": 17,
   "metadata": {
    "collapsed": false
   },
   "outputs": [],
   "source": [
    "# Get the quantities to plot\n",
    "hists = [get_hist2d(ev) for ev in sampleEntries]\n",
    "jetEtas = [etas[jets] for (etas, jets) in zip(sampleEntries['FatJetEta'], sampleFatJets)]\n",
    "jetPhis = [phis[jets] for (phis, jets) in zip(sampleEntries['FatJetPhi'], sampleFatJets)]"
   ]
  },
  {
   "cell_type": "code",
   "execution_count": 18,
   "metadata": {
    "collapsed": false,
    "scrolled": false
   },
   "outputs": [
    {
     "data": {
      "application/javascript": [
       "/* Put everything inside the global mpl namespace */\n",
       "window.mpl = {};\n",
       "\n",
       "mpl.get_websocket_type = function() {\n",
       "    if (typeof(WebSocket) !== 'undefined') {\n",
       "        return WebSocket;\n",
       "    } else if (typeof(MozWebSocket) !== 'undefined') {\n",
       "        return MozWebSocket;\n",
       "    } else {\n",
       "        alert('Your browser does not have WebSocket support.' +\n",
       "              'Please try Chrome, Safari or Firefox ≥ 6. ' +\n",
       "              'Firefox 4 and 5 are also supported but you ' +\n",
       "              'have to enable WebSockets in about:config.');\n",
       "    };\n",
       "}\n",
       "\n",
       "mpl.figure = function(figure_id, websocket, ondownload, parent_element) {\n",
       "    this.id = figure_id;\n",
       "\n",
       "    this.ws = websocket;\n",
       "\n",
       "    this.supports_binary = (this.ws.binaryType != undefined);\n",
       "\n",
       "    if (!this.supports_binary) {\n",
       "        var warnings = document.getElementById(\"mpl-warnings\");\n",
       "        if (warnings) {\n",
       "            warnings.style.display = 'block';\n",
       "            warnings.textContent = (\n",
       "                \"This browser does not support binary websocket messages. \" +\n",
       "                    \"Performance may be slow.\");\n",
       "        }\n",
       "    }\n",
       "\n",
       "    this.imageObj = new Image();\n",
       "\n",
       "    this.context = undefined;\n",
       "    this.message = undefined;\n",
       "    this.canvas = undefined;\n",
       "    this.rubberband_canvas = undefined;\n",
       "    this.rubberband_context = undefined;\n",
       "    this.format_dropdown = undefined;\n",
       "\n",
       "    this.image_mode = 'full';\n",
       "\n",
       "    this.root = $('<div/>');\n",
       "    this._root_extra_style(this.root)\n",
       "    this.root.attr('style', 'display: inline-block');\n",
       "\n",
       "    $(parent_element).append(this.root);\n",
       "\n",
       "    this._init_header(this);\n",
       "    this._init_canvas(this);\n",
       "    this._init_toolbar(this);\n",
       "\n",
       "    var fig = this;\n",
       "\n",
       "    this.waiting = false;\n",
       "\n",
       "    this.ws.onopen =  function () {\n",
       "            fig.send_message(\"supports_binary\", {value: fig.supports_binary});\n",
       "            fig.send_message(\"send_image_mode\", {});\n",
       "            fig.send_message(\"refresh\", {});\n",
       "        }\n",
       "\n",
       "    this.imageObj.onload = function() {\n",
       "            if (fig.image_mode == 'full') {\n",
       "                // Full images could contain transparency (where diff images\n",
       "                // almost always do), so we need to clear the canvas so that\n",
       "                // there is no ghosting.\n",
       "                fig.context.clearRect(0, 0, fig.canvas.width, fig.canvas.height);\n",
       "            }\n",
       "            fig.context.drawImage(fig.imageObj, 0, 0);\n",
       "        };\n",
       "\n",
       "    this.imageObj.onunload = function() {\n",
       "        this.ws.close();\n",
       "    }\n",
       "\n",
       "    this.ws.onmessage = this._make_on_message_function(this);\n",
       "\n",
       "    this.ondownload = ondownload;\n",
       "}\n",
       "\n",
       "mpl.figure.prototype._init_header = function() {\n",
       "    var titlebar = $(\n",
       "        '<div class=\"ui-dialog-titlebar ui-widget-header ui-corner-all ' +\n",
       "        'ui-helper-clearfix\"/>');\n",
       "    var titletext = $(\n",
       "        '<div class=\"ui-dialog-title\" style=\"width: 100%; ' +\n",
       "        'text-align: center; padding: 3px;\"/>');\n",
       "    titlebar.append(titletext)\n",
       "    this.root.append(titlebar);\n",
       "    this.header = titletext[0];\n",
       "}\n",
       "\n",
       "\n",
       "\n",
       "mpl.figure.prototype._canvas_extra_style = function(canvas_div) {\n",
       "\n",
       "}\n",
       "\n",
       "\n",
       "mpl.figure.prototype._root_extra_style = function(canvas_div) {\n",
       "\n",
       "}\n",
       "\n",
       "mpl.figure.prototype._init_canvas = function() {\n",
       "    var fig = this;\n",
       "\n",
       "    var canvas_div = $('<div/>');\n",
       "\n",
       "    canvas_div.attr('style', 'position: relative; clear: both; outline: 0');\n",
       "\n",
       "    function canvas_keyboard_event(event) {\n",
       "        return fig.key_event(event, event['data']);\n",
       "    }\n",
       "\n",
       "    canvas_div.keydown('key_press', canvas_keyboard_event);\n",
       "    canvas_div.keyup('key_release', canvas_keyboard_event);\n",
       "    this.canvas_div = canvas_div\n",
       "    this._canvas_extra_style(canvas_div)\n",
       "    this.root.append(canvas_div);\n",
       "\n",
       "    var canvas = $('<canvas/>');\n",
       "    canvas.addClass('mpl-canvas');\n",
       "    canvas.attr('style', \"left: 0; top: 0; z-index: 0; outline: 0\")\n",
       "\n",
       "    this.canvas = canvas[0];\n",
       "    this.context = canvas[0].getContext(\"2d\");\n",
       "\n",
       "    var rubberband = $('<canvas/>');\n",
       "    rubberband.attr('style', \"position: absolute; left: 0; top: 0; z-index: 1;\")\n",
       "\n",
       "    var pass_mouse_events = true;\n",
       "\n",
       "    canvas_div.resizable({\n",
       "        start: function(event, ui) {\n",
       "            pass_mouse_events = false;\n",
       "        },\n",
       "        resize: function(event, ui) {\n",
       "            fig.request_resize(ui.size.width, ui.size.height);\n",
       "        },\n",
       "        stop: function(event, ui) {\n",
       "            pass_mouse_events = true;\n",
       "            fig.request_resize(ui.size.width, ui.size.height);\n",
       "        },\n",
       "    });\n",
       "\n",
       "    function mouse_event_fn(event) {\n",
       "        if (pass_mouse_events)\n",
       "            return fig.mouse_event(event, event['data']);\n",
       "    }\n",
       "\n",
       "    rubberband.mousedown('button_press', mouse_event_fn);\n",
       "    rubberband.mouseup('button_release', mouse_event_fn);\n",
       "    // Throttle sequential mouse events to 1 every 20ms.\n",
       "    rubberband.mousemove('motion_notify', mouse_event_fn);\n",
       "\n",
       "    rubberband.mouseenter('figure_enter', mouse_event_fn);\n",
       "    rubberband.mouseleave('figure_leave', mouse_event_fn);\n",
       "\n",
       "    canvas_div.on(\"wheel\", function (event) {\n",
       "        event = event.originalEvent;\n",
       "        event['data'] = 'scroll'\n",
       "        if (event.deltaY < 0) {\n",
       "            event.step = 1;\n",
       "        } else {\n",
       "            event.step = -1;\n",
       "        }\n",
       "        mouse_event_fn(event);\n",
       "    });\n",
       "\n",
       "    canvas_div.append(canvas);\n",
       "    canvas_div.append(rubberband);\n",
       "\n",
       "    this.rubberband = rubberband;\n",
       "    this.rubberband_canvas = rubberband[0];\n",
       "    this.rubberband_context = rubberband[0].getContext(\"2d\");\n",
       "    this.rubberband_context.strokeStyle = \"#000000\";\n",
       "\n",
       "    this._resize_canvas = function(width, height) {\n",
       "        // Keep the size of the canvas, canvas container, and rubber band\n",
       "        // canvas in synch.\n",
       "        canvas_div.css('width', width)\n",
       "        canvas_div.css('height', height)\n",
       "\n",
       "        canvas.attr('width', width);\n",
       "        canvas.attr('height', height);\n",
       "\n",
       "        rubberband.attr('width', width);\n",
       "        rubberband.attr('height', height);\n",
       "    }\n",
       "\n",
       "    // Set the figure to an initial 600x600px, this will subsequently be updated\n",
       "    // upon first draw.\n",
       "    this._resize_canvas(600, 600);\n",
       "\n",
       "    // Disable right mouse context menu.\n",
       "    $(this.rubberband_canvas).bind(\"contextmenu\",function(e){\n",
       "        return false;\n",
       "    });\n",
       "\n",
       "    function set_focus () {\n",
       "        canvas.focus();\n",
       "        canvas_div.focus();\n",
       "    }\n",
       "\n",
       "    window.setTimeout(set_focus, 100);\n",
       "}\n",
       "\n",
       "mpl.figure.prototype._init_toolbar = function() {\n",
       "    var fig = this;\n",
       "\n",
       "    var nav_element = $('<div/>')\n",
       "    nav_element.attr('style', 'width: 100%');\n",
       "    this.root.append(nav_element);\n",
       "\n",
       "    // Define a callback function for later on.\n",
       "    function toolbar_event(event) {\n",
       "        return fig.toolbar_button_onclick(event['data']);\n",
       "    }\n",
       "    function toolbar_mouse_event(event) {\n",
       "        return fig.toolbar_button_onmouseover(event['data']);\n",
       "    }\n",
       "\n",
       "    for(var toolbar_ind in mpl.toolbar_items) {\n",
       "        var name = mpl.toolbar_items[toolbar_ind][0];\n",
       "        var tooltip = mpl.toolbar_items[toolbar_ind][1];\n",
       "        var image = mpl.toolbar_items[toolbar_ind][2];\n",
       "        var method_name = mpl.toolbar_items[toolbar_ind][3];\n",
       "\n",
       "        if (!name) {\n",
       "            // put a spacer in here.\n",
       "            continue;\n",
       "        }\n",
       "        var button = $('<button/>');\n",
       "        button.addClass('ui-button ui-widget ui-state-default ui-corner-all ' +\n",
       "                        'ui-button-icon-only');\n",
       "        button.attr('role', 'button');\n",
       "        button.attr('aria-disabled', 'false');\n",
       "        button.click(method_name, toolbar_event);\n",
       "        button.mouseover(tooltip, toolbar_mouse_event);\n",
       "\n",
       "        var icon_img = $('<span/>');\n",
       "        icon_img.addClass('ui-button-icon-primary ui-icon');\n",
       "        icon_img.addClass(image);\n",
       "        icon_img.addClass('ui-corner-all');\n",
       "\n",
       "        var tooltip_span = $('<span/>');\n",
       "        tooltip_span.addClass('ui-button-text');\n",
       "        tooltip_span.html(tooltip);\n",
       "\n",
       "        button.append(icon_img);\n",
       "        button.append(tooltip_span);\n",
       "\n",
       "        nav_element.append(button);\n",
       "    }\n",
       "\n",
       "    var fmt_picker_span = $('<span/>');\n",
       "\n",
       "    var fmt_picker = $('<select/>');\n",
       "    fmt_picker.addClass('mpl-toolbar-option ui-widget ui-widget-content');\n",
       "    fmt_picker_span.append(fmt_picker);\n",
       "    nav_element.append(fmt_picker_span);\n",
       "    this.format_dropdown = fmt_picker[0];\n",
       "\n",
       "    for (var ind in mpl.extensions) {\n",
       "        var fmt = mpl.extensions[ind];\n",
       "        var option = $(\n",
       "            '<option/>', {selected: fmt === mpl.default_extension}).html(fmt);\n",
       "        fmt_picker.append(option)\n",
       "    }\n",
       "\n",
       "    // Add hover states to the ui-buttons\n",
       "    $( \".ui-button\" ).hover(\n",
       "        function() { $(this).addClass(\"ui-state-hover\");},\n",
       "        function() { $(this).removeClass(\"ui-state-hover\");}\n",
       "    );\n",
       "\n",
       "    var status_bar = $('<span class=\"mpl-message\"/>');\n",
       "    nav_element.append(status_bar);\n",
       "    this.message = status_bar[0];\n",
       "}\n",
       "\n",
       "mpl.figure.prototype.request_resize = function(x_pixels, y_pixels) {\n",
       "    // Request matplotlib to resize the figure. Matplotlib will then trigger a resize in the client,\n",
       "    // which will in turn request a refresh of the image.\n",
       "    this.send_message('resize', {'width': x_pixels, 'height': y_pixels});\n",
       "}\n",
       "\n",
       "mpl.figure.prototype.send_message = function(type, properties) {\n",
       "    properties['type'] = type;\n",
       "    properties['figure_id'] = this.id;\n",
       "    this.ws.send(JSON.stringify(properties));\n",
       "}\n",
       "\n",
       "mpl.figure.prototype.send_draw_message = function() {\n",
       "    if (!this.waiting) {\n",
       "        this.waiting = true;\n",
       "        this.ws.send(JSON.stringify({type: \"draw\", figure_id: this.id}));\n",
       "    }\n",
       "}\n",
       "\n",
       "\n",
       "mpl.figure.prototype.handle_save = function(fig, msg) {\n",
       "    var format_dropdown = fig.format_dropdown;\n",
       "    var format = format_dropdown.options[format_dropdown.selectedIndex].value;\n",
       "    fig.ondownload(fig, format);\n",
       "}\n",
       "\n",
       "\n",
       "mpl.figure.prototype.handle_resize = function(fig, msg) {\n",
       "    var size = msg['size'];\n",
       "    if (size[0] != fig.canvas.width || size[1] != fig.canvas.height) {\n",
       "        fig._resize_canvas(size[0], size[1]);\n",
       "        fig.send_message(\"refresh\", {});\n",
       "    };\n",
       "}\n",
       "\n",
       "mpl.figure.prototype.handle_rubberband = function(fig, msg) {\n",
       "    var x0 = msg['x0'];\n",
       "    var y0 = fig.canvas.height - msg['y0'];\n",
       "    var x1 = msg['x1'];\n",
       "    var y1 = fig.canvas.height - msg['y1'];\n",
       "    x0 = Math.floor(x0) + 0.5;\n",
       "    y0 = Math.floor(y0) + 0.5;\n",
       "    x1 = Math.floor(x1) + 0.5;\n",
       "    y1 = Math.floor(y1) + 0.5;\n",
       "    var min_x = Math.min(x0, x1);\n",
       "    var min_y = Math.min(y0, y1);\n",
       "    var width = Math.abs(x1 - x0);\n",
       "    var height = Math.abs(y1 - y0);\n",
       "\n",
       "    fig.rubberband_context.clearRect(\n",
       "        0, 0, fig.canvas.width, fig.canvas.height);\n",
       "\n",
       "    fig.rubberband_context.strokeRect(min_x, min_y, width, height);\n",
       "}\n",
       "\n",
       "mpl.figure.prototype.handle_figure_label = function(fig, msg) {\n",
       "    // Updates the figure title.\n",
       "    fig.header.textContent = msg['label'];\n",
       "}\n",
       "\n",
       "mpl.figure.prototype.handle_cursor = function(fig, msg) {\n",
       "    var cursor = msg['cursor'];\n",
       "    switch(cursor)\n",
       "    {\n",
       "    case 0:\n",
       "        cursor = 'pointer';\n",
       "        break;\n",
       "    case 1:\n",
       "        cursor = 'default';\n",
       "        break;\n",
       "    case 2:\n",
       "        cursor = 'crosshair';\n",
       "        break;\n",
       "    case 3:\n",
       "        cursor = 'move';\n",
       "        break;\n",
       "    }\n",
       "    fig.rubberband_canvas.style.cursor = cursor;\n",
       "}\n",
       "\n",
       "mpl.figure.prototype.handle_message = function(fig, msg) {\n",
       "    fig.message.textContent = msg['message'];\n",
       "}\n",
       "\n",
       "mpl.figure.prototype.handle_draw = function(fig, msg) {\n",
       "    // Request the server to send over a new figure.\n",
       "    fig.send_draw_message();\n",
       "}\n",
       "\n",
       "mpl.figure.prototype.handle_image_mode = function(fig, msg) {\n",
       "    fig.image_mode = msg['mode'];\n",
       "}\n",
       "\n",
       "mpl.figure.prototype.updated_canvas_event = function() {\n",
       "    // Called whenever the canvas gets updated.\n",
       "    this.send_message(\"ack\", {});\n",
       "}\n",
       "\n",
       "// A function to construct a web socket function for onmessage handling.\n",
       "// Called in the figure constructor.\n",
       "mpl.figure.prototype._make_on_message_function = function(fig) {\n",
       "    return function socket_on_message(evt) {\n",
       "        if (evt.data instanceof Blob) {\n",
       "            /* FIXME: We get \"Resource interpreted as Image but\n",
       "             * transferred with MIME type text/plain:\" errors on\n",
       "             * Chrome.  But how to set the MIME type?  It doesn't seem\n",
       "             * to be part of the websocket stream */\n",
       "            evt.data.type = \"image/png\";\n",
       "\n",
       "            /* Free the memory for the previous frames */\n",
       "            if (fig.imageObj.src) {\n",
       "                (window.URL || window.webkitURL).revokeObjectURL(\n",
       "                    fig.imageObj.src);\n",
       "            }\n",
       "\n",
       "            fig.imageObj.src = (window.URL || window.webkitURL).createObjectURL(\n",
       "                evt.data);\n",
       "            fig.updated_canvas_event();\n",
       "            fig.waiting = false;\n",
       "            return;\n",
       "        }\n",
       "        else if (typeof evt.data === 'string' && evt.data.slice(0, 21) == \"data:image/png;base64\") {\n",
       "            fig.imageObj.src = evt.data;\n",
       "            fig.updated_canvas_event();\n",
       "            fig.waiting = false;\n",
       "            return;\n",
       "        }\n",
       "\n",
       "        var msg = JSON.parse(evt.data);\n",
       "        var msg_type = msg['type'];\n",
       "\n",
       "        // Call the  \"handle_{type}\" callback, which takes\n",
       "        // the figure and JSON message as its only arguments.\n",
       "        try {\n",
       "            var callback = fig[\"handle_\" + msg_type];\n",
       "        } catch (e) {\n",
       "            console.log(\"No handler for the '\" + msg_type + \"' message type: \", msg);\n",
       "            return;\n",
       "        }\n",
       "\n",
       "        if (callback) {\n",
       "            try {\n",
       "                // console.log(\"Handling '\" + msg_type + \"' message: \", msg);\n",
       "                callback(fig, msg);\n",
       "            } catch (e) {\n",
       "                console.log(\"Exception inside the 'handler_\" + msg_type + \"' callback:\", e, e.stack, msg);\n",
       "            }\n",
       "        }\n",
       "    };\n",
       "}\n",
       "\n",
       "// from http://stackoverflow.com/questions/1114465/getting-mouse-location-in-canvas\n",
       "mpl.findpos = function(e) {\n",
       "    //this section is from http://www.quirksmode.org/js/events_properties.html\n",
       "    var targ;\n",
       "    if (!e)\n",
       "        e = window.event;\n",
       "    if (e.target)\n",
       "        targ = e.target;\n",
       "    else if (e.srcElement)\n",
       "        targ = e.srcElement;\n",
       "    if (targ.nodeType == 3) // defeat Safari bug\n",
       "        targ = targ.parentNode;\n",
       "\n",
       "    // jQuery normalizes the pageX and pageY\n",
       "    // pageX,Y are the mouse positions relative to the document\n",
       "    // offset() returns the position of the element relative to the document\n",
       "    var x = e.pageX - $(targ).offset().left;\n",
       "    var y = e.pageY - $(targ).offset().top;\n",
       "\n",
       "    return {\"x\": x, \"y\": y};\n",
       "};\n",
       "\n",
       "/*\n",
       " * return a copy of an object with only non-object keys\n",
       " * we need this to avoid circular references\n",
       " * http://stackoverflow.com/a/24161582/3208463\n",
       " */\n",
       "function simpleKeys (original) {\n",
       "  return Object.keys(original).reduce(function (obj, key) {\n",
       "    if (typeof original[key] !== 'object')\n",
       "        obj[key] = original[key]\n",
       "    return obj;\n",
       "  }, {});\n",
       "}\n",
       "\n",
       "mpl.figure.prototype.mouse_event = function(event, name) {\n",
       "    var canvas_pos = mpl.findpos(event)\n",
       "\n",
       "    if (name === 'button_press')\n",
       "    {\n",
       "        this.canvas.focus();\n",
       "        this.canvas_div.focus();\n",
       "    }\n",
       "\n",
       "    var x = canvas_pos.x;\n",
       "    var y = canvas_pos.y;\n",
       "\n",
       "    this.send_message(name, {x: x, y: y, button: event.button,\n",
       "                             step: event.step,\n",
       "                             guiEvent: simpleKeys(event)});\n",
       "\n",
       "    /* This prevents the web browser from automatically changing to\n",
       "     * the text insertion cursor when the button is pressed.  We want\n",
       "     * to control all of the cursor setting manually through the\n",
       "     * 'cursor' event from matplotlib */\n",
       "    event.preventDefault();\n",
       "    return false;\n",
       "}\n",
       "\n",
       "mpl.figure.prototype._key_event_extra = function(event, name) {\n",
       "    // Handle any extra behaviour associated with a key event\n",
       "}\n",
       "\n",
       "mpl.figure.prototype.key_event = function(event, name) {\n",
       "\n",
       "    // Prevent repeat events\n",
       "    if (name == 'key_press')\n",
       "    {\n",
       "        if (event.which === this._key)\n",
       "            return;\n",
       "        else\n",
       "            this._key = event.which;\n",
       "    }\n",
       "    if (name == 'key_release')\n",
       "        this._key = null;\n",
       "\n",
       "    var value = '';\n",
       "    if (event.ctrlKey && event.which != 17)\n",
       "        value += \"ctrl+\";\n",
       "    if (event.altKey && event.which != 18)\n",
       "        value += \"alt+\";\n",
       "    if (event.shiftKey && event.which != 16)\n",
       "        value += \"shift+\";\n",
       "\n",
       "    value += 'k';\n",
       "    value += event.which.toString();\n",
       "\n",
       "    this._key_event_extra(event, name);\n",
       "\n",
       "    this.send_message(name, {key: value,\n",
       "                             guiEvent: simpleKeys(event)});\n",
       "    return false;\n",
       "}\n",
       "\n",
       "mpl.figure.prototype.toolbar_button_onclick = function(name) {\n",
       "    if (name == 'download') {\n",
       "        this.handle_save(this, null);\n",
       "    } else {\n",
       "        this.send_message(\"toolbar_button\", {name: name});\n",
       "    }\n",
       "};\n",
       "\n",
       "mpl.figure.prototype.toolbar_button_onmouseover = function(tooltip) {\n",
       "    this.message.textContent = tooltip;\n",
       "};\n",
       "mpl.toolbar_items = [[\"Home\", \"Reset original view\", \"fa fa-home icon-home\", \"home\"], [\"Back\", \"Back to  previous view\", \"fa fa-arrow-left icon-arrow-left\", \"back\"], [\"Forward\", \"Forward to next view\", \"fa fa-arrow-right icon-arrow-right\", \"forward\"], [\"\", \"\", \"\", \"\"], [\"Pan\", \"Pan axes with left mouse, zoom with right\", \"fa fa-arrows icon-move\", \"pan\"], [\"Zoom\", \"Zoom to rectangle\", \"fa fa-square-o icon-check-empty\", \"zoom\"], [\"\", \"\", \"\", \"\"], [\"Download\", \"Download plot\", \"fa fa-floppy-o icon-save\", \"download\"]];\n",
       "\n",
       "mpl.extensions = [\"eps\", \"jpeg\", \"pdf\", \"png\", \"ps\", \"raw\", \"svg\", \"tif\"];\n",
       "\n",
       "mpl.default_extension = \"png\";var comm_websocket_adapter = function(comm) {\n",
       "    // Create a \"websocket\"-like object which calls the given IPython comm\n",
       "    // object with the appropriate methods. Currently this is a non binary\n",
       "    // socket, so there is still some room for performance tuning.\n",
       "    var ws = {};\n",
       "\n",
       "    ws.close = function() {\n",
       "        comm.close()\n",
       "    };\n",
       "    ws.send = function(m) {\n",
       "        //console.log('sending', m);\n",
       "        comm.send(m);\n",
       "    };\n",
       "    // Register the callback with on_msg.\n",
       "    comm.on_msg(function(msg) {\n",
       "        //console.log('receiving', msg['content']['data'], msg);\n",
       "        // Pass the mpl event to the overriden (by mpl) onmessage function.\n",
       "        ws.onmessage(msg['content']['data'])\n",
       "    });\n",
       "    return ws;\n",
       "}\n",
       "\n",
       "mpl.mpl_figure_comm = function(comm, msg) {\n",
       "    // This is the function which gets called when the mpl process\n",
       "    // starts-up an IPython Comm through the \"matplotlib\" channel.\n",
       "\n",
       "    var id = msg.content.data.id;\n",
       "    // Get hold of the div created by the display call when the Comm\n",
       "    // socket was opened in Python.\n",
       "    var element = $(\"#\" + id);\n",
       "    var ws_proxy = comm_websocket_adapter(comm)\n",
       "\n",
       "    function ondownload(figure, format) {\n",
       "        window.open(figure.imageObj.src);\n",
       "    }\n",
       "\n",
       "    var fig = new mpl.figure(id, ws_proxy,\n",
       "                           ondownload,\n",
       "                           element.get(0));\n",
       "\n",
       "    // Call onopen now - mpl needs it, as it is assuming we've passed it a real\n",
       "    // web socket which is closed, not our websocket->open comm proxy.\n",
       "    ws_proxy.onopen();\n",
       "\n",
       "    fig.parent_element = element.get(0);\n",
       "    fig.cell_info = mpl.find_output_cell(\"<div id='\" + id + \"'></div>\");\n",
       "    if (!fig.cell_info) {\n",
       "        console.error(\"Failed to find cell for figure\", id, fig);\n",
       "        return;\n",
       "    }\n",
       "\n",
       "    var output_index = fig.cell_info[2]\n",
       "    var cell = fig.cell_info[0];\n",
       "\n",
       "};\n",
       "\n",
       "mpl.figure.prototype.handle_close = function(fig, msg) {\n",
       "    fig.root.unbind('remove')\n",
       "\n",
       "    // Update the output cell to use the data from the current canvas.\n",
       "    fig.push_to_output();\n",
       "    var dataURL = fig.canvas.toDataURL();\n",
       "    // Re-enable the keyboard manager in IPython - without this line, in FF,\n",
       "    // the notebook keyboard shortcuts fail.\n",
       "    IPython.keyboard_manager.enable()\n",
       "    $(fig.parent_element).html('<img src=\"' + dataURL + '\">');\n",
       "    fig.close_ws(fig, msg);\n",
       "}\n",
       "\n",
       "mpl.figure.prototype.close_ws = function(fig, msg){\n",
       "    fig.send_message('closing', msg);\n",
       "    // fig.ws.close()\n",
       "}\n",
       "\n",
       "mpl.figure.prototype.push_to_output = function(remove_interactive) {\n",
       "    // Turn the data on the canvas into data in the output cell.\n",
       "    var dataURL = this.canvas.toDataURL();\n",
       "    this.cell_info[1]['text/html'] = '<img src=\"' + dataURL + '\">';\n",
       "}\n",
       "\n",
       "mpl.figure.prototype.updated_canvas_event = function() {\n",
       "    // Tell IPython that the notebook contents must change.\n",
       "    IPython.notebook.set_dirty(true);\n",
       "    this.send_message(\"ack\", {});\n",
       "    var fig = this;\n",
       "    // Wait a second, then push the new image to the DOM so\n",
       "    // that it is saved nicely (might be nice to debounce this).\n",
       "    setTimeout(function () { fig.push_to_output() }, 1000);\n",
       "}\n",
       "\n",
       "mpl.figure.prototype._init_toolbar = function() {\n",
       "    var fig = this;\n",
       "\n",
       "    var nav_element = $('<div/>')\n",
       "    nav_element.attr('style', 'width: 100%');\n",
       "    this.root.append(nav_element);\n",
       "\n",
       "    // Define a callback function for later on.\n",
       "    function toolbar_event(event) {\n",
       "        return fig.toolbar_button_onclick(event['data']);\n",
       "    }\n",
       "    function toolbar_mouse_event(event) {\n",
       "        return fig.toolbar_button_onmouseover(event['data']);\n",
       "    }\n",
       "\n",
       "    for(var toolbar_ind in mpl.toolbar_items){\n",
       "        var name = mpl.toolbar_items[toolbar_ind][0];\n",
       "        var tooltip = mpl.toolbar_items[toolbar_ind][1];\n",
       "        var image = mpl.toolbar_items[toolbar_ind][2];\n",
       "        var method_name = mpl.toolbar_items[toolbar_ind][3];\n",
       "\n",
       "        if (!name) { continue; };\n",
       "\n",
       "        var button = $('<button class=\"btn btn-default\" href=\"#\" title=\"' + name + '\"><i class=\"fa ' + image + ' fa-lg\"></i></button>');\n",
       "        button.click(method_name, toolbar_event);\n",
       "        button.mouseover(tooltip, toolbar_mouse_event);\n",
       "        nav_element.append(button);\n",
       "    }\n",
       "\n",
       "    // Add the status bar.\n",
       "    var status_bar = $('<span class=\"mpl-message\" style=\"text-align:right; float: right;\"/>');\n",
       "    nav_element.append(status_bar);\n",
       "    this.message = status_bar[0];\n",
       "\n",
       "    // Add the close button to the window.\n",
       "    var buttongrp = $('<div class=\"btn-group inline pull-right\"></div>');\n",
       "    var button = $('<button class=\"btn btn-mini btn-primary\" href=\"#\" title=\"Stop Interaction\"><i class=\"fa fa-power-off icon-remove icon-large\"></i></button>');\n",
       "    button.click(function (evt) { fig.handle_close(fig, {}); } );\n",
       "    button.mouseover('Stop Interaction', toolbar_mouse_event);\n",
       "    buttongrp.append(button);\n",
       "    var titlebar = this.root.find($('.ui-dialog-titlebar'));\n",
       "    titlebar.prepend(buttongrp);\n",
       "}\n",
       "\n",
       "mpl.figure.prototype._root_extra_style = function(el){\n",
       "    var fig = this\n",
       "    el.on(\"remove\", function(){\n",
       "\tfig.close_ws(fig, {});\n",
       "    });\n",
       "}\n",
       "\n",
       "mpl.figure.prototype._canvas_extra_style = function(el){\n",
       "    // this is important to make the div 'focusable\n",
       "    el.attr('tabindex', 0)\n",
       "    // reach out to IPython and tell the keyboard manager to turn it's self\n",
       "    // off when our div gets focus\n",
       "\n",
       "    // location in version 3\n",
       "    if (IPython.notebook.keyboard_manager) {\n",
       "        IPython.notebook.keyboard_manager.register_events(el);\n",
       "    }\n",
       "    else {\n",
       "        // location in version 2\n",
       "        IPython.keyboard_manager.register_events(el);\n",
       "    }\n",
       "\n",
       "}\n",
       "\n",
       "mpl.figure.prototype._key_event_extra = function(event, name) {\n",
       "    var manager = IPython.notebook.keyboard_manager;\n",
       "    if (!manager)\n",
       "        manager = IPython.keyboard_manager;\n",
       "\n",
       "    // Check for shift+enter\n",
       "    if (event.shiftKey && event.which == 13) {\n",
       "        this.canvas_div.blur();\n",
       "        event.shiftKey = false;\n",
       "        // Send a \"J\" for go to next cell\n",
       "        event.which = 74;\n",
       "        event.keyCode = 74;\n",
       "        manager.command_mode();\n",
       "        manager.handle_keydown(event);\n",
       "    }\n",
       "}\n",
       "\n",
       "mpl.figure.prototype.handle_save = function(fig, msg) {\n",
       "    fig.ondownload(fig, null);\n",
       "}\n",
       "\n",
       "\n",
       "mpl.find_output_cell = function(html_output) {\n",
       "    // Return the cell and output element which can be found *uniquely* in the notebook.\n",
       "    // Note - this is a bit hacky, but it is done because the \"notebook_saving.Notebook\"\n",
       "    // IPython event is triggered only after the cells have been serialised, which for\n",
       "    // our purposes (turning an active figure into a static one), is too late.\n",
       "    var cells = IPython.notebook.get_cells();\n",
       "    var ncells = cells.length;\n",
       "    for (var i=0; i<ncells; i++) {\n",
       "        var cell = cells[i];\n",
       "        if (cell.cell_type === 'code'){\n",
       "            for (var j=0; j<cell.output_area.outputs.length; j++) {\n",
       "                var data = cell.output_area.outputs[j];\n",
       "                if (data.data) {\n",
       "                    // IPython >= 3 moved mimebundle to data attribute of output\n",
       "                    data = data.data;\n",
       "                }\n",
       "                if (data['text/html'] == html_output) {\n",
       "                    return [cell, data, j];\n",
       "                }\n",
       "            }\n",
       "        }\n",
       "    }\n",
       "}\n",
       "\n",
       "// Register the function which deals with the matplotlib target/channel.\n",
       "// The kernel may be null if the page has been refreshed.\n",
       "if (IPython.notebook.kernel != null) {\n",
       "    IPython.notebook.kernel.comm_manager.register_target('matplotlib', mpl.mpl_figure_comm);\n",
       "}\n"
      ],
      "text/plain": [
       "<IPython.core.display.Javascript object>"
      ]
     },
     "metadata": {},
     "output_type": "display_data"
    },
    {
     "data": {
      "text/html": [
       "<img src=\"data:image/png;base64,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\">"
      ],
      "text/plain": [
       "<IPython.core.display.HTML object>"
      ]
     },
     "metadata": {},
     "output_type": "display_data"
    },
    {
     "name": "stderr",
     "output_type": "stream",
     "text": [
      "/anaconda2/lib/python2.7/site-packages/IPython/kernel/__main__.py:9: RuntimeWarning: divide by zero encountered in log10\n"
     ]
    }
   ],
   "source": [
    "# Draw the calo images and draw the selected fat jets as circles\n",
    "plt.figure(figsize=(12, 10))\n",
    "plt.subplot(221)\n",
    "plot_calo_image(hists[0])\n",
    "plot_jets(jetEtas[0], jetPhis[0])\n",
    "\n",
    "plt.subplot(222)\n",
    "plot_calo_image(hists[1])\n",
    "plot_jets(jetEtas[1], jetPhis[1])\n",
    "\n",
    "plt.subplot(223)\n",
    "plot_calo_image(hists[2])\n",
    "plot_jets(jetEtas[2], jetPhis[2])\n",
    "\n",
    "plt.subplot(224)\n",
    "plot_calo_image(hists[3])\n",
    "plot_jets(jetEtas[3], jetPhis[3])"
   ]
  },
  {
   "cell_type": "code",
   "execution_count": 19,
   "metadata": {
    "collapsed": true
   },
   "outputs": [],
   "source": [
    "num_jets = np.vectorize(lambda x: np.sum(x))\n",
    "\n",
    "from physics_selections import fatjet_deta12\n",
    "\n",
    "def fatJetDelta(entriesEta,selectedFatJets):\n",
    "    if sum(selectedFatJets) < 4:\n",
    "        return -99\n",
    "    else:\n",
    "        return fatjet_deta12(entriesEta,selectedFatJets)\n",
    "\n",
    "fatjetDelta = np.vectorize(fatJetDelta)(entries['FatJetEta'],selectedFatJets)\n",
    "\n",
    "maxpts = np.vectorize(lambda x: np.max(x))"
   ]
  },
  {
   "cell_type": "code",
   "execution_count": 20,
   "metadata": {
    "collapsed": false
   },
   "outputs": [],
   "source": [
    "def fatJetSumMass(entriesMass,selectedFatJets):\n",
    "    if sum(selectedFatJets) < 4:\n",
    "        return -99\n",
    "    else:\n",
    "        return  sum_fatjet_mass(entriesMass,selectedFatJets)\n",
    "vec_fatJetSumMass = np.vectorize(fatJetSumMass)(entries['FatJetM'],selectedFatJets)\n"
   ]
  },
  {
   "cell_type": "code",
   "execution_count": 21,
   "metadata": {
    "collapsed": false
   },
   "outputs": [
    {
     "data": {
      "text/plain": [
       "(array([   4.,   23.,   78.,  186.,  277.,  473.,  620.,  774.,  876.,\n",
       "         900.,  882.,  800.,  680.,  587.,  520.,  411.,  351.,  324.,\n",
       "         231.,  199.,  174.,  120.,  106.,   80.,   62.,   57.,   44.,\n",
       "          20.,   30.,   22.,   25.,   11.,   13.,   10.,    2.,    5.,\n",
       "           8.,    3.,    4.,    1.,    1.,    2.,    1.,    0.,    0.,\n",
       "           0.,    1.,    0.,    1.,    1.]),\n",
       " array([  274406.37207031,   321617.95654297,   368829.54101562,\n",
       "          416041.12548828,   463252.70996094,   510464.29443359,\n",
       "          557675.87890625,   604887.46337891,   652099.04785156,\n",
       "          699310.63232422,   746522.21679688,   793733.80126953,\n",
       "          840945.38574219,   888156.97021484,   935368.5546875 ,\n",
       "          982580.13916016,  1029791.72363281,  1077003.30810547,\n",
       "         1124214.89257812,  1171426.47705078,  1218638.06152344,\n",
       "         1265849.64599609,  1313061.23046875,  1360272.81494141,\n",
       "         1407484.39941406,  1454695.98388672,  1501907.56835938,\n",
       "         1549119.15283203,  1596330.73730469,  1643542.32177734,\n",
       "         1690753.90625   ,  1737965.49072266,  1785177.07519531,\n",
       "         1832388.65966797,  1879600.24414062,  1926811.82861328,\n",
       "         1974023.41308594,  2021234.99755859,  2068446.58203125,\n",
       "         2115658.16650391,  2162869.75097656,  2210081.33544922,\n",
       "         2257292.91992188,  2304504.50439453,  2351716.08886719,\n",
       "         2398927.67333984,  2446139.2578125 ,  2493350.84228516,\n",
       "         2540562.42675781,  2587774.01123047,  2634985.59570312]),\n",
       " <a list of 1 Patch objects>)"
      ]
     },
     "execution_count": 21,
     "metadata": {},
     "output_type": "execute_result"
    },
    {
     "data": {
      "image/png": "[encoded data removed]",
      "text/plain": [
       "<matplotlib.figure.Figure at 0x7f8e02cf3610>"
      ]
     },
     "metadata": {},
     "output_type": "display_data"
    }
   ],
   "source": [
    "%matplotlib inline\n",
    "plt.figure(figsize=(12, 10))\n",
    "plt.subplot(221)\n",
    "#np.histogram(jetEtas)\n",
    "plt.hist(fatjetDelta[fatjetDelta>0],bins=50, normed=True)\n",
    "\n",
    "plt.subplot(222)\n",
    "plt.hist(summedMasses[baselineEvents],bins=50, normed=True)\n",
    "\n",
    "plt.subplot(223)\n",
    "plt.hist(vec_fatJetSumMass[vec_fatJetSumMass>0],bins=50, normed=True)\n",
    "#plt.hist(num_jets(selectedFatJets))\n",
    "\n",
    "plt.subplot(224)\n",
    "plt.hist(maxpts(entries['FatJetPt']),bins=50, histtype='step')"
   ]
  },
  {
   "cell_type": "code",
   "execution_count": 22,
   "metadata": {
    "collapsed": false
   },
   "outputs": [],
   "source": [
    "#hist_handle = plt.figure()\n",
    "#import pickle as pl\n",
    "#pl.dump(hist_handle,file('Delphes-Hists.pickle','w'))"
   ]
  },
  {
   "cell_type": "code",
   "execution_count": 23,
   "metadata": {
    "collapsed": true
   },
   "outputs": [],
   "source": [
    "sys.path.append('/global/homes/w/wbhimji/cori-envs/nersc-rootpy/lib/python2.7/site-packages/')\n",
    "from rootpy.plotting import Hist\n",
    "from root_numpy import fill_hist\n",
    "from rootpy.io import root_open, DoesNotExist\n",
    "f = root_open('DelphesHistos-PileUp-Mu20_subtracted-TopDecay-HighGran.root','RECREATE')"
   ]
  },
  {
   "cell_type": "code",
   "execution_count": 24,
   "metadata": {
    "collapsed": false
   },
   "outputs": [],
   "source": [
    "hDeltaEta = Hist(100, 0, 3.2, name='DeltaEta')\n",
    "fill_hist(hDeltaEta,fatjetDelta[fatjetDelta>0])\n",
    "hSumJetMass = Hist(100, 0, 2000, name='SumJetMass')\n",
    "fill_hist(hSumJetMass,summedMasses[baselineEvents]/1000)\n",
    "hSumJetMassSelected = Hist(100, 0, 2000, name='SumJetMassSelected')\n",
    "fill_hist(hSumJetMassSelected,vec_fatJetSumMass[vec_fatJetSumMass>0]/1000)\n",
    "hMaxJetPt = Hist(100, 0, 2000, name='MaxJetPt')\n",
    "fill_hist(hMaxJetPt,maxpts(entries['FatJetPt'])/1000)\n",
    "hNumJets = Hist(100, 0, 8, name='NumJets')\n",
    "fill_hist(hNumJets,num_jets(selectedFatJets))"
   ]
  },
  {
   "cell_type": "code",
   "execution_count": 25,
   "metadata": {
    "collapsed": false
   },
   "outputs": [
    {
     "data": {
      "text/plain": [
       "False"
      ]
     },
     "execution_count": 25,
     "metadata": {},
     "output_type": "execute_result"
    }
   ],
   "source": [
    "hDeltaEta.Write()\n",
    "hSumJetMass.Write()\n",
    "hMaxJetPt.Write()\n",
    "hNumJets.Write()\n",
    "hSumJetMassSelected.Write()\n",
    "f.Close()"
   ]
  },
  {
   "cell_type": "code",
   "execution_count": 26,
   "metadata": {
    "collapsed": false
   },
   "outputs": [
    {
     "name": "stderr",
     "output_type": "stream",
     "text": [
      "/anaconda2/lib/python2.7/site-packages/IPython/kernel/__main__.py:9: RuntimeWarning: divide by zero encountered in log10\n"
     ]
    },
    {
     "data": {
      "image/png": "[encoded data removed]",
      "text/plain": [
       "<matplotlib.figure.Figure at 0x7f8dfe153250>"
      ]
     },
     "metadata": {},
     "output_type": "display_data"
    }
   ],
   "source": [
    "plot_calo_image(hists[3])\n",
    "plot_jets(jetEtas[3], jetPhis[3])"
   ]
  },
  {
   "cell_type": "code",
   "execution_count": null,
   "metadata": {
    "collapsed": true
   },
   "outputs": [],
   "source": []
  }
 ],
 "metadata": {
  "kernelspec": {
   "display_name": "pyroot",
   "language": "python",
   "name": "mykernel"
  },
  "language_info": {
   "codemirror_mode": {
    "name": "ipython",
    "version": 2
   },
   "file_extension": ".py",
   "mimetype": "text/x-python",
   "name": "python",
   "nbconvert_exporter": "python",
   "pygments_lexer": "ipython2",
   "version": "2.7.11"
  }
 },
 "nbformat": 4,
 "nbformat_minor": 0
}
