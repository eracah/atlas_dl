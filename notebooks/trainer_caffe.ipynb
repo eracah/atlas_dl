{
 "cells": [
  {
   "cell_type": "code",
   "execution_count": 2,
   "metadata": {
    "collapsed": false
   },
   "outputs": [
    {
     "ename": "ImportError",
     "evalue": "No module named 'notebooks'",
     "output_type": "error",
     "traceback": [
      "\u001b[0;31m---------------------------------------------------------------------------\u001b[0m",
      "\u001b[0;31mImportError\u001b[0m                               Traceback (most recent call last)",
      "\u001b[0;32m<ipython-input-2-f96886078a9e>\u001b[0m in \u001b[0;36m<module>\u001b[0;34m()\u001b[0m\n\u001b[1;32m      3\u001b[0m \u001b[0msys\u001b[0m\u001b[0;34m.\u001b[0m\u001b[0mmeta_path\u001b[0m\u001b[0;34m.\u001b[0m\u001b[0mappend\u001b[0m\u001b[0;34m(\u001b[0m\u001b[0mNotebookFinder\u001b[0m\u001b[0;34m(\u001b[0m\u001b[0;34m)\u001b[0m\u001b[0;34m)\u001b[0m\u001b[0;34m\u001b[0m\u001b[0m\n\u001b[1;32m      4\u001b[0m \u001b[0;32mimport\u001b[0m \u001b[0mpickle\u001b[0m\u001b[0;34m\u001b[0m\u001b[0m\n\u001b[0;32m----> 5\u001b[0;31m \u001b[0;32mfrom\u001b[0m \u001b[0mnotebooks\u001b[0m\u001b[0;34m.\u001b[0m\u001b[0mmetrics\u001b[0m\u001b[0;34m.\u001b[0m\u001b[0mobjectives\u001b[0m \u001b[0;32mimport\u001b[0m \u001b[0;34m*\u001b[0m\u001b[0;34m\u001b[0m\u001b[0m\n\u001b[0m\u001b[1;32m      6\u001b[0m \u001b[0;32mfrom\u001b[0m \u001b[0mos\u001b[0m\u001b[0;34m.\u001b[0m\u001b[0mpath\u001b[0m \u001b[0;32mimport\u001b[0m \u001b[0mjoin\u001b[0m\u001b[0;34m,\u001b[0m \u001b[0mexists\u001b[0m\u001b[0;34m\u001b[0m\u001b[0m\n\u001b[1;32m      7\u001b[0m \u001b[0;32mfrom\u001b[0m \u001b[0mos\u001b[0m \u001b[0;32mimport\u001b[0m \u001b[0mmakedirs\u001b[0m\u001b[0;34m,\u001b[0m \u001b[0mmkdir\u001b[0m\u001b[0;34m\u001b[0m\u001b[0m\n",
      "\u001b[0;31mImportError\u001b[0m: No module named 'notebooks'"
     ]
    }
   ],
   "source": [
    "from nbfinder import NotebookFinder\n",
    "import sys\n",
    "sys.meta_path.append(NotebookFinder())\n",
    "import pickle\n",
    "from notebooks.metrics.objectives import *\n",
    "from os.path import join, exists\n",
    "from os import makedirs, mkdir\n",
    "from notebooks.plotting.curve_plotter import plot_roc_curve, plot_learn_curve\n",
    "from notebooks.util import makedir_if_not_there, iterate_minibatches, save_weights\n",
    "from notebooks.metrics.metrics_processor import MetricsProcessor\n",
    "from notebooks.printing.print_utils import *\n",
    "import time\n",
    "from lasagne.layers import *\n",
    "import numpy as np\n",
    "\n",
    "class TrainVal(object):\n",
    "    def __init__(self, kwargs, fns, networks):\n",
    "        self.kwargs = kwargs\n",
    "        self.fns = fns\n",
    "        self.epoch = 0\n",
    "        self.networks = networks\n",
    "        print_network(networks, self.kwargs)\n",
    "        self.mp = MetricsProcessor(kwargs)\n",
    "        self.epoch_time = 0\n",
    "\n",
    "        \n",
    "    def train(self):\n",
    "        for epoch in range(self.kwargs[\"num_epochs\"]):\n",
    "            self.train_one_epoch()\n",
    "            \n",
    "    def test(self):\n",
    "        self._do_one_epoch(type_=\"test\")\n",
    "        print_results(self.kwargs, self.epoch, self.mp.metrics)\n",
    "    \n",
    "    def iterator(self,type_):\n",
    "        for item in self.kwargs[type_ +\"_iterator\"]:\n",
    "            yield item\n",
    "    \n",
    "    def train_one_epoch(self):\n",
    "        self._do_one_epoch(type_=\"tr\")\n",
    "        self._do_one_epoch(type_=\"val\")\n",
    "        save_weights(self.mp.metrics, self.kwargs, self.networks)\n",
    "        plot_learn_curve(self.mp.metrics, self.kwargs[\"save_path\"])\n",
    "        print_results(self.kwargs, self.epoch, self.mp.metrics)\n",
    "        self.epoch += 1\n",
    "        \n",
    "    def _do_one_epoch(self, type_=\"tr\"):\n",
    "        print(\"beginning epoch %i %s\" % (self.epoch, type_))\n",
    "        self.do_learn_loop(type_)\n",
    "        self.postprocess(type_)\n",
    "    \n",
    "    def do_learn_loop(self,type_):\n",
    "                \n",
    "        start_time = time.time()\n",
    "        batches = 0\n",
    "        for minibatch in self.iterator(type_):\n",
    "            x,y,w = [minibatch[k] for k in [\"hist\", \"y\", \"normalized_weight\"]]\n",
    "            loss = self.fns[type_](x,y,w)\n",
    "            acc = self.fns[\"acc\"](x,y,w)\n",
    "            self.mp.add_metrics(dict(loss=loss, acc=acc))\n",
    "            batches += 1\n",
    "        self.epoch_time = time.time() - start_time\n",
    "                \n",
    "        self.mp.finalize_epoch_metrics(batches)\n",
    "    \n",
    "    def fprop(self,type_):\n",
    "        pred = []\n",
    "        for minibatch in self.iterator(type_):\n",
    "            x = minibatch[\"hist\"]\n",
    "            p = self.fns[\"score\"](x)\n",
    "            pred.extend(p)\n",
    "        return pred\n",
    "    \n",
    "    def postprocess(self,type_):\n",
    "        pred = self.fprop(type_)\n",
    "        self.mp.process_metrics(type_, pred, self.epoch_time)\n",
    "        self.mp.plot_roc_curve(type_, pred, self.kwargs[\"save_path\"])"
   ]
  },
  {
   "cell_type": "code",
   "execution_count": null,
   "metadata": {
    "collapsed": true
   },
   "outputs": [],
   "source": []
  }
 ],
 "metadata": {
  "anaconda-cloud": {},
  "kernelspec": {
   "display_name": "Python [deeplearning]",
   "language": "python",
   "name": "Python [deeplearning]"
  },
  "language_info": {
   "codemirror_mode": {
    "name": "ipython",
    "version": 3
   },
   "file_extension": ".py",
   "mimetype": "text/x-python",
   "name": "python",
   "nbconvert_exporter": "python",
   "pygments_lexer": "ipython3",
   "version": "3.5.2"
  }
 },
 "nbformat": 4,
 "nbformat_minor": 0
}
