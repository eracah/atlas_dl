{
 "cells": [
  {
   "cell_type": "code",
   "execution_count": 1,
   "metadata": {
    "collapsed": true
   },
   "outputs": [],
   "source": [
    "import os\n",
    "import sys"
   ]
  },
  {
   "cell_type": "code",
   "execution_count": 2,
   "metadata": {
    "collapsed": false
   },
   "outputs": [],
   "source": [
    "def convert_nb_to_script(dir_):\n",
    "    ! jupyter nbconvert --to script $dir_/*.ipynb\n",
    "\n",
    "    #.txt means file was open/not saved so converted to .txt not .py\n",
    "    for fil in os.listdir(dir_):\n",
    "        assert '.txt' not in fil, \"Save all your notebooks first!\"\n",
    "    if dir_ is not \".\":\n",
    "        ! mv $dir_/__init__.py $dir_/__init__.pyc\n",
    "        ! mv $dir_/nbfinder.py $dir_/nbfinder.pyc        \n",
    "\n",
    "\n",
    "    ! sed -i.bak 's/# coding: utf-8/import matplotlib; matplotlib.use(\"agg\")/g' $dir_/*.py\n",
    "\n",
    "    #get rid of IN[] lines\n",
    "    ! sed -i.bak '/# IN\\[*/d' $dir_/*.py\n",
    "\n",
    "    #get rid of ipython lines\n",
    "    ! sed -i.bak '/ipython*/d' $dir_/*.py\n",
    "\n",
    "    ! sed -i.bak '/NotebookFinder*/d' $dir_/*.py\n",
    "\n",
    "    ! sed -i.bak 's/notebooks./scripts./g' $dir_/*.py\n",
    "    #get rid of IN[] lines\n",
    "    ! sed -i.bak '/# In\\[*/d' $dir_/*.py\n",
    "\n",
    "    ! sed -i.bak '/# coding:*/d' $dir_/*.py\n",
    "\n",
    "    ! sed -i.bak 's/plt.show()*/pass/g' $dir_/*.py\n",
    "\n",
    "    ! rm $dir_/*.bak\n",
    "    \n",
    "\n",
    "    if dir_ is not \".\":\n",
    "        subdir = \"/\".join(dir_.split(\"notebooks/\")[1:])\n",
    "        if not os.path.exists(os.path.join(\"./scripts\", subdir)):\n",
    "            os.makedirs(os.path.join(\"./scripts\", subdir))\n",
    "        #move to scripts\n",
    "        ! mv $dir_/*.py ./scripts/$subdir\n",
    "        \n",
    "        ! mv $dir_/__init__.pyc $dir_/__init__.py\n",
    "        ! mv $dir_/nbfinder.pyc $dir_/nbfinder.py\n",
    "        ! cp $dir_/nbfinder.py ./scripts/$subdir\n",
    "        ! cp $dir_/__init__.py ./scripts/$subdir\n",
    "    else:\n",
    "        ! rm $dir_/convert_nb_to_scripts.py"
   ]
  },
  {
   "cell_type": "code",
   "execution_count": null,
   "metadata": {
    "collapsed": false
   },
   "outputs": [
    {
     "name": "stdout",
     "output_type": "stream",
     "text": [
      "[NbConvertApp] Converting notebook ./notebooks/printing//print_n_plot.ipynb to script\n",
      "[NbConvertApp] Writing 4415 bytes to ./notebooks/printing/print_n_plot.py\n",
      "[NbConvertApp] Converting notebook ./notebooks/printing//print_utils.ipynb to script\n",
      "[NbConvertApp] Writing 1578 bytes to ./notebooks/printing/print_utils.py\n"
     ]
    }
   ],
   "source": [
    "convert_nb_to_script(\"./notebooks/printing/\")"
   ]
  },
  {
   "cell_type": "code",
   "execution_count": null,
   "metadata": {
    "collapsed": false
   },
   "outputs": [
    {
     "name": "stdout",
     "output_type": "stream",
     "text": [
      "./notebooks\n",
      "[NbConvertApp] Converting notebook ./notebooks/hep_autoencoder.ipynb to script\n",
      "[NbConvertApp] Writing 22545 bytes to ./notebooks/hep_autoencoder.py\n"
     ]
    }
   ],
   "source": [
    "for dirpath, dirs, files in os.walk(\"./notebooks\"):\n",
    "    if not \".ipynb_checkpoint\" in dirpath:\n",
    "        print(dirpath)\n",
    "        convert_nb_to_script(dirpath)\n",
    "convert_nb_to_script(\".\")"
   ]
  },
  {
   "cell_type": "code",
   "execution_count": null,
   "metadata": {
    "collapsed": true
   },
   "outputs": [],
   "source": []
  }
 ],
 "metadata": {
  "anaconda-cloud": {},
  "kernelspec": {
   "display_name": "Python [deeplearning]",
   "language": "python",
   "name": "Python [deeplearning]"
  },
  "language_info": {
   "codemirror_mode": {
    "name": "ipython",
    "version": 3
   },
   "file_extension": ".py",
   "mimetype": "text/x-python",
   "name": "python",
   "nbconvert_exporter": "python",
   "pygments_lexer": "ipython3",
   "version": "3.5.2"
  }
 },
 "nbformat": 4,
 "nbformat_minor": 0
}
