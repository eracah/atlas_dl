{
 "cells": [
  {
   "cell_type": "code",
   "execution_count": 4,
   "metadata": {
    "collapsed": false
   },
   "outputs": [
    {
     "ename": "ImportError",
     "evalue": "cannot import name 'setup_configs'",
     "output_type": "error",
     "traceback": [
      "\u001b[0;31m---------------------------------------------------------------------------\u001b[0m",
      "\u001b[0;31mImportError\u001b[0m                               Traceback (most recent call last)",
      "\u001b[0;32m<ipython-input-4-0deb3e80d8b5>\u001b[0m in \u001b[0;36m<module>\u001b[0;34m()\u001b[0m\n\u001b[1;32m      2\u001b[0m \u001b[0;32mfrom\u001b[0m \u001b[0mscripts\u001b[0m\u001b[0;34m.\u001b[0m\u001b[0mnbfinder\u001b[0m \u001b[0;32mimport\u001b[0m \u001b[0mNotebookFinder\u001b[0m\u001b[0;34m\u001b[0m\u001b[0m\n\u001b[1;32m      3\u001b[0m \u001b[0msys\u001b[0m\u001b[0;34m.\u001b[0m\u001b[0mmeta_path\u001b[0m\u001b[0;34m.\u001b[0m\u001b[0mappend\u001b[0m\u001b[0;34m(\u001b[0m\u001b[0mNotebookFinder\u001b[0m\u001b[0;34m(\u001b[0m\u001b[0;34m)\u001b[0m\u001b[0;34m)\u001b[0m\u001b[0;34m\u001b[0m\u001b[0m\n\u001b[0;32m----> 4\u001b[0;31m \u001b[0;32mfrom\u001b[0m \u001b[0mnotebooks\u001b[0m\u001b[0;34m.\u001b[0m\u001b[0mconfigs\u001b[0m\u001b[0;34m.\u001b[0m\u001b[0msetup_configs_caffe\u001b[0m \u001b[0;32mimport\u001b[0m \u001b[0msetup_configs\u001b[0m\u001b[0;34m\u001b[0m\u001b[0m\n\u001b[0m\u001b[1;32m      5\u001b[0m \u001b[0;32mfrom\u001b[0m \u001b[0mnotebooks\u001b[0m\u001b[0;34m.\u001b[0m\u001b[0mtrainer_caffe\u001b[0m \u001b[0;32mimport\u001b[0m \u001b[0mTrainVal\u001b[0m\u001b[0;34m\u001b[0m\u001b[0m\n",
      "\u001b[0;31mImportError\u001b[0m: cannot import name 'setup_configs'"
     ]
    }
   ],
   "source": [
    "import sys\n",
    "from scripts.nbfinder import NotebookFinder\n",
    "sys.meta_path.append(NotebookFinder())\n",
    "from notebooks.configs.setup_configs_caffe import setup_configs\n",
    "from notebooks.trainer_caffe import TrainVal"
   ]
  },
  {
   "cell_type": "code",
   "execution_count": null,
   "metadata": {
    "collapsed": false
   },
   "outputs": [
    {
     "name": "stderr",
     "output_type": "stream",
     "text": [
      "{'ae': False, 'num_layers': 3, 'dropout_p': 0.0, 'seed': 7, 'num_epochs': 20000, 'weight_decay': 0.0, 'num_val': -1, 'sig_eff_at': 0.9996, 'save_path': './results/run108', 'num_fc_units': 512, 'test': False, 'logger': <logging.Logger object at 0x7fa7827a69d0>, 'val_file': '/home/evan/data/atlas/val.h5', 'momentum': 0.9, 'test_file': '/home/evan/data/atlas/test.h5', 'learning_rate': 1e-05, 'input_shape': (None, 1, 64, 64), 'batch_size': 1024, 'tr_iterator': <notebooks.load_data.data_loader.DataIterator object at 0x7fa7827aab90>, 'num_tr': -1, 'loader_kwargs': {'keys': ['hist', 'weight', 'normalized_weight', 'y'], 'groupname': 'all_events', 'batch_size': 128}, 'val_iterator': <notebooks.load_data.data_loader.DataIterator object at 0x7fa7827d0350>, 'mode': 'classif', 'num_filters': 128, 'tr_file': '/home/evan/data/atlas/train.h5'}\n",
      "<lasagne.layers.input.InputLayer object at 0x7fa7827a6a50>(None, 1, 64, 64)\n",
      "<lasagne.layers.conv.Conv2DLayer object at 0x7fa7827aaf50>(None, 128, 64, 64)\n",
      "<lasagne.layers.normalization.BatchNormLayer object at 0x7fa782108490>(None, 128, 64, 64)\n",
      "<lasagne.layers.special.NonlinearityLayer object at 0x7fa78211d150>(None, 128, 64, 64)\n",
      "<lasagne.layers.pool.MaxPool2DLayer object at 0x7fa78211d310>(None, 128, 32, 32)\n",
      "<lasagne.layers.conv.Conv2DLayer object at 0x7fa78211d350>(None, 128, 32, 32)\n",
      "<lasagne.layers.normalization.BatchNormLayer object at 0x7fa78211d610>(None, 128, 32, 32)\n",
      "<lasagne.layers.special.NonlinearityLayer object at 0x7fa7827a6e50>(None, 128, 32, 32)\n",
      "<lasagne.layers.pool.MaxPool2DLayer object at 0x7fa7827a6c50>(None, 128, 16, 16)\n",
      "<lasagne.layers.conv.Conv2DLayer object at 0x7fa7827a6b50>(None, 128, 16, 16)\n",
      "<lasagne.layers.normalization.BatchNormLayer object at 0x7fa7827a6ed0>(None, 128, 16, 16)\n",
      "<lasagne.layers.special.NonlinearityLayer object at 0x7fa7827aa350>(None, 128, 16, 16)\n",
      "<lasagne.layers.pool.MaxPool2DLayer object at 0x7fa7827aa050>(None, 128, 8, 8)\n",
      "<lasagne.layers.noise.DropoutLayer object at 0x7fa7827aaf10>(None, 128, 8, 8)\n",
      "<lasagne.layers.dense.DenseLayer object at 0x7fa7827aa150>(None, 512)\n",
      "<lasagne.layers.noise.DropoutLayer object at 0x7fa78211dd50>(None, 512)\n",
      "<lasagne.layers.dense.DenseLayer object at 0x7fa78211df90>(None, 2)\n"
     ]
    },
    {
     "name": "stdout",
     "output_type": "stream",
     "text": [
      "4493442\n"
     ]
    },
    {
     "name": "stderr",
     "output_type": "stream",
     "text": [
      "\n",
      "\n",
      "<lasagne.layers.input.InputLayer object at 0x7fa7827a6a50> : (None, 1, 64, 64)\n",
      "<lasagne.layers.conv.Conv2DLayer object at 0x7fa7827aaf50> : (None, 128, 64, 64)\n",
      "<lasagne.layers.normalization.BatchNormLayer object at 0x7fa782108490> : (None, 128, 64, 64)\n",
      "<lasagne.layers.special.NonlinearityLayer object at 0x7fa78211d150> : (None, 128, 64, 64)\n",
      "<lasagne.layers.pool.MaxPool2DLayer object at 0x7fa78211d310> : (None, 128, 32, 32)\n",
      "<lasagne.layers.conv.Conv2DLayer object at 0x7fa78211d350> : (None, 128, 32, 32)\n",
      "<lasagne.layers.normalization.BatchNormLayer object at 0x7fa78211d610> : (None, 128, 32, 32)\n",
      "<lasagne.layers.special.NonlinearityLayer object at 0x7fa7827a6e50> : (None, 128, 32, 32)\n",
      "<lasagne.layers.pool.MaxPool2DLayer object at 0x7fa7827a6c50> : (None, 128, 16, 16)\n",
      "<lasagne.layers.conv.Conv2DLayer object at 0x7fa7827a6b50> : (None, 128, 16, 16)\n",
      "<lasagne.layers.normalization.BatchNormLayer object at 0x7fa7827a6ed0> : (None, 128, 16, 16)\n",
      "<lasagne.layers.special.NonlinearityLayer object at 0x7fa7827aa350> : (None, 128, 16, 16)\n",
      "<lasagne.layers.pool.MaxPool2DLayer object at 0x7fa7827aa050> : (None, 128, 8, 8)\n",
      "<lasagne.layers.noise.DropoutLayer object at 0x7fa7827aaf10> : (None, 128, 8, 8)\n",
      "<lasagne.layers.dense.DenseLayer object at 0x7fa7827aa150> : (None, 512)\n",
      "<lasagne.layers.noise.DropoutLayer object at 0x7fa78211dd50> : (None, 512)\n",
      "<lasagne.layers.dense.DenseLayer object at 0x7fa78211df90> : (None, 2)\n",
      "Total Parameters: 4493442\n",
      "\n",
      "\n"
     ]
    },
    {
     "name": "stdout",
     "output_type": "stream",
     "text": [
      "beginning epoch 0 tr\n"
     ]
    }
   ],
   "source": [
    "if __name__ == \"__main__\":\n",
    "    \n",
    "    configs = setup_configs_caffe()\n",
    "    networks, fns = configs[\"net\"].build_network(configs, configs[\"net\"].build_layers(configs))\n",
    "    tv = TrainVal(configs, fns, networks)\n",
    "    if configs[\"test\"]:\n",
    "        tv.test()\n",
    "    else:\n",
    "        tv.train()"
   ]
  },
  {
   "cell_type": "code",
   "execution_count": null,
   "metadata": {
    "collapsed": true
   },
   "outputs": [],
   "source": []
  },
  {
   "cell_type": "code",
   "execution_count": null,
   "metadata": {
    "collapsed": true
   },
   "outputs": [],
   "source": []
  }
 ],
 "metadata": {
  "anaconda-cloud": {},
  "kernelspec": {
   "display_name": "Python [deeplearning]",
   "language": "python",
   "name": "Python [deeplearning]"
  },
  "language_info": {
   "codemirror_mode": {
    "name": "ipython",
    "version": 3
   },
   "file_extension": ".py",
   "mimetype": "text/x-python",
   "name": "python",
   "nbconvert_exporter": "python",
   "pygments_lexer": "ipython3",
   "version": "3.5.2"
  }
 },
 "nbformat": 4,
 "nbformat_minor": 0
}
